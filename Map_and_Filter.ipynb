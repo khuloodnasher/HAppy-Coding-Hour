{
  "nbformat": 4,
  "nbformat_minor": 0,
  "metadata": {
    "colab": {
      "name": "Map and Filter.ipynb",
      "provenance": [],
      "authorship_tag": "ABX9TyNpwvk+OSOqJfl5SQYf0lOt",
      "include_colab_link": true
    },
    "kernelspec": {
      "name": "python3",
      "display_name": "Python 3"
    },
    "language_info": {
      "name": "python"
    }
  },
  "cells": [
    {
      "cell_type": "markdown",
      "metadata": {
        "id": "view-in-github",
        "colab_type": "text"
      },
      "source": [
        "<a href=\"https://colab.research.google.com/github/khuloodnasher/HAppy-Coding-Hour/blob/master/Map_and_Filter.ipynb\" target=\"_parent\"><img src=\"https://colab.research.google.com/assets/colab-badge.svg\" alt=\"Open In Colab\"/></a>"
      ]
    },
    {
      "cell_type": "code",
      "execution_count": 3,
      "metadata": {
        "colab": {
          "base_uri": "https://localhost:8080/"
        },
        "id": "8N1DiX9rwlql",
        "outputId": "4a293d4e-5fa2-4a81-c71e-230a5fdb807b"
      },
      "outputs": [
        {
          "output_type": "stream",
          "name": "stdout",
          "text": [
            "[4, 25, 9, 1]\n"
          ]
        }
      ],
      "source": [
        "#square through for loop\n",
        "list_num=[2,5,3,1]\n",
        "# square fun\n",
        "#def squared(num):\n",
        "squred_list=[]\n",
        "for num in list_num:\n",
        "  num= num**2\n",
        "  squred_list.append(num)\n",
        "print(squred_list)\n"
      ]
    },
    {
      "cell_type": "code",
      "source": [
        "# square thruogh defining function\n",
        "def squred(num):\n",
        "  return num**2\n",
        "squred_list=[]\n",
        "num_list=[0,1,2,3]\n",
        "for num in num_list:\n",
        "  squred_list.append(squred(num))\n",
        "\n",
        "print(squred_list)"
      ],
      "metadata": {
        "colab": {
          "base_uri": "https://localhost:8080/"
        },
        "id": "O1Ei2dAUy8DO",
        "outputId": "ffc7797f-34b9-4516-e7d8-bfd6ebe8817f"
      },
      "execution_count": 7,
      "outputs": [
        {
          "output_type": "stream",
          "name": "stdout",
          "text": [
            "[0, 1, 4, 9]\n"
          ]
        }
      ]
    },
    {
      "cell_type": "code",
      "source": [
        "#map function we dont need for loop, in map function we just need to add our function, our sequesne which is list and get the output as new list\n",
        "num_list1=[2,4,7]\n",
        "squred_list1=list(map(squred,num_list1))\n",
        "print(squred_list1)"
      ],
      "metadata": {
        "colab": {
          "base_uri": "https://localhost:8080/"
        },
        "id": "To-q-5gv0xP2",
        "outputId": "2662694d-7ea6-4e2e-fd8b-d53c791bb6bd"
      },
      "execution_count": 10,
      "outputs": [
        {
          "output_type": "stream",
          "name": "stdout",
          "text": [
            "[4, 16, 49]\n"
          ]
        }
      ]
    },
    {
      "cell_type": "code",
      "source": [
        "# using map function with lambda for square instead of building our function\n",
        "num_list1=[2,4,7]\n",
        "squared_list= list(map(lambda x: x**2,num_list1))\n",
        "print(squared_list)"
      ],
      "metadata": {
        "colab": {
          "base_uri": "https://localhost:8080/"
        },
        "id": "6RJNcaKb9m3n",
        "outputId": "0498f0d9-8a17-478e-bcfe-0716c98c9204"
      },
      "execution_count": 1,
      "outputs": [
        {
          "output_type": "stream",
          "name": "stdout",
          "text": [
            "[4, 16, 49]\n"
          ]
        }
      ]
    },
    {
      "cell_type": "code",
      "source": [
        "# conditional function for finiding even number \"num%2==0\"\n",
        "def is_even(num):\n",
        "  return num%2==0\n",
        "\n",
        "\n",
        "my_list=[3,4,5,6,8]\n",
        "even_list=[]\n",
        "\n",
        "for num in my_list:\n",
        "   if is_even(num)==True:\n",
        "     even_list.append(num)\n",
        "print(even_list)"
      ],
      "metadata": {
        "colab": {
          "base_uri": "https://localhost:8080/"
        },
        "id": "Yy0Bcv36-Ms5",
        "outputId": "19d72336-4813-462d-82de-d1f348fb544d"
      },
      "execution_count": 5,
      "outputs": [
        {
          "output_type": "stream",
          "name": "stdout",
          "text": [
            "[4, 6, 8]\n"
          ]
        }
      ]
    },
    {
      "cell_type": "code",
      "source": [
        "# using built in python function \"filter\" to achieve the condition\n",
        "def is_even(num):\n",
        "  return num%2==0\n",
        "\n",
        "\n",
        "my_list=[30,4,5,6,8]\n",
        "even_list_3=list(filter(is_even,my_list))\n",
        "even_list_3"
      ],
      "metadata": {
        "colab": {
          "base_uri": "https://localhost:8080/"
        },
        "id": "GK0g0IHJE6rl",
        "outputId": "6edd3008-841d-4205-8c1a-b1fd05bfff98"
      },
      "execution_count": 17,
      "outputs": [
        {
          "output_type": "execute_result",
          "data": {
            "text/plain": [
              "[30, 4, 6, 8]"
            ]
          },
          "metadata": {},
          "execution_count": 17
        }
      ]
    },
    {
      "cell_type": "code",
      "source": [
        "# filter function with Lambda\n",
        "my_list1=[1,21,30,4,5,6]\n",
        "even_list_1=list(filter(lambda x:x%2==0,my_list1))\n",
        "print(even_list_1)"
      ],
      "metadata": {
        "colab": {
          "base_uri": "https://localhost:8080/"
        },
        "id": "1Asx2eIzCGXp",
        "outputId": "81baa231-06f7-4666-c310-94dec4b9739e"
      },
      "execution_count": 18,
      "outputs": [
        {
          "output_type": "stream",
          "name": "stdout",
          "text": [
            "[30, 4, 6]\n"
          ]
        }
      ]
    },
    {
      "cell_type": "markdown",
      "source": [
        "# Conclusion \n",
        "Map function and filter function are built in fuctions in python\n",
        "it shotened our python code because we do not need to write iteration of \"for loop\" \n",
        "So all we need to define a function which is our first argument that we will pass it to map or filter object and a sequence which is list or string\n",
        "then we wrute the function inside the filter object we just write its name without a need to mention its argument as we did in the function \"is_even\" and \"squred\" we wrote them like filter/map(sqred/is_even, my_list)  and i have to put the whole thing insidee a list  to get the output. \n",
        "Also filter is used with conditions because is good for selecting or filtering elements if condition== True\n",
        "however in for loop when im cheching my condition or just iterating when i mention my function i have also to mention the argument of the function  e.x for num in my list:\n",
        " my_empty_list.append(my_func(num))\n",
        "\n",
        " "
      ],
      "metadata": {
        "id": "sE82_-e8Hj3S"
      }
    },
    {
      "cell_type": "code",
      "source": [
        ""
      ],
      "metadata": {
        "id": "6TLqQ81xC4_V"
      },
      "execution_count": null,
      "outputs": []
    }
  ]
}