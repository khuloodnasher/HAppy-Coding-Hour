{
  "nbformat": 4,
  "nbformat_minor": 0,
  "metadata": {
    "colab": {
      "name": "pytthon for all corseraipynb",
      "provenance": [],
      "authorship_tag": "ABX9TyMFdXw7zsnRc1SdqaDJ6gQC",
      "include_colab_link": true
    },
    "kernelspec": {
      "name": "python3",
      "display_name": "Python 3"
    },
    "language_info": {
      "name": "python"
    }
  },
  "cells": [
    {
      "cell_type": "markdown",
      "metadata": {
        "id": "view-in-github",
        "colab_type": "text"
      },
      "source": [
        "<a href=\"https://colab.research.google.com/github/khuloodnasher/HAppy-Coding-Hour/blob/master/pytthon_for_all_corseraipynb.ipynb\" target=\"_parent\"><img src=\"https://colab.research.google.com/assets/colab-badge.svg\" alt=\"Open In Colab\"/></a>"
      ]
    },
    {
      "cell_type": "code",
      "execution_count": null,
      "metadata": {
        "colab": {
          "base_uri": "https://localhost:8080/"
        },
        "id": "R7FPeN-nvuB5",
        "outputId": "041175ed-3d62-4c4b-811b-e8e9da135e16"
      },
      "outputs": [
        {
          "output_type": "stream",
          "name": "stdout",
          "text": [
            "enter your name،اعمخهي\n",
            "هلا وغلا ،اعمخهي\n"
          ]
        }
      ],
      "source": [
        "name=input(\"enter your name\")\n",
        "print('هلا وغلا', name )"
      ]
    },
    {
      "cell_type": "code",
      "source": [
        "#  Write a program to prompt the user for hours and rate per hour using input to compute gross pay. Use 35 hours and a rate of 2.75 per hour to test the program (the pay should be 96.25). You should use input to read a string and float() to convert the string to a number. Do not worry about error checking or bad user data.\n",
        "\n",
        "hrs = input(\"Enter Hours:\")\n",
        "rate= input(\"Enter Rate per hour:\")\n",
        "pay= float(rate)*float(hrs)\n",
        "print(\"Pay:\",pay)"
      ],
      "metadata": {
        "colab": {
          "base_uri": "https://localhost:8080/"
        },
        "id": "_I-euaCpv76H",
        "outputId": "62ed8fff-bdfe-4a1f-ce96-0141735b7b8e"
      },
      "execution_count": null,
      "outputs": [
        {
          "output_type": "stream",
          "name": "stdout",
          "text": [
            "Enter Hours:35\n",
            "Enter Rate per hour:2.75\n",
            "Pay: 96.25\n"
          ]
        }
      ]
    },
    {
      "cell_type": "code",
      "source": [
        "\n",
        "x=5\n",
        "if x<10:\n",
        "\tprint('Smaller')\n",
        "if x>20:\n",
        "\tprint('Bigger')\n",
        "\n",
        "print ('Finis')\n"
      ],
      "metadata": {
        "id": "2D0wYhu0yuiy",
        "colab": {
          "base_uri": "https://localhost:8080/"
        },
        "outputId": "d8326cb6-af4e-43c9-e39c-d2586df0249e"
      },
      "execution_count": null,
      "outputs": [
        {
          "output_type": "stream",
          "name": "stdout",
          "text": [
            "Smaller\n",
            "Finis\n"
          ]
        }
      ]
    },
    {
      "cell_type": "code",
      "source": [
        "x=5\n",
        "if x==5:\n",
        "  print (' Equals 5')\n",
        "if x>= 5:\n",
        "  print ('Greeater than or euqual 5')\n",
        "if x<6:print('less than 6')\n",
        "\n"
      ],
      "metadata": {
        "colab": {
          "base_uri": "https://localhost:8080/"
        },
        "id": "3xR_llNLqsTF",
        "outputId": "f2254e2a-893a-458b-a8cc-c0fc843cc4cc"
      },
      "execution_count": null,
      "outputs": [
        {
          "output_type": "stream",
          "name": "stdout",
          "text": [
            " Equals 5\n",
            "Greeater than or euqual 5\n",
            "less than 6\n"
          ]
        }
      ]
    },
    {
      "cell_type": "code",
      "source": [
        "18/20\n"
      ],
      "metadata": {
        "colab": {
          "base_uri": "https://localhost:8080/"
        },
        "id": "ZHM2GtIiy11p",
        "outputId": "2cf48e27-4ffe-4b65-9b2b-3c54eea8302c"
      },
      "execution_count": null,
      "outputs": [
        {
          "output_type": "execute_result",
          "data": {
            "text/plain": [
              "0.9"
            ]
          },
          "metadata": {},
          "execution_count": 1
        }
      ]
    },
    {
      "cell_type": "code",
      "source": [
        "0.9*3.8"
      ],
      "metadata": {
        "colab": {
          "base_uri": "https://localhost:8080/"
        },
        "id": "sjaerfLIKIXZ",
        "outputId": "e32e5827-5916-47d8-86b5-b8ae75ab1e6e"
      },
      "execution_count": null,
      "outputs": [
        {
          "output_type": "execute_result",
          "data": {
            "text/plain": [
              "3.42"
            ]
          },
          "metadata": {},
          "execution_count": 2
        }
      ]
    },
    {
      "cell_type": "code",
      "source": [
        "# try/ except same as if elif else but it is used to avoid blocking the sceipt if you are doubt in part of your code\n",
        "astr='Hello Bob'\n",
        "try:\n",
        "  istr=int(astr) # if this wrong it will be skipped and runs the except statment\n",
        "except:\n",
        "  istr=-1\n",
        "print('First', istr)\n",
        "\n",
        "astr='123'\n",
        "try:\n",
        "  istr=int(astr) # since this statment is right it will be run and skipp its except statement\n",
        "except:\n",
        "  istr=-1\n",
        "\n",
        "print('second',istr)\n",
        "\n",
        "\n"
      ],
      "metadata": {
        "colab": {
          "base_uri": "https://localhost:8080/"
        },
        "id": "CtJLxcpzKorR",
        "outputId": "d8af4f05-356f-4ae9-b130-165d06890515"
      },
      "execution_count": null,
      "outputs": [
        {
          "output_type": "stream",
          "name": "stdout",
          "text": [
            "First -1\n",
            "second 123\n"
          ]
        }
      ]
    },
    {
      "cell_type": "code",
      "source": [
        "# when use try/except don't include كود مؤكد انه صح مثل طباعة there مع كود مشكوك فيه\n",
        "astr='Bob'\n",
        "try:\n",
        "  print('Hello') # right statment will be run\n",
        "  istr=int(astr) # wrong statment will not run therefore will exit to except statment\n",
        "  print('There')\n",
        "\n",
        "except:\n",
        "\tistr=-1 # line run becuase it is right and will run the next line\n",
        "print('Done', istr)\n"
      ],
      "metadata": {
        "colab": {
          "base_uri": "https://localhost:8080/"
        },
        "id": "xPcYszAQraDe",
        "outputId": "5530d389-4fd5-4216-a687-a4eb53a47751"
      },
      "execution_count": null,
      "outputs": [
        {
          "output_type": "stream",
          "name": "stdout",
          "text": [
            "Hello\n",
            "Done -1\n"
          ]
        }
      ]
    },
    {
      "cell_type": "code",
      "source": [
        "#مثال على استخدام try /except if the input isnumber try statment will run, if not except will run\n",
        "rawstr=input('Enter a number: ')\n",
        "try:\n",
        "\tival=int(rawstr)\n",
        "except:\n",
        "\tival=-1\n",
        "if ival>0:\n",
        "\tprint('Nice work')\n",
        "else:\n",
        "\tprint('Not a number')\n",
        "\n"
      ],
      "metadata": {
        "colab": {
          "base_uri": "https://localhost:8080/"
        },
        "id": "vT6dDe7uz88P",
        "outputId": "756d7e73-fe8e-4372-f42c-02348ddaa96d"
      },
      "execution_count": null,
      "outputs": [
        {
          "output_type": "stream",
          "name": "stdout",
          "text": [
            "Enter a number: thirty four\n",
            "Not a number\n"
          ]
        }
      ]
    },
    {
      "cell_type": "code",
      "source": [
        "x=5\n",
        "if x == 6 :\n",
        "    print('Is 6')\n",
        "    print('Is Still 6')\n",
        "    print('Third 6')"
      ],
      "metadata": {
        "id": "58V8XJhh6wMm"
      },
      "execution_count": null,
      "outputs": []
    },
    {
      "cell_type": "markdown",
      "source": [
        "Write a program to prompt the user for hours and rate per hour using input to compute gross pay. Pay the hourly rate for the hours up to 40 and 1.5 times the hourly rate for all hours worked above 40 hours. Use 45 hours and a rate of 10.50 per hour to test the program (the pay should be 498.75). You should use input to read a string and float() to convert the string to a number. Do not worry about error checking the user input - assume the user types numbers properly."
      ],
      "metadata": {
        "id": "HZJn6t3ZSv3P"
      }
    },
    {
      "cell_type": "code",
      "source": [
        "hrs = input(\"Enter Hours:\")\n",
        "rate_per_hour=input('rate per hour')\n",
        "rate=float(rate_per_hour)# the output of input statment is always string even if user add numeric therfore must be coonverted to flooat\n",
        "h = float(hrs)\n",
        "over_time=rate*1.5*(h-40)\n",
        "\n",
        "\n",
        "if h<=40:\n",
        "  gross_pay= h*rate\n",
        "elif h> 40:\n",
        "  gross_pay=40*rate+over_time\n",
        "\n",
        "print(gross_pay)"
      ],
      "metadata": {
        "colab": {
          "base_uri": "https://localhost:8080/"
        },
        "id": "QSDba8GU_u4w",
        "outputId": "5bef4806-bffe-4d38-c48e-4693a769bc57"
      },
      "execution_count": null,
      "outputs": [
        {
          "output_type": "stream",
          "name": "stdout",
          "text": [
            "Enter Hours:45\n",
            "rate per hour10.5\n",
            "gross pay is: $498.75\n"
          ]
        }
      ]
    },
    {
      "cell_type": "code",
      "source": [
        "\n",
        "hrs = input(\"Enter Hours:\")\n",
        "h = float(hrs)\n",
        "rate_per_hour=input('rate per hour')\n",
        "rate=float(rate_per_hour)# the output of input statment is always string even if user add numeric therfore must be coonverted to flooat\n",
        "\n",
        "over_time=rate*1.5*(h-40)\n",
        "\n",
        "\n",
        "if h<=40:\n",
        "  gross_pay= h*rate\n",
        "elif h> 40:\n",
        "  gross_pay=40*rate+over_time\n",
        "\n",
        "print(gross_pay)"
      ],
      "metadata": {
        "id": "prr7IQ4OWJTG"
      },
      "execution_count": null,
      "outputs": []
    },
    {
      "cell_type": "code",
      "source": [
        ""
      ],
      "metadata": {
        "id": "PU51-r2rv1DH"
      },
      "execution_count": null,
      "outputs": []
    },
    {
      "cell_type": "markdown",
      "source": [
        "Write a program to prompt for a score between 0.0 and 1.0. If the score is out of range, print an error. If the score is between 0.0 and 1.0, print a grade using the following table:\n",
        "Score Grade\n",
        ">= 0.9 A\n",
        ">= 0.8 B\n",
        ">= 0.7 C\n",
        ">= 0.6 D\n",
        "< 0.6 F\n",
        "If the user enters a value out of range, print a suitable error message and exit. For the test, enter a score of 0.85.\n"
      ],
      "metadata": {
        "id": "X5XXHIQU1_Vc"
      }
    },
    {
      "cell_type": "code",
      "source": [
        "#secoond assignment of week 5\n",
        "score = input(\"Enter Score: \")\n",
        "score = float(score)\n",
        "\n",
        "if(score<0.0) or (score>1.0) :\n",
        "  print(\"error\")\n",
        "\n",
        "if (score >= 0.9) and(score <= 1.0) :\n",
        "  print(\"A\")\n",
        "elif (score>=0.8)and  (score<0.9):\n",
        "  print(\"B\")\n",
        "elif (score>=0.7) and (score<=0.8):\n",
        "  print(\"C\")\n",
        "elif (score>=0.6) and (score<=0.7) :\n",
        "  print(\"D\")\n",
        "elif score<0.6:\n",
        "  print(\"F\")\n",
        "else:\n",
        "  print('score oout of range')\n",
        "\n"
      ],
      "metadata": {
        "colab": {
          "base_uri": "https://localhost:8080/"
        },
        "id": "eH6LLwN89Kc8",
        "outputId": "6e03712a-72ae-4c56-e701-0ad0d3947bd0"
      },
      "execution_count": null,
      "outputs": [
        {
          "output_type": "stream",
          "name": "stdout",
          "text": [
            "Enter Score: 0.85\n",
            "B\n"
          ]
        }
      ]
    },
    {
      "cell_type": "code",
      "source": [
        "def stuff():\n",
        "    print('Hello')\n",
        "    #return\n",
        "    print('World')\n",
        "\n",
        "stuff()"
      ],
      "metadata": {
        "colab": {
          "base_uri": "https://localhost:8080/"
        },
        "id": "TKrH50JNEcqM",
        "outputId": "83dbc12e-996f-4ee1-c595-c9f9820abf7f"
      },
      "execution_count": null,
      "outputs": [
        {
          "output_type": "stream",
          "name": "stdout",
          "text": [
            "Hello\n",
            "World\n"
          ]
        }
      ]
    },
    {
      "cell_type": "code",
      "source": [
        "def addtwo(a, b):\n",
        "    added = a + b\n",
        "    return a\n",
        "\n",
        "x = addtwo(2, 7)\n",
        "print(x)\n"
      ],
      "metadata": {
        "colab": {
          "base_uri": "https://localhost:8080/"
        },
        "id": "QQRmBvbzmjZ9",
        "outputId": "ce76b2b8-0c4a-4448-f409-edbf2b112e81"
      },
      "execution_count": null,
      "outputs": [
        {
          "output_type": "stream",
          "name": "stdout",
          "text": [
            "2\n"
          ]
        }
      ]
    },
    {
      "cell_type": "code",
      "source": [
        ""
      ],
      "metadata": {
        "id": "cCY8pJJQnaXX"
      },
      "execution_count": null,
      "outputs": []
    },
    {
      "cell_type": "markdown",
      "source": [
        "4.6 Write a program to prompt the user for hours and rate per hour using input to compute gross pay. Pay should be the normal rate for hours up to 40 and time-and-a-half for the hourly rate for all hours worked above 40 hours. Put the logic to do the computation of pay in a function called computepay() and use the function to do the computation. The function should return a value. Use 45 hours and a rate of 10.50 per hour to test the program (the pay should be 498.75). You should use input to read a string and float() to convert the string to a number. Do not worry about error checking the user input unless you want to - you can assume the user types numbers properly. Do not name your variable sum or use the sum() function."
      ],
      "metadata": {
        "id": "7NAgGJ3mohvg"
      }
    },
    {
      "cell_type": "code",
      "source": [
        "# assignment oof week 6\n",
        "#this function will not work if input statment aat the begining, \n",
        "##3 input statments must be before calling the functions to be used as constant variabless for this function\n",
        "def computepay(h,r):\n",
        "  \n",
        "  if h<=40:\n",
        "    gross_pay=h*rate_per_hour\n",
        "  else:\n",
        "    gross_pay=40*rate_per_hour+(h-40)*1.5*rate_per_hour\n",
        "  return gross_pay\n",
        "hours=input(\"Enter number of hours:\")\n",
        "rate_per_hour=input(\"rate per houre:\")\n",
        "h=float(hours)\n",
        "rate_per_hour=float(rate_per_hour)\n",
        "p=computepay(h,rate_per_hour)\n",
        "print(\"Pay\", p)\n"
      ],
      "metadata": {
        "colab": {
          "base_uri": "https://localhost:8080/"
        },
        "id": "dMXWxcFboigf",
        "outputId": "8adda241-81c0-4ad7-9895-d37a6629bc9c"
      },
      "execution_count": null,
      "outputs": [
        {
          "output_type": "stream",
          "name": "stdout",
          "text": [
            "Enter number of hours:45\n",
            "rate per houre:10.5\n",
            "Pay 498.75\n"
          ]
        }
      ]
    },
    {
      "cell_type": "code",
      "source": [
        "def computepay(h, r):\n",
        "    return 42.37\n",
        "\n",
        "hrs = input(\"Enter Hours:\")\n",
        "p = computepay(10, 20)\n",
        "print(\"Pay\", p)"
      ],
      "metadata": {
        "id": "KKjY9wjisNt0"
      },
      "execution_count": null,
      "outputs": []
    },
    {
      "cell_type": "code",
      "source": [
        "def computepay(h,r):\n",
        "  if h > 40:\n",
        "    p = 1.5 * r * (h - 40) + (40 *r)\n",
        "  else:\n",
        "    p = h * r\n",
        "  return p\n",
        "\n",
        "hrs = input(\"Enter Hours:\")\n",
        "hr = float(hrs)\n",
        "rphrs = input(\"Enter rate per hour:\")\n",
        "rphr = float(rphrs)\n",
        "\n",
        "p = computepay(hr,rphr)\n",
        "print(\"Pay\",p)\n",
        "\n"
      ],
      "metadata": {
        "colab": {
          "base_uri": "https://localhost:8080/"
        },
        "id": "tX6Yuy0YWp9Z",
        "outputId": "76105329-b33c-4be7-fcd1-43ac73bd1f4b"
      },
      "execution_count": null,
      "outputs": [
        {
          "output_type": "stream",
          "name": "stdout",
          "text": [
            "Enter Hours:45\n",
            "Enter rate per hour:10.5\n",
            "Pay 498.75\n"
          ]
        }
      ]
    },
    {
      "cell_type": "code",
      "source": [
        "n=0 \n",
        "while n>0:\n",
        "  print('lather')\n",
        "  print('Rinse')\n",
        "print('Dry off')\n",
        "\n",
        "# while statment will not run its command becauese it is never n going to be>0\n",
        "# therefore the command that is out of its block(the deindrnted) will be the only command run \n",
        "\n",
        "\n"
      ],
      "metadata": {
        "colab": {
          "base_uri": "https://localhost:8080/"
        },
        "id": "UpYwM00SWNFd",
        "outputId": "06f27fe4-feac-45c4-c8f8-cf1cd094c82f"
      },
      "execution_count": null,
      "outputs": [
        {
          "output_type": "stream",
          "name": "stdout",
          "text": [
            "Dry off\n"
          ]
        }
      ]
    },
    {
      "cell_type": "code",
      "source": [
        "while True:\n",
        "  line=input('(>)')\n",
        "  if line== 'mam':\n",
        "    break #break statment when it euns it will jump out of the loop, because previous line is trure line=='done' break statement run, next line(print line )\n",
        "  print('line')# did not execute because break statement is true, therefore exit the while loop and perform the deindented line (print Done)\n",
        "print('Done')\n",
        "\n"
      ],
      "metadata": {
        "colab": {
          "base_uri": "https://localhost:8080/"
        },
        "id": "r24DQMVdIPhY",
        "outputId": "1d59380a-fe93-4301-c093-14ebeb9381c6"
      },
      "execution_count": null,
      "outputs": [
        {
          "output_type": "stream",
          "name": "stdout",
          "text": [
            "(>)jjj\n",
            "line\n",
            "(>)mam\n",
            "Done\n"
          ]
        }
      ]
    },
    {
      "cell_type": "code",
      "source": [
        "# note '>' in the input statment does not mean bigger than it is like place holder for any sting , you can replace it with  anything\n",
        "# the main thing to understand if the previous line of \" continue\" is true , it will take us to the code before it\n",
        "# if the preevious line before \"break \" is true, it will exit the  while loop and perform the deindented which is print(Done)\n",
        "while True:\n",
        "  line= input('>')# if the input any thing other than # it will not run \"continue\" and will ask for anything to  input, and it will exit while . It will run (print\"line\")\n",
        "  if line[0]=='#':# if the input is \"#\" it will prompt for the previous line which is asking for input\n",
        "    continue\n",
        "  if line=='done':#if the input is ==done, it will run the break statment which will make us exit the while loop and perform the deindented \"print(Done\"\n",
        "    break\n",
        "  print('line')# this is inside while loop , it will run if input anything not equal to \"#\" or 'done'\n",
        "print('Done')\n",
        "\n"
      ],
      "metadata": {
        "colab": {
          "base_uri": "https://localhost:8080/"
        },
        "id": "8b--s2GhTfyZ",
        "outputId": "ede97963-d6d7-4663-e198-dcd0ee2da63e"
      },
      "execution_count": null,
      "outputs": [
        {
          "output_type": "stream",
          "name": "stdout",
          "text": [
            ">hello theree\n",
            "line\n",
            ">finisheed\n",
            "line\n",
            "># finished\n",
            ">#\n",
            ">done\n",
            "Done\n"
          ]
        }
      ]
    },
    {
      "cell_type": "code",
      "source": [
        "while True:\n",
        "\tline=input('>')\n",
        "\tif line[0]==\"#\":\n",
        "\t\tcontinue\n",
        "\tif line=='done':\n",
        "\t\tbreak\n",
        "\tprint(line) # ptint anything was input  whatever it is such hhh mmm 012 as long it is not equal to \"#\" or \"done\"\n",
        "print('Done')\n"
      ],
      "metadata": {
        "colab": {
          "base_uri": "https://localhost:8080/"
        },
        "id": "1XtxIjcgN23Y",
        "outputId": "dedd256f-dea0-4d6e-d200-eaa8990dfe6e"
      },
      "execution_count": null,
      "outputs": [
        {
          "output_type": "stream",
          "name": "stdout",
          "text": [
            ">kkk\n",
            "kkk\n",
            ">#\n",
            ">done\n",
            "Done\n"
          ]
        }
      ]
    },
    {
      "cell_type": "code",
      "source": [
        "# as long i in the list print all its elemeents once, then it will exit the loop and run the deindented which is print(\"blastof\")\n",
        "for i in [5,4,3,2,1]:\n",
        "\tprint(i)\n",
        "\n",
        "print(\"Blastoff\")"
      ],
      "metadata": {
        "colab": {
          "base_uri": "https://localhost:8080/"
        },
        "id": "sXOeyWwHSXrW",
        "outputId": "d06a1532-870c-4092-aae2-15a6c2a75919"
      },
      "execution_count": null,
      "outputs": [
        {
          "output_type": "stream",
          "name": "stdout",
          "text": [
            "5\n",
            "4\n",
            "3\n",
            "2\n",
            "1\n",
            "Blastoff\n"
          ]
        }
      ]
    },
    {
      "cell_type": "code",
      "source": [
        "# for loop is taking every element in the list and will run the next code print(happy ....),once the list finished it will exit the loop and next line \n",
        "# deintended will run which is out of for loop print(Done)\n",
        "# python does not understand the word friend or the word friends we can use any iterator variable iinstead of for and any name for list instead oof friends\n",
        "friends=['Joseph', 'Glennn', 'Sally']\n",
        "for friend in friends:\n",
        "\tprint('Happy New Year: ', friend)\n",
        "print('Done')\n"
      ],
      "metadata": {
        "colab": {
          "base_uri": "https://localhost:8080/"
        },
        "id": "N01BNLZ8eACA",
        "outputId": "b3091ef7-a94a-489e-9f3e-0c1af52cb979"
      },
      "execution_count": null,
      "outputs": [
        {
          "output_type": "stream",
          "name": "stdout",
          "text": [
            "Happy New Year:  Joseph\n",
            "Happy New Year:  Glennn\n",
            "Happy New Year:  Sally\n",
            "Done\n"
          ]
        }
      ]
    },
    {
      "cell_type": "code",
      "source": [
        "largest_so_far=-1\n",
        "print('Before', largest_so_far)\n",
        "for the_num in [9,41,12,3,74,15]:\n",
        "  if the_num>largest_so_far:\n",
        "    largest_so_far= the_num\n",
        "    print(largest_so_far,the_num)\n",
        "print('after',largest_so_far)\n",
        "# at the beginning largest_so_far=-1 and we just did the first code of printing\"Before' and largest_so_far which is-1\n",
        "# the next line is for loop and it haas to check eevery elemnt in the list if it is true to perform the nnext line of coodes\n",
        "# the first elment is 9>-1 is true thereefore largest_so_far=the_m=9 and the next code will run which is printing the vaalue of \n",
        "# largest_so_far, the_num which is 9, 9\n",
        "# the next element is 41>9 so next codes oof for loop will run which is largest_so_far=the_num=9 aand the print of largest_so_far, the num which is 41 41\n",
        "# neext element is 12 which maakes the if staatment not run  and its indented block not run thereefore it will go to next element whhichh is3 and it will run the if statment\n",
        "#then 74>41 so if staatment will run largest_so_far=thee_num and print largest_so_far, the num which is 74 74\n",
        "# then 15 not >74 so if statment not run and for loop finished all its ieeration, so it will exit out of for loop and perform the deindented of printing aafter\n",
        "# printing aafter and largest_so_far which is 74"
      ],
      "metadata": {
        "colab": {
          "base_uri": "https://localhost:8080/"
        },
        "id": "YFhPOnSGoFyM",
        "outputId": "bbbb8f90-b8ac-4ff8-f195-fd3bf227bb13"
      },
      "execution_count": null,
      "outputs": [
        {
          "output_type": "stream",
          "name": "stdout",
          "text": [
            "Before -1\n",
            "9 9\n",
            "41 41\n",
            "74 74\n",
            "after 74\n"
          ]
        }
      ]
    },
    {
      "cell_type": "code",
      "source": [
        "zrock=0\n",
        "print('Before',zrock)\n",
        "for thing in [9,41,12,3,74,15]:\n",
        "\tzrock=zrock+1\n",
        "\tprint(zrock,thing)\n",
        "print('after',zrock)\n",
        "\n",
        "\n"
      ],
      "metadata": {
        "colab": {
          "base_uri": "https://localhost:8080/"
        },
        "id": "FlNwJq4JxCvn",
        "outputId": "99c2de1b-2595-4197-de31-0bfa3c95cac4"
      },
      "execution_count": null,
      "outputs": [
        {
          "output_type": "stream",
          "name": "stdout",
          "text": [
            "Before 0\n",
            "1 9\n",
            "2 41\n",
            "3 12\n",
            "4 3\n",
            "5 74\n",
            "6 15\n",
            "after 6\n"
          ]
        }
      ]
    },
    {
      "cell_type": "code",
      "source": [
        "#countingtotal in for loop\n",
        "# Summing in a loop\n",
        "\n",
        "zork=0\n",
        "print('Before',zork)\n",
        "for thing in [9,41,12,3,74,15]:\n",
        "\tzork=zork+thing\n",
        "\tprint(zork,thing)\n",
        "print('After',zork)\n",
        "\n"
      ],
      "metadata": {
        "colab": {
          "base_uri": "https://localhost:8080/"
        },
        "id": "ia5ctMDd26WV",
        "outputId": "355fe042-b75d-454e-826d-92501a0bdbcb"
      },
      "execution_count": null,
      "outputs": [
        {
          "output_type": "stream",
          "name": "stdout",
          "text": [
            "Before 0\n",
            "9 9\n",
            "50 41\n",
            "62 12\n",
            "65 3\n",
            "139 74\n",
            "154 15\n",
            "After 154\n"
          ]
        }
      ]
    },
    {
      "cell_type": "code",
      "source": [
        "# calculating avergaae using for loop\n",
        "count=0\n",
        "sum=0\n",
        "for value in [9,12,41,74,15]:\n",
        "  count=count+1\n",
        "  sum=sum+value\n",
        "  print(count,sum,value)\n",
        "print(\"average is: \",sum/count)"
      ],
      "metadata": {
        "colab": {
          "base_uri": "https://localhost:8080/"
        },
        "id": "CVDChiFGdwup",
        "outputId": "0b9022a8-72b4-4632-fcc6-a48a58b158be"
      },
      "execution_count": null,
      "outputs": [
        {
          "output_type": "stream",
          "name": "stdout",
          "text": [
            "1 9 9\n",
            "2 21 12\n",
            "3 62 41\n",
            "4 136 74\n",
            "5 151 15\n",
            "average is:  30.2\n"
          ]
        }
      ]
    },
    {
      "cell_type": "code",
      "source": [
        "found= False\n",
        "print('Before',found)\n",
        "for value in[9,41,12,3,74,15]:\n",
        "\tif value ==3:\n",
        "\t\tfound=True\n",
        "\tprint(found,value)\n",
        "print('After',found)\n",
        "\t\t\n",
        " \n"
      ],
      "metadata": {
        "colab": {
          "base_uri": "https://localhost:8080/"
        },
        "id": "rXC9YNMMgqL5",
        "outputId": "55f5360f-987f-4e8d-ba9a-0c0ccdbc1d66"
      },
      "execution_count": null,
      "outputs": [
        {
          "output_type": "stream",
          "name": "stdout",
          "text": [
            "Before False\n",
            "False 9\n",
            "False 41\n",
            "False 12\n",
            "True 3\n",
            "True 74\n",
            "True 15\n",
            "After True\n"
          ]
        }
      ]
    },
    {
      "cell_type": "code",
      "source": [
        "#Finding Smallest Value\n",
        "smallest=None#None is type means absent value\n",
        "print('Before')\n",
        "for value in [9,41,12,3,74,15]:\n",
        "\tif smallest is None: #is stronger than ‘==’\n",
        "\t\tsmallest= value #python does not understand smallest as smallest thing it can be any word\n",
        "\telif value <smallest:\n",
        "\t\tsmallest=value\n",
        "\tprint(smallest,value)\n",
        "print('After',smallest)\n",
        "\n"
      ],
      "metadata": {
        "colab": {
          "base_uri": "https://localhost:8080/"
        },
        "id": "cUByv3_5kKa5",
        "outputId": "1b9887e6-2c3a-4b0e-e538-0d66d92b1a44"
      },
      "execution_count": null,
      "outputs": [
        {
          "output_type": "stream",
          "name": "stdout",
          "text": [
            "Before\n",
            "9 9\n",
            "9 41\n",
            "9 12\n",
            "3 3\n",
            "3 74\n",
            "3 15\n",
            "After 3\n"
          ]
        }
      ]
    },
    {
      "cell_type": "code",
      "source": [
        "#find the minimum from a given list\n",
        "#my_list=[ 9,4,80,60,2]\n",
        "small= None\n",
        "#def calculate_minimum(num,my_list):\n",
        "for num in [9,41,12,3,74,15]:\n",
        "  if small is None:\n",
        "    small=num\n",
        "  elif num<small:\n",
        "    small=num\n",
        "  print(small,num)\n",
        "print(\"smallest number is: \", small)\n"
      ],
      "metadata": {
        "colab": {
          "base_uri": "https://localhost:8080/"
        },
        "id": "LtTRxvnPocVY",
        "outputId": "2d8cee5a-5a99-4144-b556-450a91bc5943"
      },
      "execution_count": null,
      "outputs": [
        {
          "output_type": "stream",
          "name": "stdout",
          "text": [
            "9 9\n",
            "9 41\n",
            "9 12\n",
            "3 3\n",
            "3 74\n",
            "3 15\n",
            "smallest number is:  3\n"
          ]
        }
      ]
    },
    {
      "cell_type": "code",
      "source": [
        "#find the minimum from a given list\n",
        "#my_list=[ 9,4,80,60,2]\n",
        "#small= None\n",
        "def calculate_minimum(num,my_list):\n",
        "  small= None\n",
        "  for num in my_list:\n",
        "    if small is None:\n",
        "      small=num\n",
        "    elif num<small:\n",
        "      small=num\n",
        "  return small\n",
        "calculate_minimum(num,[9,41,12,3,74,15])"
      ],
      "metadata": {
        "colab": {
          "base_uri": "https://localhost:8080/"
        },
        "id": "WDQZE2QFrCxu",
        "outputId": "1eeb84c8-2022-4494-d3f3-b16d54f2597b"
      },
      "execution_count": null,
      "outputs": [
        {
          "output_type": "execute_result",
          "data": {
            "text/plain": [
              "3"
            ]
          },
          "metadata": {},
          "execution_count": 6
        }
      ]
    },
    {
      "cell_type": "code",
      "source": [
        "#find the minimum from a given list\n",
        "#through usinng function and using none as place holder of nothig so we can uuse it to start our iteration\n",
        "def calculate_minimum(my_list):\n",
        "  small= None\n",
        "  for num in my_list:\n",
        "    if small is None:\n",
        "      small=num\n",
        "    elif num<small:\n",
        "      small=num\n",
        "  return small\n",
        "calculate_minimum([9,41,12,3,74,15])"
      ],
      "metadata": {
        "colab": {
          "base_uri": "https://localhost:8080/"
        },
        "id": "V4NjxdGcs5qM",
        "outputId": "b73e7fb4-f343-4413-e7c1-c5cd14eb6275"
      },
      "execution_count": null,
      "outputs": [
        {
          "output_type": "execute_result",
          "data": {
            "text/plain": [
              "3"
            ]
          },
          "metadata": {},
          "execution_count": 8
        }
      ]
    },
    {
      "cell_type": "code",
      "source": [
        "tot = 0 \n",
        "for i in [5, 4, 3, 2, 1] :\n",
        "    tot = tot + 1\n",
        "print(tot)"
      ],
      "metadata": {
        "colab": {
          "base_uri": "https://localhost:8080/"
        },
        "id": "AMg7lbwNtfg9",
        "outputId": "25f83ed8-dba5-4af5-bd35-cf73ef3e56a8"
      },
      "execution_count": null,
      "outputs": [
        {
          "output_type": "stream",
          "name": "stdout",
          "text": [
            "5\n"
          ]
        }
      ]
    },
    {
      "cell_type": "code",
      "source": [
        "smallest_so_far = -1\n",
        "for the_num in [9, 41, 12, 3, 74, 15] :\n",
        "   if the_num < smallest_so_far :\n",
        "      smallest_so_far = the_num\n",
        "print(smallest_so_far)"
      ],
      "metadata": {
        "colab": {
          "base_uri": "https://localhost:8080/"
        },
        "id": "6EDKJBdOwbt6",
        "outputId": "a9665666-cddf-402d-aa4a-95e19de152f4"
      },
      "execution_count": null,
      "outputs": [
        {
          "output_type": "stream",
          "name": "stdout",
          "text": [
            "-1\n"
          ]
        }
      ]
    },
    {
      "cell_type": "code",
      "source": [
        "# write a code to count the average\n",
        "\n",
        "count=0\n",
        "total=0\n",
        "while True:\n",
        "  value=input('enter number ')\n",
        "  if value=='done':\n",
        "    break# will take me out of the loop\n",
        "  try:\n",
        "    value=float(value)\n",
        "    count=count+1\n",
        "    total=total+value\n",
        "  except:\n",
        "   print('invalid entry')# it will make the code runs if badd entry happened\n",
        "    \n",
        "\n",
        "print('All Done!')\n",
        "print('average is: ', total/count)\n",
        "print(count, total,total/count )"
      ],
      "metadata": {
        "colab": {
          "base_uri": "https://localhost:8080/"
        },
        "id": "ioQ06k8YxUf1",
        "outputId": "b2bf04c5-e476-4568-e91c-dc56f93b93b3"
      },
      "execution_count": 11,
      "outputs": [
        {
          "output_type": "stream",
          "name": "stdout",
          "text": [
            "enter number 2\n",
            "enter number jo\n",
            "invalid entry\n",
            "enter number 4\n",
            "enter number jl\n",
            "invalid entry\n",
            "enter number 9\n",
            "enter number l;\n",
            "invalid entry\n",
            "enter number done\n",
            "All Done!\n",
            "average is:  5.0\n",
            "3 15.0 5.0\n"
          ]
        }
      ]
    },
    {
      "cell_type": "code",
      "source": [
        "# write a code to count the average\n",
        "\n",
        "count=0\n",
        "total=0\n",
        "while True:\n",
        "  value=input('enter number ')\n",
        "  if value=='done':\n",
        "    break# will exit to help not make my code run forever\n",
        "  try:\n",
        "    value=float(value)\n",
        "    \n",
        "  except:\n",
        "   print('invalid entry')#  except statment good to use incase of bad entry it will skip the bad entry and run the rest of the code\n",
        "   continue # it will take me to the begining of the loop, continue is indented because it is in the zone of except statment\n",
        "  count=count+1\n",
        "  total=total+value \n",
        "\n",
        "print('All Done!')\n",
        "print('average is: ', total/count)\n",
        "print(count, total,total/count )"
      ],
      "metadata": {
        "id": "ASmESVJqyIOx",
        "colab": {
          "base_uri": "https://localhost:8080/"
        },
        "outputId": "f4ccbfac-08ff-4520-d562-bd5777aff210"
      },
      "execution_count": 13,
      "outputs": [
        {
          "output_type": "stream",
          "name": "stdout",
          "text": [
            "enter number 6\n",
            "enter number 6\n",
            "enter number jj\n",
            "invalid entry\n",
            "enter number 3\n",
            "enter number doone\n",
            "invalid entry\n",
            "enter number done\n",
            "All Done!\n",
            "average is:  5.0\n",
            "3 15.0 5.0\n"
          ]
        }
      ]
    },
    {
      "cell_type": "markdown",
      "source": [
        "Write a program that repeatedly prompts a user for integer numbers until the user enters 'done'. Once 'done' is entered, print out the largest and smallest of the numbers. If the user enters anything other than a valid number catch it with a try/except and put out an appropriate message and ignore the number. Enter 7, 2, bob, 10, and 4 and match the output below.\n"
      ],
      "metadata": {
        "id": "nnHSGzbI-1dO"
      }
    },
    {
      "cell_type": "code",
      "source": [
        "smallest=None\n",
        "largest=None\n",
        "while True:\n",
        "  try:\n",
        "    value=input('enter an integer number: ')\n",
        "    if value=='done':\n",
        "      break\n",
        "  \n",
        "    ivalue=int(value)\n",
        "  \n",
        "    \n",
        "    if largest is None or ivalue> largest:\n",
        "\n",
        "      largest=ivalue\n",
        "    \n",
        "\n",
        "    elif smallest is None or ivalue< smallest:\n",
        "      smallest=ivalue\n",
        "  except:\n",
        "    print('invalid entry')\n",
        "     \n",
        "\n",
        "print(largest, smallest)"
      ],
      "metadata": {
        "colab": {
          "base_uri": "https://localhost:8080/"
        },
        "id": "qNnZpcV_yAmr",
        "outputId": "9b18908f-0d9e-4032-84a0-207466bc24cb"
      },
      "execution_count": 22,
      "outputs": [
        {
          "output_type": "stream",
          "name": "stdout",
          "text": [
            "enter an integer number: 7\n",
            "enter an integer number: 2\n",
            "enter an integer number: bob\n",
            "invalid entry\n",
            "enter an integer number: 10\n",
            "enter an integer number: 4\n",
            "enter an integer number: done\n",
            "10 2\n"
          ]
        }
      ]
    },
    {
      "cell_type": "code",
      "source": [
        "while True:\n",
        "  try:\n",
        "    num = input(\"Enter a number: \")\n",
        "    if num == 'done':\n",
        "      break\n",
        "    \n",
        "    inum = int(num)\n",
        "    if largest is None or inum > largest:\n",
        "    \tlargest = inum\n",
        "    elif smallest is None or inum < smallest:\n",
        "        smallest = inum\n",
        "        \n",
        "    \t\n",
        "    \n",
        "  except:\n",
        "    \n",
        "    print('Invalid input')\n",
        "print(largest,smallest)\n"
      ],
      "metadata": {
        "colab": {
          "base_uri": "https://localhost:8080/"
        },
        "id": "dh7L0YE1BRE0",
        "outputId": "004a3273-39b8-4255-948c-30991c01b058"
      },
      "execution_count": 15,
      "outputs": [
        {
          "output_type": "stream",
          "name": "stdout",
          "text": [
            "Enter a number: 7\n",
            "Enter a number: 2\n",
            "Enter a number: bob\n",
            "Invalid input\n",
            "Enter a number: 10\n",
            "Enter a number: 4\n",
            "Enter a number: done\n",
            "10 2\n"
          ]
        }
      ]
    },
    {
      "cell_type": "code",
      "source": [
        "largest = None\n",
        "smallest = None\n",
        "\n",
        "while True:\n",
        "    try:\n",
        "        num = input(\"Enter a number: \")\n",
        "        if num == 'done':\n",
        "            break\n",
        "        n = int(num)\n",
        "        if largest is None or largest<n:\n",
        "          largest=n\n",
        "        elif smallest is None or smallest>n:\n",
        "          smallest=n\n",
        "    except:\n",
        "        print (\"Invalid input\")\n",
        "        continue\n",
        "\n",
        "\n",
        "\n",
        "print (\"Maximum number is \", largest)\n",
        "print (\"Minimum number is \", smallest)\n"
      ],
      "metadata": {
        "colab": {
          "base_uri": "https://localhost:8080/"
        },
        "id": "a-xVZ8m8aOop",
        "outputId": "36c2ce39-3af0-403f-ea2f-efc882a4873e"
      },
      "execution_count": 16,
      "outputs": [
        {
          "output_type": "stream",
          "name": "stdout",
          "text": [
            "Enter a number: 7\n",
            "Enter a number: 2\n",
            "Enter a number: bob\n",
            "Invalid input\n",
            "Enter a number: 10\n",
            "Enter a number: 4\n",
            "Enter a number: done\n",
            "Maximum number is  10\n",
            "Minimum number is  2\n"
          ]
        }
      ]
    },
    {
      "cell_type": "code",
      "source": [
        "#largest = None\n",
        "#smallest = None\n",
        "while True:\n",
        "  num = input(\"Enter a number: \")\n",
        "\n",
        "  if num == 'done':\n",
        "    break\n",
        "  try:\n",
        "    inum = int(num)\n",
        "   \n",
        "    \t\n",
        "    \n",
        "  except:\n",
        "    \n",
        "    print('Invalid input')\n",
        "    continue\n",
        "    if inum > largest:\n",
        "    \tlargest = inum\n",
        "    elif inum < smallest:\n",
        "        smallest = inum\n",
        "       \n",
        "print(\"Maximum is\", largest)\n",
        "print(\"Minimum is\", smallest)"
      ],
      "metadata": {
        "colab": {
          "base_uri": "https://localhost:8080/"
        },
        "id": "ocv59ivKa94q",
        "outputId": "530e940d-fb24-440a-ebe4-3edb0d035386"
      },
      "execution_count": 19,
      "outputs": [
        {
          "output_type": "stream",
          "name": "stdout",
          "text": [
            "Enter a number: 7\n",
            "Enter a number: 2\n",
            "Enter a number: bob\n",
            "Invalid input\n",
            "Enter a number: 10\n",
            "Enter a number: 4\n",
            "Enter a number: done\n",
            "Maximum is 10\n",
            "Minimum is 2\n"
          ]
        }
      ]
    },
    {
      "cell_type": "code",
      "source": [
        "largest = None\n",
        "smallest = None\n",
        "while True:\n",
        "  num = input(\"Enter a number: \")\n",
        "  if num == \"done\":\n",
        "    break\n",
        "  try:\n",
        "    inum=int(num)\n",
        "    if largest is None or largest<inum:\n",
        "      largest=inum\n",
        "    elif smallest is None or smallest>inum:\n",
        "      smallest= inum\n",
        "  except:\n",
        "    print('Invalid input')\n",
        "    continue    \n",
        "\n",
        "print(\"Maximum is \", largest)\n",
        "\n",
        "print('Minimum is ', smallest)"
      ],
      "metadata": {
        "colab": {
          "base_uri": "https://localhost:8080/"
        },
        "id": "e_ZOC87_eKcz",
        "outputId": "d54f9e54-1696-4290-cc45-42ed7b029911"
      },
      "execution_count": 24,
      "outputs": [
        {
          "output_type": "stream",
          "name": "stdout",
          "text": [
            "Enter a number: 7\n",
            "Enter a number: 2\n",
            "Enter a number: bob\n",
            "Invalid input\n",
            "Enter a number: 10\n",
            "Enter a number: 4\n",
            "Enter a number: done\n",
            "Maximum is  10\n",
            "Minimum is  2\n"
          ]
        }
      ]
    },
    {
      "cell_type": "code",
      "source": [
        "largest = None\n",
        "smallest = None\n",
        "while True:\n",
        "  num = input(\"Enter a number: \")\n",
        "  if num == \"done\":\n",
        "    break\n",
        "  try:\n",
        "    inum=int(num)\n",
        "    if largest is None or largest<inum:\n",
        "      largest=inum\n",
        "    elif smallest is None or smallest>inum:\n",
        "      smallest= inum\n",
        "  except:\n",
        "    print('Invalid input')\n",
        "    continue    \n",
        "\n",
        "print('Maximum is ', largest)\n",
        "\n",
        "print('Minimum is ', smallest)"
      ],
      "metadata": {
        "colab": {
          "base_uri": "https://localhost:8080/"
        },
        "id": "znq0elwq7MYJ",
        "outputId": "082aba54-6b2e-4d22-9c81-50b032360907"
      },
      "execution_count": 1,
      "outputs": [
        {
          "output_type": "stream",
          "name": "stdout",
          "text": [
            "Enter a number: 7\n",
            "Enter a number: 2\n",
            "Enter a number: bob\n",
            "Invalid input\n",
            "Enter a number: 4\n",
            "Enter a number: 10\n",
            "Enter a number: done\n",
            "Maximum is  10\n",
            "Minimum is  2\n"
          ]
        }
      ]
    },
    {
      "cell_type": "code",
      "source": [
        "fruit='banana'\n",
        "letter=fruit[1]\n",
        "print(letter)\n",
        "x=3\n",
        "w=fruit[x-1]\n",
        "print(w)"
      ],
      "metadata": {
        "colab": {
          "base_uri": "https://localhost:8080/"
        },
        "id": "AnvELdSxubID",
        "outputId": "65b441c9-f05a-4d71-908f-95548a313647"
      },
      "execution_count": 2,
      "outputs": [
        {
          "output_type": "stream",
          "name": "stdout",
          "text": [
            "a\n",
            "n\n"
          ]
        }
      ]
    },
    {
      "cell_type": "code",
      "source": [
        "#Looking of each letter in a string:\n",
        "\n",
        "fruit='banana'\n",
        "index=0\n",
        "while index<len(fruit):\n",
        "  letter=fruit[index]\n",
        "  print(index,letter)\n",
        "  index+=1\n",
        "\n"
      ],
      "metadata": {
        "colab": {
          "base_uri": "https://localhost:8080/"
        },
        "id": "7-DXdRk3h8TE",
        "outputId": "dd67a5aa-dbcd-4694-ff97-14f4fc7f2cd0"
      },
      "execution_count": 5,
      "outputs": [
        {
          "output_type": "stream",
          "name": "stdout",
          "text": [
            "0 b\n",
            "1 a\n",
            "2 n\n",
            "3 a\n",
            "4 n\n",
            "5 a\n"
          ]
        }
      ]
    },
    {
      "cell_type": "code",
      "source": [
        "#Looking of each letter in a string:\n",
        "\n",
        "fruit='banana'\n",
        "for letter in fruit:\n",
        "  print(letter)"
      ],
      "metadata": {
        "colab": {
          "base_uri": "https://localhost:8080/"
        },
        "id": "t6FLUeNtCpyc",
        "outputId": "c52762e8-5110-42a6-ee32-ad7689ef2c82"
      },
      "execution_count": 6,
      "outputs": [
        {
          "output_type": "stream",
          "name": "stdout",
          "text": [
            "b\n",
            "a\n",
            "n\n",
            "a\n",
            "n\n",
            "a\n"
          ]
        }
      ]
    },
    {
      "cell_type": "code",
      "source": [
        "word= 'banana'\n",
        " \n",
        "count=0\n",
        "for letter in word:\n",
        "  if letter=='a':\n",
        "\t\t  count+=1\n",
        "  \n",
        "  \n",
        "print(count)\n",
        "\n"
      ],
      "metadata": {
        "colab": {
          "base_uri": "https://localhost:8080/"
        },
        "id": "DSftjXZRM2Bv",
        "outputId": "ce37ae2b-0e1f-406a-9d7e-b3125b82e664"
      },
      "execution_count": 9,
      "outputs": [
        {
          "output_type": "stream",
          "name": "stdout",
          "text": [
            "3\n"
          ]
        }
      ]
    },
    {
      "cell_type": "code",
      "source": [
        "s='Monty Python'\n",
        "\n",
        "print(s[0:4]) # lst letter is not included  which is y==4\n",
        "\n",
        "\n",
        "print(s[6:7])# y in python not included whuch has index of 7\n",
        "\n",
        "print(s[6:20]) # python index from 6 to 11 , so the wholee word will e includeed\n",
        "print(s[:2])# printing from beginning to index =2 but not include 2 which is t\n",
        "print(s[8:]) # print 8 through the end\n",
        "print(s[:])\n",
        "\n",
        "\n"
      ],
      "metadata": {
        "colab": {
          "base_uri": "https://localhost:8080/"
        },
        "id": "yKuJ3ekHOs0F",
        "outputId": "8dd1b3e2-9587-46c3-b87a-ba590fcba987"
      },
      "execution_count": 12,
      "outputs": [
        {
          "output_type": "stream",
          "name": "stdout",
          "text": [
            "Mont\n",
            "P\n",
            "Python\n",
            "Mo\n",
            "thon\n",
            "Monty Python\n"
          ]
        }
      ]
    },
    {
      "cell_type": "code",
      "source": [
        ""
      ],
      "metadata": {
        "id": "t6Gsc6jESpEQ"
      },
      "execution_count": null,
      "outputs": []
    }
  ]
}