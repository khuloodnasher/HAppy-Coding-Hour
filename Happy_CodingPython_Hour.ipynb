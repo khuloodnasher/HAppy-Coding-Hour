{
  "nbformat": 4,
  "nbformat_minor": 0,
  "metadata": {
    "colab": {
      "name": "Happy CodingPython Hour.ipynb",
      "provenance": [],
      "authorship_tag": "ABX9TyNbz0w3ooPQLEWiCgfZOKzK",
      "include_colab_link": true
    },
    "kernelspec": {
      "name": "python3",
      "display_name": "Python 3"
    }
  },
  "cells": [
    {
      "cell_type": "markdown",
      "metadata": {
        "id": "view-in-github",
        "colab_type": "text"
      },
      "source": [
        "<a href=\"https://colab.research.google.com/github/khuloodnasher/HAppy-Coding-Hour/blob/master/Happy_CodingPython_Hour.ipynb\" target=\"_parent\"><img src=\"https://colab.research.google.com/assets/colab-badge.svg\" alt=\"Open In Colab\"/></a>"
      ]
    },
    {
      "cell_type": "markdown",
      "metadata": {
        "id": "VJpD08ipsCyK"
      },
      "source": [
        "Suppose you have a list of the folllowing numbers [1,2,3,2,4,3,3,4,2] how you can define a function to get the number of the duplicates\n",
        "\n"
      ]
    },
    {
      "cell_type": "code",
      "metadata": {
        "id": "0-HbbLGFR914"
      },
      "source": [
        ""
      ],
      "execution_count": null,
      "outputs": []
    },
    {
      "cell_type": "code",
      "metadata": {
        "id": "BGUoMCQBR_Bh",
        "colab": {
          "base_uri": "https://localhost:8080/"
        },
        "outputId": "044ebc92-9a8e-4cec-e36d-5311dfc2ec5f"
      },
      "source": [
        "for i in [1,2,3]: #using variable twice\n",
        "  \n",
        "  \n",
        "  print('{} + 2 = {}'.format(i,i+2))"
      ],
      "execution_count": null,
      "outputs": [
        {
          "output_type": "stream",
          "text": [
            "1 + 2 = 3\n",
            "2 + 2 = 4\n",
            "3 + 2 = 5\n"
          ],
          "name": "stdout"
        }
      ]
    },
    {
      "cell_type": "code",
      "metadata": {
        "id": "OBFUpeiTTgg0",
        "colab": {
          "base_uri": "https://localhost:8080/"
        },
        "outputId": "6b90bb65-99ef-4039-aa4f-f6f3703ff6b7"
      },
      "source": [
        "d=[1,2,3]\n",
        "for num in d:\n",
        "  print('{}+2={}'.format(num,num+2))"
      ],
      "execution_count": null,
      "outputs": [
        {
          "output_type": "stream",
          "text": [
            "1+2=3\n",
            "2+2=4\n",
            "3+2=5\n"
          ],
          "name": "stdout"
        }
      ]
    },
    {
      "cell_type": "code",
      "metadata": {
        "id": "wu9K2plphtyh"
      },
      "source": [
        " # Python code to count the number of occurrences \n",
        "def countX(lst, x): \n",
        "    num = 0\n",
        "    for ele in lst: \n",
        "        if (ele == x): \n",
        "            num = num + 1\n",
        "    return num \n",
        "  \n"
      ],
      "execution_count": null,
      "outputs": []
    },
    {
      "cell_type": "code",
      "metadata": {
        "id": "wqTl8YpwUoAr",
        "colab": {
          "base_uri": "https://localhost:8080/"
        },
        "outputId": "20bc119e-fe6e-469c-e91a-58ee2047e79d"
      },
      "source": [
        "#We can iterate over strings as well. For example:\n",
        "for i in 'tone':\n",
        "  print(i,end=' ') #letters with spaces\n",
        "  print() #add return at end     وجود امر الطبلعه الثاني بيعمل الكلمة راسي لانه بيعمل اضاقه سطر بين كل كلمة واخرى "
      ],
      "execution_count": null,
      "outputs": [
        {
          "output_type": "stream",
          "text": [
            "t \n",
            "o \n",
            "n \n",
            "e \n"
          ],
          "name": "stdout"
        }
      ]
    },
    {
      "cell_type": "code",
      "metadata": {
        "id": "qOFNiyZEV5lk",
        "colab": {
          "base_uri": "https://localhost:8080/"
        },
        "outputId": "7e16d697-ebfb-45af-d396-5e895a56f7bc"
      },
      "source": [
        "#We can iterate over strings as well. For example:\n",
        "for i in 'tone':\n",
        "  print(i) #letters with spaces\n",
        " # print() #add return at end     وجود امر الطبلعه الثاني بيعمل الكلمة راسي لانه بيعمل اضاقه سطر بين كل كلمة واخرى "
      ],
      "execution_count": null,
      "outputs": [
        {
          "output_type": "stream",
          "text": [
            "t\n",
            "o\n",
            "n\n",
            "e\n"
          ],
          "name": "stdout"
        }
      ]
    },
    {
      "cell_type": "code",
      "metadata": {
        "id": "McKsV12EXWDx",
        "colab": {
          "base_uri": "https://localhost:8080/"
        },
        "outputId": "737ed684-908c-4036-c2e0-fcfe2b585f8c"
      },
      "source": [
        "total = 0 #set variable\n",
        "for i in range(5): #iterate...\n",
        "\n",
        "  total = total + i #...add to total\n",
        "  print(total) #print total"
      ],
      "execution_count": null,
      "outputs": [
        {
          "output_type": "stream",
          "text": [
            "0\n",
            "1\n",
            "3\n",
            "6\n",
            "10\n"
          ],
          "name": "stdout"
        }
      ]
    },
    {
      "cell_type": "code",
      "metadata": {
        "id": "X7kDJ9OPh9zU",
        "colab": {
          "base_uri": "https://localhost:8080/"
        },
        "outputId": "107f62e9-f95e-405e-99c4-b5aed7cf3f55"
      },
      "source": [
        "#calling the function\n",
        "num_list= [1,2,3,2,4,3,3,4,2]\n",
        "x = 2\n",
        "countX(num_list, x)\n"
      ],
      "execution_count": null,
      "outputs": [
        {
          "output_type": "execute_result",
          "data": {
            "text/plain": [
              "3"
            ]
          },
          "metadata": {
            "tags": []
          },
          "execution_count": 12
        }
      ]
    },
    {
      "cell_type": "code",
      "metadata": {
        "id": "dubbKcfNh9-s",
        "colab": {
          "base_uri": "https://localhost:8080/"
        },
        "outputId": "c0d57d35-2c82-476a-e88b-ef785a7637c8"
      },
      "source": [
        "# Python code to count the number of occurrences \n",
        "def countX(lst, x): \n",
        "    num = 0\n",
        "    for ele in lst: \n",
        "        if (ele == x): \n",
        "            num = num + 1\n",
        "    return num \n",
        "  \n",
        "# Driver Code \n",
        "num_list= [1,2,3,2,4,3,3,4,2]\n",
        "x = 4\n",
        "print('{} has occurred {} times'.format(x, countX(num_list, x))) \n"
      ],
      "execution_count": null,
      "outputs": [
        {
          "output_type": "stream",
          "text": [
            "4 has occurred 2 times\n"
          ],
          "name": "stdout"
        }
      ]
    },
    {
      "cell_type": "code",
      "metadata": {
        "id": "VzWrmR9Uh-Jp"
      },
      "source": [
        "num_list = [1, 2, 2, 3, 4, 3, 4,6,6,3]  \n",
        "\n",
        "\n",
        "def duplicate(items,a):\n",
        "\t\n",
        "\treturn items.count(a)"
      ],
      "execution_count": null,
      "outputs": []
    },
    {
      "cell_type": "code",
      "metadata": {
        "id": "llveStzIOTj-",
        "colab": {
          "base_uri": "https://localhost:8080/"
        },
        "outputId": "d98c6e6e-9f82-467b-9f0e-053a7831eb62"
      },
      "source": [
        "duplicate(num_list,4)"
      ],
      "execution_count": null,
      "outputs": [
        {
          "output_type": "execute_result",
          "data": {
            "text/plain": [
              "2"
            ]
          },
          "metadata": {
            "tags": []
          },
          "execution_count": 15
        }
      ]
    },
    {
      "cell_type": "markdown",
      "metadata": {
        "id": "3SUtTV5uyBKL"
      },
      "source": [
        "Method 2 (Using Counter())\n",
        "\n",
        "Counter method returns a dictionary with occurrences of all elements as a \n",
        "\n",
        "key-value pair, where key is the element and value is the number of times \n",
        "\n",
        "that element has occurred."
      ]
    },
    {
      "cell_type": "code",
      "metadata": {
        "id": "An0slao2zjzU",
        "colab": {
          "base_uri": "https://localhost:8080/"
        },
        "outputId": "5ea35c57-2f79-443b-8bd4-66eb83b1cb5c"
      },
      "source": [
        "from collections import Counter\n",
        "num_list= [1, 1, 2, 2, 3, 3, 4, 4, 5, 5] \n",
        "\n",
        "numoccoured=Counter(num_list)\n",
        "num=4\n",
        "print('{} has occoured {} times'.format(num,numoccoured[num]))\n"
      ],
      "execution_count": null,
      "outputs": [
        {
          "output_type": "stream",
          "text": [
            "4 has occoured 2 times\n"
          ],
          "name": "stdout"
        }
      ]
    },
    {
      "cell_type": "code",
      "metadata": {
        "id": "h6w6sVgkOiyA",
        "colab": {
          "base_uri": "https://localhost:8080/"
        },
        "outputId": "61a52aa1-eaed-4892-8021-739a3ed34b46"
      },
      "source": [
        "from collections import Counter \n",
        "\n",
        "# declaring the list \n",
        "l = [1, 1, 2, 2, 3, 3, 4, 4, 5, 5] \n",
        "\n",
        "# driver program \n",
        "x = 3\n",
        "d = Counter(l) \n",
        "print('{} has occurred {} times'.format(x, d[x])) \n"
      ],
      "execution_count": null,
      "outputs": [
        {
          "output_type": "stream",
          "text": [
            "3 has occurred 2 times\n"
          ],
          "name": "stdout"
        }
      ]
    },
    {
      "cell_type": "markdown",
      "metadata": {
        "id": "WcXbXSXmRSLa"
      },
      "source": [
        " Write a Python program to find those numbers which are divisible by 7 and multiple of 5, between 1500 and 2700 (both included)."
      ]
    },
    {
      "cell_type": "code",
      "metadata": {
        "id": "swkCKQDxRTmC",
        "colab": {
          "base_uri": "https://localhost:8080/"
        },
        "outputId": "9e6e03b9-3a3e-4add-d0e3-0b659dccf15a"
      },
      "source": [
        "  result=[]\n",
        "  for num in range(1500,2701):\n",
        "   \n",
        "   if (num%5==0) and (num%7==0):\n",
        "     result.append(str(num))\n",
        "print (','.join(result))"
      ],
      "execution_count": null,
      "outputs": [
        {
          "output_type": "stream",
          "text": [
            "1505,1540,1575,1610,1645,1680,1715,1750,1785,1820,1855,1890,1925,1960,1995,2030,2065,2100,2135,2170,2205,2240,2275,2310,2345,2380,2415,2450,2485,2520,2555,2590,2625,2660,2695\n"
          ],
          "name": "stdout"
        }
      ]
    },
    {
      "cell_type": "code",
      "metadata": {
        "id": "WLUXKcEQSZeg",
        "colab": {
          "base_uri": "https://localhost:8080/",
          "height": 164
        },
        "outputId": "d8fb76df-17cd-4d0f-d92a-19bb6ca78021"
      },
      "source": [
        "num7(1500)"
      ],
      "execution_count": null,
      "outputs": [
        {
          "output_type": "error",
          "ename": "NameError",
          "evalue": "ignored",
          "traceback": [
            "\u001b[0;31m---------------------------------------------------------------------------\u001b[0m",
            "\u001b[0;31mNameError\u001b[0m                                 Traceback (most recent call last)",
            "\u001b[0;32m<ipython-input-19-94bf10c18088>\u001b[0m in \u001b[0;36m<module>\u001b[0;34m()\u001b[0m\n\u001b[0;32m----> 1\u001b[0;31m \u001b[0mnum7\u001b[0m\u001b[0;34m(\u001b[0m\u001b[0;36m1500\u001b[0m\u001b[0;34m)\u001b[0m\u001b[0;34m\u001b[0m\u001b[0;34m\u001b[0m\u001b[0m\n\u001b[0m",
            "\u001b[0;31mNameError\u001b[0m: name 'num7' is not defined"
          ]
        }
      ]
    },
    {
      "cell_type": "code",
      "metadata": {
        "id": "0DFkBLYBSfY_"
      },
      "source": [
        "nl=[]\n",
        "for x in range(1500, 2701):\n",
        "    if (x%7==0) and (x%5==0):\n",
        "        nl.append(str(x))\n",
        "print (','.join(nl))\n"
      ],
      "execution_count": null,
      "outputs": []
    },
    {
      "cell_type": "markdown",
      "metadata": {
        "id": "R4o2_GpfjfJz"
      },
      "source": [
        " Write a Python program to convert temperatures to and from celsius, fahrenheit.\n",
        "\n",
        "Let’s see the conversion formulas to convert temperature in degree Celsius to degree Fahrenheit and vice versa.\n",
        "\n",
        "Celsius = (Fahrenheit – 32) * 5/9\n",
        "\n",
        "Fahrenheit = (Celsius * 9/5) + 32"
      ]
    },
    {
      "cell_type": "code",
      "metadata": {
        "id": "rX9vPxIQjigF"
      },
      "source": [
        "# from celsuis to fahrenhite\n",
        "celsius=float(input('Enter temperature in celsius:'))\n",
        "fahrenheit = (celsius * 9/5) + 32\n",
        "print(\"%.2f celsius is: %.2f Fahrenhite\" %(celsius,fahrenheit)) \n"
      ],
      "execution_count": null,
      "outputs": []
    },
    {
      "cell_type": "code",
      "metadata": {
        "id": "D42-l1NXtdSB"
      },
      "source": [
        "# from Fahrenhite to celsius\n",
        "fahrenheit=float(input('Enter temprature in fahrenheit:'))\n",
        "celsius = (fahrenheit- 32) * 5/9\n",
        "print(\"%.2f Fahrenheit is: %.2f celsius \" % (fahrenheit,celsius))\n"
      ],
      "execution_count": null,
      "outputs": []
    },
    {
      "cell_type": "markdown",
      "metadata": {
        "id": "z2dRkgF-fpiM"
      },
      "source": [
        "#### Write a Python program that accepts a word from the user and reverse it."
      ]
    },
    {
      "cell_type": "code",
      "metadata": {
        "id": "WzpGzDRNS-R6"
      },
      "source": [
        ""
      ],
      "execution_count": null,
      "outputs": []
    },
    {
      "cell_type": "code",
      "metadata": {
        "id": "31kGyKy975z4"
      },
      "source": [
        ""
      ],
      "execution_count": null,
      "outputs": []
    },
    {
      "cell_type": "code",
      "metadata": {
        "id": "rECdZ66kvLOk"
      },
      "source": [
        ""
      ],
      "execution_count": null,
      "outputs": []
    },
    {
      "cell_type": "markdown",
      "metadata": {
        "id": "RClvwkG6peXS"
      },
      "source": [
        ""
      ]
    },
    {
      "cell_type": "markdown",
      "metadata": {
        "id": "QTwcavdipk5S"
      },
      "source": [
        ""
      ]
    },
    {
      "cell_type": "code",
      "metadata": {
        "id": "ACUjlUcNLUft"
      },
      "source": [
        "# Python code to reverse a string  \n",
        "# using extended slice syntax \n",
        "  \n",
        "# Function to reverse a string \n",
        "def reverse(string): \n",
        "    string = string[::-1] \n",
        "    return string "
      ],
      "execution_count": null,
      "outputs": []
    },
    {
      "cell_type": "markdown",
      "metadata": {
        "id": "BZtOXdCZuYhX"
      },
      "source": [
        "check the ages of 10 random people above 35 years\n",
        "age =[25,45,30,59,20,55,81,65]"
      ]
    },
    {
      "cell_type": "code",
      "metadata": {
        "id": "CbKrEekeu7oL"
      },
      "source": [
        "age =[25,45,30,59,20,55,81,65]\n",
        "\n",
        "def check_age(age):\n",
        "   return  age>35\n",
        "   \n",
        "result=list(filter(check_age,age))\n",
        "print(result)\n",
        "     "
      ],
      "execution_count": null,
      "outputs": []
    },
    {
      "cell_type": "markdown",
      "metadata": {
        "id": "rf-wCkTB085c"
      },
      "source": [
        "checking if a word is palindrome or not .A 'palindrome' is a word that reads the same forward as backword\n"
      ]
    },
    {
      "cell_type": "code",
      "metadata": {
        "id": "_RR1xgwEv59p"
      },
      "source": [
        "pal_names=('dad','mam','auto','science','madam','data')\n",
        "palindromes=list(filter(lambda word:word==word[::-1],pal_names))\n",
        "print(palindromes)"
      ],
      "execution_count": null,
      "outputs": []
    },
    {
      "cell_type": "code",
      "metadata": {
        "id": "d98Ez0Zn1cCt"
      },
      "source": [
        "number"
      ],
      "execution_count": null,
      "outputs": []
    },
    {
      "cell_type": "markdown",
      "metadata": {
        "id": "hAuDiL6ypbhw"
      },
      "source": [
        "Coding (Python)\n",
        "1) FizzBuzz. Print numbers from 1 to 100\n",
        "\n",
        "If it’s a multiplier of 3, print “Fizz”\n",
        "If it’s a multiplier of 5, print “Buzz”\n",
        "If both 3 and 5 — “Fizz Buzz”\n",
        "Otherwise, print the number itself\n",
        "Example of output: 1, 2, Fizz, 4, Buzz, Fizz, 7, 8, Fizz, Buzz, 11, Fizz, 13, 14, Fizz Buzz, 16, 17, Fizz, 19, Buzz, Fizz, 22, 23, Fizz, Buzz, 26, Fizz, 28, 29, Fizz Buzz, 31, 32, Fizz, 34, Buzz, Fizz, …\n",
        "\n"
      ]
    },
    {
      "cell_type": "code",
      "metadata": {
        "id": "6MZBXQMBpdEq"
      },
      "source": [
        "for i in range(1,101):\n",
        "  if i%3==0:\n",
        "    print('Fizz')\n",
        "  elif i % 5 == 0:\n",
        "     print( 'Buzz' )\n",
        "  elif i%5==0 and i%3==0:\n",
        "    print('Fizz Buzz' )\n",
        "  else:\n",
        "    print(i)\n",
        "\n",
        "\n"
      ],
      "execution_count": null,
      "outputs": []
    },
    {
      "cell_type": "code",
      "metadata": {
        "id": "Ye9PCw_4toiy"
      },
      "source": [
        "def factorial(n: int):\n",
        "    if n == 0 or n == 1:\n",
        "        return 1\n",
        "    else:\n",
        "        return n * factorial(n - 1)\n"
      ],
      "execution_count": null,
      "outputs": []
    },
    {
      "cell_type": "code",
      "metadata": {
        "id": "v9QDnoEjwGSN"
      },
      "source": [
        "factorial(4)"
      ],
      "execution_count": null,
      "outputs": []
    },
    {
      "cell_type": "code",
      "metadata": {
        "id": "pU_1ipCHwMEt"
      },
      "source": [
        "def factorial(n): \n",
        "    if n < 0: \n",
        "        return 0\n",
        "    elif n == 0 or n == 1: \n",
        "        return 1\n",
        "    else: \n",
        "        fact = 1\n",
        "        while n>1:\n",
        "            fact *= n \n",
        "            n -= 1\n",
        "        return fact \n",
        "  "
      ],
      "execution_count": null,
      "outputs": []
    },
    {
      "cell_type": "code",
      "metadata": {
        "id": "Tjr9TWohJA4f"
      },
      "source": [
        "factorial(3)\n",
        "\n"
      ],
      "execution_count": null,
      "outputs": []
    },
    {
      "cell_type": "code",
      "metadata": {
        "id": "Qlx9LcBSJENX"
      },
      "source": [
        "def factorial(n):\n",
        "  if n==1 or n==0:\n",
        "    return 1\n",
        "  elif n<0:\n",
        "    return 0\n",
        "  else:\n",
        "    fact=1\n",
        "    while (n>1):\n",
        "      fact*=n\n",
        "      n-=1\n",
        "    return fact"
      ],
      "execution_count": null,
      "outputs": []
    },
    {
      "cell_type": "code",
      "metadata": {
        "id": "GQ_rR5LzRnpw"
      },
      "source": [
        "factorial(3)"
      ],
      "execution_count": null,
      "outputs": []
    },
    {
      "cell_type": "markdown",
      "metadata": {
        "id": "GySb0GXYThIH"
      },
      "source": [
        "We can also write this function using recursion:"
      ]
    },
    {
      "cell_type": "code",
      "metadata": {
        "id": "j_uX_wPaRxmg"
      },
      "source": [
        "\n",
        "\n",
        "def factorial(n: int):\n",
        "    if n == 0 or n == 1:\n",
        "        return 1\n",
        "    else:\n",
        "        return n * factorial(n - 1)\n"
      ],
      "execution_count": null,
      "outputs": []
    },
    {
      "cell_type": "code",
      "metadata": {
        "id": "XE5i0UzhTr2s"
      },
      "source": [
        "def factoroal(n:int):\n",
        "  if n==0 or n==1:\n",
        "    return 1\n",
        "  else:\n",
        "    return n* factorial (n-1)"
      ],
      "execution_count": null,
      "outputs": []
    },
    {
      "cell_type": "code",
      "metadata": {
        "id": "gxxu3BEXUBdH"
      },
      "source": [
        "factorial(4)"
      ],
      "execution_count": null,
      "outputs": []
    },
    {
      "cell_type": "code",
      "metadata": {
        "id": "t1YAUIEWRq9m"
      },
      "source": [
        "def factorial(n):# multiplication problem always result=1, addition problem result=0\n",
        "  if n>1:\n",
        "    result=1\n",
        "  for i in range(1,n+1):\n",
        "    result=result*i\n",
        "  return result\n",
        "factorial(4)"
      ],
      "execution_count": null,
      "outputs": []
    },
    {
      "cell_type": "code",
      "metadata": {
        "id": "vBAP_my3Tdp6"
      },
      "source": [
        "# Factorial of a number\n",
        "def factorial_num(num):\n",
        "    fact = 1\n",
        "    if num < 0:\n",
        "        print(\"Enter positive number\")\n",
        "    elif num == 0:\n",
        "        print(\"Factorial of 0 is 1\")\n",
        "    else:\n",
        "        for i in range(1,num+1):\n",
        "            fact =  fact * i\n",
        "        print(\"Factorial of a number is : \", fact)\n",
        "  \n",
        "  "
      ],
      "execution_count": null,
      "outputs": []
    },
    {
      "cell_type": "code",
      "metadata": {
        "id": "QJ-LWb2zT3Dr"
      },
      "source": [
        "factorial_num(4)\n"
      ],
      "execution_count": null,
      "outputs": []
    },
    {
      "cell_type": "code",
      "metadata": {
        "id": "fiyZIYoOR-nO"
      },
      "source": [
        ""
      ],
      "execution_count": null,
      "outputs": []
    },
    {
      "cell_type": "markdown",
      "metadata": {
        "id": "z6F_KjfnVeQa"
      },
      "source": [
        "3) Mean. Compute the mean of number in a list\n",
        "\n",
        "mean([4, 36, 45, 50, 75]) = 42\n",
        "mean([]) = NaN (use float('NaN'))\n"
      ]
    },
    {
      "cell_type": "code",
      "metadata": {
        "id": "1sJc4DvBWohP"
      },
      "source": [
        "def compute_mean(num_list):\n",
        "\n",
        "  for i in num_list:\n",
        "    mean=sum(num_list)/len(num_list)\n",
        "    return mean\n",
        "\n"
      ],
      "execution_count": null,
      "outputs": []
    },
    {
      "cell_type": "code",
      "metadata": {
        "id": "6KMk1gy3Xibt"
      },
      "source": [
        "num_list1=[4, 36, 45, 50, 75]\n",
        "compute_mean(num_list1)"
      ],
      "execution_count": null,
      "outputs": []
    },
    {
      "cell_type": "code",
      "metadata": {
        "id": "A38QiIgpYQHg"
      },
      "source": [
        "num_list1=[4, 36, 45, 50, 75]\n",
        "def mean(numbers):\n",
        "    if len(numbers) > 0:\n",
        "        return sum(numbers) / len(numbers)\n",
        "mean(num_list1)"
      ],
      "execution_count": null,
      "outputs": []
    },
    {
      "cell_type": "markdown",
      "metadata": {
        "id": "k0nz8PsMYPIr"
      },
      "source": [
        "STD. Calculate the standard deviation of elements in a list.\n",
        "\n",
        "std([1, 2, 3, 4]) = 1.29\n",
        "std([1]) = NaN\n",
        "std([]) = NaN\n",
        "\n",
        "\n"
      ]
    },
    {
      "cell_type": "code",
      "metadata": {
        "id": "q-EgRcv7UGhu"
      },
      "source": [
        "from math import sqrt\n",
        "\n",
        "def std_dev(numbers):\n",
        "    if len(numbers) > 0:\n",
        "        avg = sum(numbers)/len(numbers)\n",
        "        var = sum([(i - avg) ** 2 for i in numbers]) / len(numbers)\n",
        "        ans = sqrt(var)\n",
        "        return ans\n",
        "    return float('NaN')"
      ],
      "execution_count": null,
      "outputs": []
    },
    {
      "cell_type": "code",
      "metadata": {
        "id": "IfSppW2iwyt7"
      },
      "source": [
        "std_dev([1, 2, 3, 4])"
      ],
      "execution_count": null,
      "outputs": []
    },
    {
      "cell_type": "code",
      "metadata": {
        "id": "uePXIdz1SJ-g"
      },
      "source": [
        "from math import sqrt\n",
        "\n",
        "def std_dev(numbers):\n",
        "    if len(numbers) > 0:\n",
        "        avg = sum(numbers)/len(numbers)\n",
        "        var = sum([(i - avg) ** 2 for i in numbers]) / len(numbers)\n",
        "        ans = sqrt(var)\n",
        "        return ans\n",
        "    return float('NaN')"
      ],
      "execution_count": null,
      "outputs": []
    },
    {
      "cell_type": "code",
      "metadata": {
        "id": "wIhcOIRHSucE"
      },
      "source": [
        "from platform import python\n"
      ],
      "execution_count": null,
      "outputs": []
    },
    {
      "cell_type": "code",
      "metadata": {
        "id": "WUO7cXkJv-vU"
      },
      "source": [
        "from math import sqrt\n",
        "def std_computing(num_list):\n",
        "  if len(num_list)>0:\n",
        "    mean=sum(num_list)/len(num_list)\n",
        "    var= sum([(i-mean)**2 for i in num_list])/len(num_list)\n",
        "    std=sqrt(var)\n",
        "    return std\n",
        "\n",
        "  return float('NaN')"
      ],
      "execution_count": null,
      "outputs": []
    },
    {
      "cell_type": "code",
      "metadata": {
        "id": "NmY-qIOOwFkW"
      },
      "source": [
        "std_computing([1, 2, 3, 4])"
      ],
      "execution_count": null,
      "outputs": []
    },
    {
      "cell_type": "markdown",
      "metadata": {
        "id": "IdhBEas2A5Tk"
      },
      "source": [
        "RMSE. Calculate the RMSE (root mean squared error) of a model. The function takes in two lists: one with actual values, one with predictions.\n",
        "\n",
        "rmse([1, 2], [1, 2]) = 0\n",
        "rmse([1, 2, 3], [3, 2, 1]) = 1.63\n"
      ]
    },
    {
      "cell_type": "code",
      "metadata": {
        "id": "wI1Vt5uza-IV"
      },
      "source": [
        "import math\n",
        "def compute_rmse(y_true, y_pred):\n",
        "  assert len(y_true)== len(y_pred),'different length'\n",
        "  squares = sum((x - y)**2 for x, y in zip(y_true, y_pred))\n",
        "\n",
        "  #squares =sum((x-y)**2 for x,y in zip(y_true, y_pred))\n",
        "  return math.sqrt(squares / len(y_true))\n",
        "  \n",
        " \n",
        "  "
      ],
      "execution_count": null,
      "outputs": []
    },
    {
      "cell_type": "code",
      "metadata": {
        "id": "Y_pToY3NCZSl"
      },
      "source": [
        "compute_rmse([1, 2, 3], [3, 2, 1])"
      ],
      "execution_count": null,
      "outputs": []
    },
    {
      "cell_type": "code",
      "metadata": {
        "id": "ncI4Okn5Cqv4"
      },
      "source": [
        "import math\n",
        "\n",
        "def rmse(y_true, y_pred):\n",
        "    assert len(y_true) == len(y_pred), 'different sizes of the arguments'\n",
        "    squares = sum((x - y)**2 for x, y in zip(y_true, y_pred))\n",
        "    return math.sqrt(squares / len(y_true))\n",
        "\n"
      ],
      "execution_count": null,
      "outputs": []
    },
    {
      "cell_type": "code",
      "metadata": {
        "id": "tq_p2K4mEHcv"
      },
      "source": [
        "rmse([1, 2, 3], [3, 2, 1])"
      ],
      "execution_count": null,
      "outputs": []
    },
    {
      "cell_type": "markdown",
      "metadata": {
        "id": "3N5fWMe8nMTh"
      },
      "source": [
        "6) Remove duplicates. Remove duplicates in list. The list is not sorted and the order of elements from the original list should be preserved.\n",
        "\n",
        "[1, 2, 3, 1] ⇒ [1, 2, 3]\n",
        "[1, 3, 2, 1, 5, 3, 5, 1, 4] ⇒ [1, 3, 2, 5, 4]\n"
      ]
    },
    {
      "cell_type": "code",
      "metadata": {
        "id": "45WZiu0WEQua"
      },
      "source": [
        "def remove_duplicates(numbers_list):\n",
        "  result=[]\n",
        "  for num in numbers_list:\n",
        "   if  num.count==1:\n",
        "     return result.append(num)\n",
        "  \n",
        "  else: \n",
        "      return 'number is duplicated'"
      ],
      "execution_count": null,
      "outputs": []
    },
    {
      "cell_type": "code",
      "metadata": {
        "id": "jnJRpDSooe9r"
      },
      "source": [
        "remove_duplicates([1, 3, 2, 1, 5, 3, 5, 1, 4] )"
      ],
      "execution_count": null,
      "outputs": []
    },
    {
      "cell_type": "code",
      "metadata": {
        "id": "wPp9D09_o2gL"
      },
      "source": [
        "def remove_duplicates(lst):\n",
        "    new_list = []\n",
        "    mentioned_values = set()\n",
        "    for elem in lst:\n",
        "        if elem not in mentioned_values:\n",
        "            new_list.append(elem)\n",
        "            mentioned_values.add(elem)\n",
        "    return new_list"
      ],
      "execution_count": null,
      "outputs": []
    },
    {
      "cell_type": "code",
      "metadata": {
        "id": "NUf_Ngemp3ED"
      },
      "source": [
        "remove_duplicates([1, 3, 2, 1, 5, 3, 5, 1, 4])"
      ],
      "execution_count": null,
      "outputs": []
    },
    {
      "cell_type": "code",
      "metadata": {
        "id": "9viw0wk2qANa"
      },
      "source": [
        ""
      ],
      "execution_count": null,
      "outputs": []
    },
    {
      "cell_type": "markdown",
      "metadata": {
        "id": "ACoY8f9fpnHy"
      },
      "source": [
        "7) Count. Count how many times each element in a list occurs.\n",
        "\n",
        "[1, 3, 2, 1, 5, 3, 5, 1, 4] ⇒\n",
        "\n",
        "1: 3 times\n",
        "2: 1 time\n",
        "3: 2 times\n",
        "4: 1 time\n",
        "5: 2 times\n"
      ]
    },
    {
      "cell_type": "code",
      "metadata": {
        "id": "L-69MPFPqXUQ"
      },
      "source": [
        "from collections import Counter\n",
        "numbers = [1, 3, 2, 1, 5, 3, 5, 1, 4]\n",
        "Counter(numbers)"
      ],
      "execution_count": null,
      "outputs": []
    },
    {
      "cell_type": "code",
      "metadata": {
        "id": "LaId87gQqr7D"
      },
      "source": [
        "def duplicate_count(num, num_list):\n",
        "  result=[]\n",
        "  for num in num_list:\n",
        "    if count(num)>0:\n",
        "       result.append(num)\n",
        "\n",
        "    return set(result)\n",
        "  else: \n",
        "    count(num)==0:\n",
        " print('num is not frequent')\n",
        "\n"
      ],
      "execution_count": null,
      "outputs": []
    },
    {
      "cell_type": "code",
      "metadata": {
        "id": "4V94j4iZr-DW"
      },
      "source": [
        "numbers = [1, 3, 2, 1, 5, 3, 5, 1, 4]\n",
        "# Python code to count the number of occurrences \n",
        "def countX(lst, x): \n",
        "    num = 0\n",
        "    for ele in lst: \n",
        "        if (ele == x): \n",
        "            num = num + 1\n",
        "    return num \n",
        "  \n",
        "# Driver Code \n",
        "numbers = [1, 3, 2, 1, 5, 3, 5, 1, 4]\n",
        "x = 1\n",
        "print('{} has occurred {} times'.format(x, countX(numbers, x))) \n"
      ],
      "execution_count": null,
      "outputs": []
    },
    {
      "cell_type": "markdown",
      "metadata": {
        "id": "TfNRaE4WptKR"
      },
      "source": [
        "8) Palindrome. Is string a palindrome? A palindrome is a word which reads the same backward as forwards.\n",
        "\n",
        "“ololo” ⇒ Yes\n",
        "“cafe” ⇒ No\n"
      ]
    },
    {
      "cell_type": "code",
      "metadata": {
        "id": "zkHJLS5DuC9y"
      },
      "source": [
        "def pailindrome(lst):\n",
        "  word=[]\n",
        "  for text in lst:\n",
        "    if lst[::-1]==lst[1::]:\n",
        "      word.append(text)\n",
        "    "
      ],
      "execution_count": null,
      "outputs": []
    },
    {
      "cell_type": "code",
      "metadata": {
        "id": "0fT27kPkrNH7"
      },
      "source": [
        "word_list=['mam','dad','coco','some']\n",
        "pailindrome(word_list)"
      ],
      "execution_count": null,
      "outputs": []
    },
    {
      "cell_type": "code",
      "metadata": {
        "id": "3iclLWQnrt2l"
      },
      "source": [
        "def isPalindrome(s):\n",
        "    return s == s[::-1]\n",
        "# Driver code\n",
        "s = \"malayalam\"\n",
        "ans = isPalindrome(s)\n",
        " \n",
        "if ans:\n",
        "    print(\"Yes\")\n",
        "else:\n",
        "    print(\"No\")"
      ],
      "execution_count": null,
      "outputs": []
    },
    {
      "cell_type": "code",
      "metadata": {
        "id": "L27hueIqt88R"
      },
      "source": [
        "# function which return reverse of a string\n",
        " \n",
        "def isPalindrome(s):\n",
        "    return s == s[::-1]\n",
        " \n",
        " \n",
        "# Driver code\n",
        "s = \"malayalam\"\n",
        "ans = isPalindrome(s)\n",
        " \n",
        "if ans:\n",
        "    print(\"Yes\")\n",
        "else:\n",
        "    print(\"No\")"
      ],
      "execution_count": null,
      "outputs": []
    },
    {
      "cell_type": "code",
      "metadata": {
        "id": "1qFyVmC5sTao"
      },
      "source": [
        "word_list=('mam','dad','jenia')\n",
        "is_palindrome(word_list)"
      ],
      "execution_count": null,
      "outputs": []
    },
    {
      "cell_type": "code",
      "metadata": {
        "id": "_EH3lwTYsgg1"
      },
      "source": [
        "pal_names=('dad','mam','auto','science','madam','data')\n",
        "palindromes=list(filter(lambda word:word==word[::-1],pal_names))\n",
        "print(palindromes)"
      ],
      "execution_count": null,
      "outputs": []
    },
    {
      "cell_type": "markdown",
      "metadata": {
        "id": "rS4McA293fcd"
      },
      "source": [
        "Counter. We have a list with identifiers of form “id-SITE”. Calculate how many ids we have per site.\n",
        "\n"
      ]
    },
    {
      "cell_type": "code",
      "metadata": {
        "id": "kRAT-En8tJXL"
      },
      "source": [
        "def count_identifier(id,str_lst):\n",
        "  result={}\n",
        "  for str in enumerate(id,str_lst):\n",
        "    if id>0:\n",
        "      result.append(id,str_lst)\n",
        "  return result"
      ],
      "execution_count": null,
      "outputs": []
    },
    {
      "cell_type": "code",
      "metadata": {
        "id": "fDTGA-cbEZTW"
      },
      "source": [
        "thisdict =\t{\n",
        "  \"brand\": \"Ford\",\n",
        "  \"model\": \"Mustang\",\n",
        "  \"year\": 1964\n",
        "}\n",
        "x = thisdict.get(\"model\")\n",
        "print(x)\n"
      ],
      "execution_count": null,
      "outputs": []
    },
    {
      "cell_type": "code",
      "metadata": {
        "id": "_2nYQnazEfex"
      },
      "source": [
        "dict={ 'site': 'id'}"
      ],
      "execution_count": null,
      "outputs": []
    },
    {
      "cell_type": "code",
      "metadata": {
        "id": "9Nyqm0gwvOQZ"
      },
      "source": [
        "def count_num(num_lst):\n",
        "   return set([num for num in num_lst if num_lst.count(num)>1])# set make it unique , count is amethod connected to list, the list is only passed in func\n",
        "   #to know the number of occurence"
      ],
      "execution_count": null,
      "outputs": []
    },
    {
      "cell_type": "code",
      "metadata": {
        "id": "6R0_S7usvxRz"
      },
      "source": [
        "numlist=[1,1,1,2,3,3,4,4,4]\n",
        "count_num(numlist)\n"
      ],
      "execution_count": null,
      "outputs": []
    },
    {
      "cell_type": "code",
      "metadata": {
        "id": "oIZo-lLWwBoc"
      },
      "source": [
        "def count_num(num_lst):\n",
        "  result=[]\n",
        "  for num in num_lst:\n",
        "    if num_lst.count(num)>1 and num not in result:\n",
        "      result.append(num)\n",
        "  return result"
      ],
      "execution_count": null,
      "outputs": []
    },
    {
      "cell_type": "code",
      "metadata": {
        "id": "7xiFJx16yWWt"
      },
      "source": [
        "numlist1=[1,1,1,2,3,3,4,4,4]\n",
        "\n",
        "count_num(numlist1)"
      ],
      "execution_count": null,
      "outputs": []
    },
    {
      "cell_type": "code",
      "metadata": {
        "id": "O-MWNyQJykNU"
      },
      "source": [
        "list1=[1,2,3,4]\n",
        "list2=[5,6,7,8]\n",
        "print(len(list1+list2))"
      ],
      "execution_count": null,
      "outputs": []
    },
    {
      "cell_type": "code",
      "metadata": {
        "id": "DBkvPLZSy6Sa"
      },
      "source": [
        "# counting the frequency of website ids\n",
        "def new_list(ids):\n",
        "  res=[]\n",
        "  for i in ids:\n",
        "    id=i[-2:]\n",
        "    res.append(id)\n",
        "  print(res)\n"
      ],
      "execution_count": null,
      "outputs": []
    },
    {
      "cell_type": "code",
      "metadata": {
        "id": "nPTQG-feC_eD"
      },
      "source": [
        "\n",
        "new_list(['xgc89nmam8so3-ID', 'oo702mi2p5r2-IN','g80cj19c12p-IN','jcb4ozn87q63-PL','5kdkfo-UA','xgcc89nmam8so3-ID','5kgdkfo-UA','5knnkfo-UA'])"
      ],
      "execution_count": null,
      "outputs": []
    },
    {
      "cell_type": "code",
      "metadata": {
        "id": "vDkVyByLHdFB"
      },
      "source": [
        "def new_list(ids):\n",
        "    res = []\n",
        "    for i in ids:\n",
        "        id = i[-2:]\n",
        "        res.append(id)\n",
        "    #print(res)\n",
        "    result = {}\n",
        "    for x in res:\n",
        "        result[x] = res.count(x)\n",
        "    return result"
      ],
      "execution_count": null,
      "outputs": []
    },
    {
      "cell_type": "code",
      "metadata": {
        "id": "XL_5XzuXJGk9"
      },
      "source": [
        "new_list(['xgc89nmam8so3-ID', 'oo702mi2p5r2-IN','g80cj19c12p-IN','jcb4ozn87q63-PL','5kdkfo-UA','xgcc89nmam8so3-ID','5kgdkfo-UA','5knnkfo-UA'])"
      ],
      "execution_count": null,
      "outputs": []
    },
    {
      "cell_type": "code",
      "metadata": {
        "id": "vu72VsQaJW-V"
      },
      "source": [
        "#list comprehension\n",
        "def new_func(ids):\n",
        "    return {id: [i[-2:] for i in ids].count(id) for id in [i[-2:] for i in ids]}"
      ],
      "execution_count": null,
      "outputs": []
    },
    {
      "cell_type": "code",
      "metadata": {
        "id": "OxGC1vmsGiwb"
      },
      "source": [
        "# 'aaaabbbcca' ⇒ [('a', 4), ('b', 3), ('c', 2), ('a', 1)]\n",
        "def count_alpha(alpha):\n",
        "    new_res={}\n",
        "    for x in alpha:\n",
        "        new_res[x] = alpha.count(x)\n",
        "    return new_res\n",
        "count_alpha('aaaabbbcca')"
      ],
      "execution_count": null,
      "outputs": []
    },
    {
      "cell_type": "code",
      "metadata": {
        "id": "pU50BH_dHKPr"
      },
      "source": [
        "def count(s):# i have string so i will pass a list, all i need dict , key is char, value is count\n",
        "\n",
        "  new_res={}\n",
        "  for x in s:\n",
        "    new_res[x]=s.count(x)\n",
        "  return new_res\n",
        "\n",
        "\n"
      ],
      "execution_count": null,
      "outputs": []
    },
    {
      "cell_type": "code",
      "metadata": {
        "id": "pVK8xbAgIGKb"
      },
      "source": [
        "count('aaaabbbcca')"
      ],
      "execution_count": null,
      "outputs": []
    },
    {
      "cell_type": "code",
      "metadata": {
        "id": "i9_f3Unayx0K"
      },
      "source": [
        "name = \"Khulood\"\n",
        "age = 18\n",
        "work = True"
      ],
      "execution_count": null,
      "outputs": []
    },
    {
      "cell_type": "code",
      "metadata": {
        "id": "Q7j_hq_CyyQZ"
      },
      "source": [
        "age == \"18\""
      ],
      "execution_count": null,
      "outputs": []
    },
    {
      "cell_type": "code",
      "metadata": {
        "id": "TuGeyQE2z2aP"
      },
      "source": [
        "info = [\"Khulood\", 18, True]\n",
        "info[2]"
      ],
      "execution_count": null,
      "outputs": []
    },
    {
      "cell_type": "code",
      "metadata": {
        "id": "kVsE9ydh0MIC"
      },
      "source": [
        "info = {\n",
        "    \"name\": \"Khulood\",\n",
        "    \"age\": 18,\n",
        "    \"work\": True\n",
        "}\n",
        "info"
      ],
      "execution_count": null,
      "outputs": []
    },
    {
      "cell_type": "code",
      "metadata": {
        "id": "lwAdLMOM1QCu"
      },
      "source": [
        "if age >= 18:\n",
        "  print(\"Adult\")\n",
        "else:\n",
        "  print(\"Young\")\n",
        "# switch\n"
      ],
      "execution_count": null,
      "outputs": []
    },
    {
      "cell_type": "code",
      "metadata": {
        "id": "UJw4axUo1o9k"
      },
      "source": [
        "# for\n",
        "# while"
      ],
      "execution_count": null,
      "outputs": []
    },
    {
      "cell_type": "code",
      "metadata": {
        "id": "VSmDp0y9IO5k"
      },
      "source": [
        "from functools import reduce\n",
        "numbers = [3, 4, 6, 9, 10, 12]\n",
        "def abc(a, b):\n",
        "    return a * b\n",
        "result = reduce(abc, numbers)\n",
        "print(result)"
      ],
      "execution_count": null,
      "outputs": []
    },
    {
      "cell_type": "code",
      "metadata": {
        "id": "fTha19kEa34j"
      },
      "source": [
        "# reverse string\n",
        "str1 = \"Khulood\"\n",
        "for char in str1[::-1]:\n",
        "  print(char)"
      ],
      "execution_count": null,
      "outputs": []
    },
    {
      "cell_type": "code",
      "metadata": {
        "id": "VzTHz9jeyzJp"
      },
      "source": [
        "str1 = \"Khulood\"\n",
        "c =0\n",
        "l = len(str1)\n",
        "for x in range(l):\n",
        "  print(f\"{x}= {l-x-1} {str1[l-x-1]}\")"
      ],
      "execution_count": null,
      "outputs": []
    },
    {
      "cell_type": "code",
      "metadata": {
        "id": "wYgGi1LTzNdK"
      },
      "source": [
        "len(str)"
      ],
      "execution_count": null,
      "outputs": []
    },
    {
      "cell_type": "code",
      "metadata": {
        "id": "cmxyvTG46E5C"
      },
      "source": [
        "import re\n",
        "\n",
        "#Check if the string starts with \"The\" and ends with \"Spain\":\n",
        "\n",
        "txt = \"im happy\"\n",
        "x = re.search(\"^im happy.$\", txt) # ^ start with, $ end with without space '. ' include one litter or zero litter * zero litter or anythig like sentence\n",
        "# + one liter or more\n",
        "\n",
        "if x:\n",
        "  print(\"YES! We have a match!\")\n",
        "else:\n",
        "  print(\"No match\")\n"
      ],
      "execution_count": null,
      "outputs": []
    },
    {
      "cell_type": "code",
      "metadata": {
        "id": "G4oqpWSO82zz"
      },
      "source": [
        "# interview question plot christmas tree\n",
        "def triangleShape(n):\n",
        "    for i in range(n):# for plotting first row so i=zero\n",
        "        for j in range(n-i):# j for making spaces it is placeholder j=4-0=4 so the first star will be after 4 spaces or placeholders\n",
        "            print(' ', end=' ') # print space so first print at i=0, will be four spaces\n",
        "        for k in range(2*i+1):# the second four loop to count t😏he number of stars when i=0, it will print first star\n",
        "            print('*',end=' ') # print stars\n",
        "        print() # getting next line\n",
        "triangleShape(4)# when i=0, print one star, i=1 print three stars, i=2 print 5 stars, i=3 print 7 stars because 2*i+1"
      ],
      "execution_count": null,
      "outputs": []
    },
    {
      "cell_type": "code",
      "metadata": {
        "id": "YlAbRd3cjwY6"
      },
      "source": [
        "def draw_chrismas(num):\n",
        "  for i in range(num):\n",
        "    for j in range(num-i):\n",
        "      print (' ',end=' ')\n",
        "    for k in range(2*i+1):\n",
        "        print('*', end=' ')\n",
        "    \n",
        "    print()"
      ],
      "execution_count": null,
      "outputs": []
    },
    {
      "cell_type": "code",
      "metadata": {
        "id": "Ozv3m_e8lhuy"
      },
      "source": [
        "draw_chrismas(4)"
      ],
      "execution_count": null,
      "outputs": []
    },
    {
      "cell_type": "code",
      "metadata": {
        "id": "1nz_RsCOlmKt"
      },
      "source": [
        ""
      ],
      "execution_count": null,
      "outputs": []
    },
    {
      "cell_type": "markdown",
      "metadata": {
        "id": "3xMioLgzmtj4"
      },
      "source": [
        "#Puzle Question: how to do 24 out of 8,8,3,3\n",
        "Ans:  Since i know that 8*3 =24, i got do something the same but in diffiret look so i need to have 3 to be dominator of dominator the best way:\n",
        "8/(3-8/3), I know 3= 9/3 so 9/3-8/3=1/3 "
      ]
    },
    {
      "cell_type": "code",
      "metadata": {
        "id": "wxFlsYk8Ax2W"
      },
      "source": [
        "# do morphological recursion as follows:\n",
        "prefix = 'anti' #initial prefix\n",
        "word = 'missile' #initial word\n",
        "print(word) #print word\n",
        "\n"
      ],
      "execution_count": null,
      "outputs": []
    },
    {
      "cell_type": "code",
      "metadata": {
        "id": "WmFnEhUtHwVk"
      },
      "source": [
        "prefix = 'anti'\n",
        "words = ['missile','racism','music']\n",
        "for word in words: #iterate over words\n",
        "  \n",
        "  print(word) #print word #for each word, iterate 3 times for i in range(3): #add prefix to current word\n",
        "for i in range(3):\n",
        "  word = prefix + '-' + word \n",
        "print(word) #print new word\n",
        "\n"
      ],
      "execution_count": null,
      "outputs": []
    },
    {
      "cell_type": "code",
      "metadata": {
        "id": "D8dBFDNtA6sd"
      },
      "source": [
        "for i in range(3): #iterate 3 times\n",
        "  word = prefix + '-' + word #add prefix...\n",
        "print(word) #print new word "
      ],
      "execution_count": null,
      "outputs": []
    },
    {
      "cell_type": "code",
      "metadata": {
        "id": "MSuWx72XBRK9"
      },
      "source": [
        "\n",
        "kalma = prefix + '-' + word #add prefix...\n",
        "print(kalma) #print new word "
      ],
      "execution_count": null,
      "outputs": []
    },
    {
      "cell_type": "code",
      "metadata": {
        "id": "2rrswTCtnQD5"
      },
      "source": [
        "# define a function that calculate prime number\n",
        "\n",
        "def is_prime(num):\n",
        "  if num%2==0:\n",
        "    print('number is not prime number')\n",
        "  else:\n",
        "    print('The number is prime')"
      ],
      "execution_count": null,
      "outputs": []
    },
    {
      "cell_type": "code",
      "metadata": {
        "id": "TQhPwiDeTB_l"
      },
      "source": [
        "is_prime(5)"
      ],
      "execution_count": null,
      "outputs": []
    },
    {
      "cell_type": "code",
      "metadata": {
        "id": "Fs-Ug4T1Tf5p"
      },
      "source": [
        "is_prime(4)"
      ],
      "execution_count": null,
      "outputs": []
    },
    {
      "cell_type": "markdown",
      "metadata": {
        "id": "PJ5hFSq18dQe"
      },
      "source": [
        "Create a program that asks the user to enter their name and their age. Print out a message addressed to them that tells them the year that they will turn 100 years old."
      ]
    },
    {
      "cell_type": "code",
      "metadata": {
        "id": "-JIzC93xTjWv"
      },
      "source": [
        "def is_100y(year_now):\n",
        "  name=input ('your name')\n",
        "  age= input('your age')\n",
        "  age=int(age)\n",
        "  year_100=age+100+year_now\n",
        "  print(name, \"will turn 100 year in year of:\", year_100)\n"
      ],
      "execution_count": null,
      "outputs": []
    },
    {
      "cell_type": "code",
      "metadata": {
        "id": "g5y5Zrld-Fz_"
      },
      "source": [
        "is_100y(2020)"
      ],
      "execution_count": null,
      "outputs": []
    },
    {
      "cell_type": "code",
      "metadata": {
        "id": "1MdmUSqH-Pi-"
      },
      "source": [
        "import datetime\n",
        "now = datetime.datetime.now()\n",
        "nowYear = (now.year)\n",
        "a=input(\"Enter your name:\")\n",
        "b=int(input(\"Enter your age:\"))\n",
        "print(\"Running year is \"+str(nowYear))\n",
        "future=(nowYear-b)+100\n",
        "print(\"After 100 years you will be in the year \",future)"
      ],
      "execution_count": null,
      "outputs": []
    },
    {
      "cell_type": "code",
      "metadata": {
        "id": "KT2uikUrD92l"
      },
      "source": [
        "import datetime\n",
        "year_now=datetime.datetime.now()\n",
        "now=int(year_now.year)#change time to int\n",
        "#def is_100y(year_now):\n",
        "name=input ('your name')\n",
        "age= input('your age')\n",
        "age=int(age)\n",
        "year_100=(now - age) +100\n",
        "\n",
        "print(name, \"will turn 100 year in year of:\", year_100)\n"
      ],
      "execution_count": null,
      "outputs": []
    },
    {
      "cell_type": "code",
      "metadata": {
        "id": "QfVqGytdFdpC"
      },
      "source": [
        "_"
      ],
      "execution_count": null,
      "outputs": []
    },
    {
      "cell_type": "markdown",
      "metadata": {
        "id": "jvumbATS2Lyc"
      },
      "source": [
        "This is probably by far the most common string manipulation interview question.Given an input string, reverse all the words. To clarify , input: “Interviews are awesome!” output: “ awesome ! are Interviews”. Consider all consecutive non-whitespace characters as individual words. If there are multiple spaces between words reduce them to a single white space. Also remove all leading and trailing whitespaces, so the output for “  CS degree”,”CS   degree”,”CS degree”, or\n",
        " “  CS degree  “ are all the same “degree CS”\n",
        " \n"
      ]
    },
    {
      "cell_type": "code",
      "metadata": {
        "id": "cekP7G5PH17q"
      },
      "source": [
        "def lambda_handler(event, context):\n",
        "    # TODO implement\n",
        "    return {\n",
        "        'statusCode': 200,\n",
        "        'body': json.dumps('Hello from Lambda!')\n",
        "    }\n"
      ],
      "execution_count": null,
      "outputs": []
    },
    {
      "cell_type": "code",
      "metadata": {
        "id": "juSy_BafSvWW"
      },
      "source": [
        ""
      ],
      "execution_count": null,
      "outputs": []
    },
    {
      "cell_type": "markdown",
      "metadata": {
        "id": "Nqrs85cHV2xG"
      },
      "source": [
        "Ask the user for a number. Depending on whether the number is even or odd, print out an appropriate message to the user.\n",
        "\n",
        "Hint: how does an even / odd number react differently when divided by 2?\n",
        "\n",
        "Extras:\n",
        "\n",
        "If the number is a multiple of 4, print out a different message.\n",
        "Ask the user for two numbers: one number to check (call it num) and one number to divide by (check). If check divides evenly into num, tell that to the user. If not, print a different appropriate message.\n"
      ]
    },
    {
      "cell_type": "code",
      "metadata": {
        "id": "dAF8-HHsV32N"
      },
      "source": [
        "num=int(input('enter number'))\n",
        "\n",
        "mod=num % 2\n",
        "if mod>0:\n",
        "  print('This number is odd')\n",
        "\n",
        "else:\n",
        "  print('This number is even')\n"
      ],
      "execution_count": null,
      "outputs": []
    },
    {
      "cell_type": "code",
      "metadata": {
        "id": "bVx9PCWpWqyu"
      },
      "source": [
        "num = int(input(\"Enter a number: \"))\n",
        "mod = num % 2\n",
        "if mod > 0:\n",
        "    print(\"You picked an odd number.\")\n",
        "else:\n",
        "    print(\"You picked an even number.\")\n"
      ],
      "execution_count": null,
      "outputs": []
    },
    {
      "cell_type": "code",
      "metadata": {
        "id": "Mv_bg2GQZM8A"
      },
      "source": [
        "num=int(input('enter number'))# int before input is required because input give string\n",
        "if num%2==0:\n",
        "  print('number is even')\n",
        "else:\n",
        "    print('number is odd')\n"
      ],
      "execution_count": null,
      "outputs": []
    },
    {
      "cell_type": "code",
      "metadata": {
        "id": "HPp1VAkLhR-A"
      },
      "source": [
        "6"
      ],
      "execution_count": null,
      "outputs": []
    },
    {
      "cell_type": "markdown",
      "metadata": {
        "id": "XRxy9sVdl1cY"
      },
      "source": [
        "Take two lists, say for example these two:\n",
        "\n",
        "  a = [1, 1, 2, 3, 5, 8, 13, 21, 34, 55, 89]\n",
        "  b = [1, 2, 3, 4, 5, 6, 7, 8, 9, 10, 11, 12, 13]\n",
        "and write a program that returns a list that contains only the elements that are common between the lists (without duplicates). Make sure your program works on two lists of different sizes.\n",
        "\n",
        "Extras:\n",
        "\n",
        "Randomly generate two lists to test this\n",
        "Write this in one line of Python (don’t worry if you can’t figure this out at this point - we’ll get to it soon)\n"
      ]
    },
    {
      "cell_type": "code",
      "metadata": {
        "id": "PycGjye-l30L"
      },
      "source": [
        "def unique_list(s1,s2):\n",
        "  result=[]\n",
        "  for num in s1:\n",
        "    if num in s2:\n",
        "      rest=(result.append(num))\n",
        "  \n",
        "  return(rest)\n"
      ],
      "execution_count": null,
      "outputs": []
    },
    {
      "cell_type": "code",
      "metadata": {
        "id": "q7xNd5dEmxmB"
      },
      "source": [
        "a = [1, 1, 2, 3, 5, 8, 13, 21, 34, 55, 89]\n",
        "b = [1, 2, 3, 4, 5, 6, 7, 8, 9, 10, 11, 12, 13] \n",
        "unique_list(a,b)\n",
        "\n"
      ],
      "execution_count": null,
      "outputs": []
    },
    {
      "cell_type": "code",
      "metadata": {
        "id": "JhOhHTV2nDIC"
      },
      "source": [
        "a = [1, 1, 2, 3, 5, 8, 13, 21, 34, 55, 89]\n",
        "b = [1, 2, 3, 4, 5, 6, 7, 8, 21]\n",
        "\n",
        "c = []\n",
        "\n",
        "for i in b:\n",
        " if i in a:\n",
        "\n",
        "    c.append(i)\n",
        "\n",
        "print(c)"
      ],
      "execution_count": null,
      "outputs": []
    },
    {
      "cell_type": "code",
      "metadata": {
        "id": "mLc8olHYqB-R"
      },
      "source": [
        "a = [1, 1, 2, 3, 5, 8, 13, 21, 34, 55, 89]\n",
        "b = [1, 2, 3, 4, 5, 6, 7, 8, 21]\n",
        "c = []\n",
        "\n",
        "for i in a:\n",
        " if i in b:\n",
        "\n",
        "    c.append(i)\n",
        "\n",
        "print(c)"
      ],
      "execution_count": null,
      "outputs": []
    },
    {
      "cell_type": "code",
      "metadata": {
        "id": "CUzEq7Pkokm7"
      },
      "source": [
        "s1 = [1, 1, 2, 3, 5, 8, 13, 21, 34, 55, 89]\n",
        "s2 = [1, 2, 3, 4, 5, 6, 7, 8, 21]\n",
        "\n",
        "\n",
        "result=[]\n",
        "for num in s1:\n",
        "  if num in s2:\n",
        "    result.append(num)\n",
        "print (result)"
      ],
      "execution_count": null,
      "outputs": []
    },
    {
      "cell_type": "code",
      "metadata": {
        "id": "9KHuNGkWpipn"
      },
      "source": [
        ","
      ],
      "execution_count": null,
      "outputs": []
    },
    {
      "cell_type": "markdown",
      "metadata": {
        "id": "gflTG1Wgx8ip"
      },
      "source": [
        "take a list and print all numbers of list less than 5\n"
      ]
    },
    {
      "cell_type": "code",
      "metadata": {
        "id": "HbPdlphTyfOn"
      },
      "source": [
        "def is_less_5(x):\n",
        "  result=[]\n",
        "  for i in x:\n",
        "    if i<5:\n",
        "      rest=result.append(i)\n",
        "      return(rest)\n",
        "  #print(is_less_5([1, 1, 2, 3, 5, 8, 21]))\n"
      ],
      "execution_count": null,
      "outputs": []
    },
    {
      "cell_type": "code",
      "metadata": {
        "id": "rLgQH0wczTcj"
      },
      "source": [
        "is_less_5([1, 1, 2, 3, 5, 8, 21])"
      ],
      "execution_count": null,
      "outputs": []
    },
    {
      "cell_type": "code",
      "metadata": {
        "id": "qMNN-gO7zdEA"
      },
      "source": [
        " a=[1, 1, 2, 3, 5, 8, 21]\n",
        "print([num for num in a if num<5])#comprehension list\n"
      ],
      "execution_count": null,
      "outputs": []
    },
    {
      "cell_type": "code",
      "metadata": {
        "id": "xQZbWuqW1Ix1"
      },
      "source": [
        "a = [1, 1, 2, 3, 5, 8, 13, 21, 34, 55, 89]\n",
        "print([num for num in a if num < 5])"
      ],
      "execution_count": null,
      "outputs": []
    },
    {
      "cell_type": "code",
      "metadata": {
        "id": "1MgV66BJ1WG3"
      },
      "source": [
        ""
      ],
      "execution_count": null,
      "outputs": []
    },
    {
      "cell_type": "markdown",
      "metadata": {
        "id": "8Dh1qW1UdXmE"
      },
      "source": [
        "Given a .txt file that has a list of a bunch of names, count how many of each name there are in the file, and print out the results to the screen. I have a .txt file for you, if you want to use it!\n",
        "\n"
      ]
    },
    {
      "cell_type": "code",
      "metadata": {
        "id": "ReATkxDFT19o"
      },
      "source": [
        " a = \"this is a string\"\n",
        " a = a.split(\" \") # a is converted to a list of strings. \n",
        "print (a)\n",
        "['this', 'is', 'a', 'string']"
      ],
      "execution_count": null,
      "outputs": []
    },
    {
      "cell_type": "code",
      "metadata": {
        "id": "LgXiv_A3ae3h"
      },
      "source": [
        "a='Khulood is hired at Amazon'\n",
        "sen=a.split(' ')\n",
        "print(sen)"
      ],
      "execution_count": null,
      "outputs": []
    },
    {
      "cell_type": "code",
      "metadata": {
        "id": "jE-DBN9-awpc"
      },
      "source": [
        ""
      ],
      "execution_count": null,
      "outputs": []
    },
    {
      "cell_type": "markdown",
      "metadata": {
        "id": "w_-zB5OMSep0"
      },
      "source": [
        "Exercise Question 1: Create a function that can accept two arguments name and age and print its value\n",
        "\n"
      ]
    },
    {
      "cell_type": "code",
      "metadata": {
        "id": "WvEEy9n2SfuF"
      },
      "source": [
        "def func1(*args):\n",
        "    for i in args:\n",
        "        print(i)\n",
        "\n",
        "func1(20, 40, 60)\n",
        "func1(80, 100)"
      ],
      "execution_count": null,
      "outputs": []
    },
    {
      "cell_type": "code",
      "metadata": {
        "id": "RIyuyR_UTL1X"
      },
      "source": [
        "def my_function(fname, lname):\n",
        "  print(fname + \" \" + lname)\n",
        "\n",
        "my_function(\"Emil\", \"Refsnes\")"
      ],
      "execution_count": null,
      "outputs": []
    },
    {
      "cell_type": "code",
      "metadata": {
        "id": "1KJHrTlq7vhr"
      },
      "source": [
        "def full_name(first_name,last_name):\n",
        "  print(first_name+ '  '+ last_name)"
      ],
      "execution_count": null,
      "outputs": []
    },
    {
      "cell_type": "code",
      "metadata": {
        "id": "EyDUJmfY8Nh_"
      },
      "source": [
        "full_name('khulood','nasher')"
      ],
      "execution_count": null,
      "outputs": []
    },
    {
      "cell_type": "code",
      "metadata": {
        "id": "zov4x54s8V8k"
      },
      "source": [
        "# If the number of arguments is unknown, add a * before the parameter name:\n",
        "def my_function(*kids):\n",
        "  print(\"The youngest child is \" + kids[2])\n",
        "\n",
        "my_function(\"Emil\", \"Tobias\", \"Linus\")\n"
      ],
      "execution_count": null,
      "outputs": []
    },
    {
      "cell_type": "code",
      "metadata": {
        "id": "NOny3E0W9J1p"
      },
      "source": [
        "def my_ages(*ages):\n",
        "  print(\"my ages is \" + ages[3])"
      ],
      "execution_count": null,
      "outputs": []
    },
    {
      "cell_type": "code",
      "metadata": {
        "id": "MF_rCzxj9iUp"
      },
      "source": [
        "my_ages('20','30','48','40')"
      ],
      "execution_count": null,
      "outputs": []
    },
    {
      "cell_type": "code",
      "metadata": {
        "id": "EtDcco2R9paf"
      },
      "source": [
        "# Keyword Arguments\n",
        "#You can also send arguments with the key = value syntax.\n",
        "\n",
        "#This way the order of the arguments does not matter.\n",
        "def my_function(child3, child2, child1):\n",
        "  print(\"The youngest child is \" + child3)\n",
        "\n",
        "my_function(child1 = \"Emil\", child2 = \"Tobias\", child3 = \"Linus\")\n"
      ],
      "execution_count": null,
      "outputs": []
    },
    {
      "cell_type": "code",
      "metadata": {
        "id": "D3LwTQ1A-_3N"
      },
      "source": [
        "def my_kids(kid1,kid2,kid3,kid4):\n",
        "  print ('my youngest kid is '+ kid4 )"
      ],
      "execution_count": null,
      "outputs": []
    },
    {
      "cell_type": "code",
      "metadata": {
        "id": "a4wyWhbl_VL1"
      },
      "source": [
        "my_kids(kid1='Rami',kid2='Omar',kid3='Adl',kid4='Raslan')"
      ],
      "execution_count": null,
      "outputs": []
    },
    {
      "cell_type": "code",
      "metadata": {
        "id": "2RcappW5_nEy"
      },
      "source": [
        " d = {'cat':7,'chair':'hat','table':7}\n",
        "list(d.keys())\n"
      ],
      "execution_count": null,
      "outputs": []
    },
    {
      "cell_type": "code",
      "metadata": {
        "id": "qZNTZsV-uajJ"
      },
      "source": [
        "kha={'kok':1,'mom':2,'noor':1}\n",
        "list(kha.keys())"
      ],
      "execution_count": null,
      "outputs": []
    },
    {
      "cell_type": "code",
      "metadata": {
        "id": "aQ4OyC_0ul4E"
      },
      "source": [
        "list(kha.values())"
      ],
      "execution_count": null,
      "outputs": []
    },
    {
      "cell_type": "code",
      "metadata": {
        "id": "mJ0bJNEOu55_"
      },
      "source": [
        "list(kha.items())"
      ],
      "execution_count": null,
      "outputs": []
    },
    {
      "cell_type": "markdown",
      "metadata": {
        "id": "1Ncd1XNK2IqU"
      },
      "source": [
        ""
      ]
    },
    {
      "cell_type": "code",
      "metadata": {
        "id": "BPinVwO82JmT"
      },
      "source": [
        "d = {'un':'un','deux':'?','trois':'tri'}\n",
        "d['quatre'] = 'pedwar'\n",
        "d\n",
        "#{'un':'un','deux':'dau','trois':'tri',\n",
        "#'quatre':'pedwar'}"
      ],
      "execution_count": null,
      "outputs": []
    },
    {
      "cell_type": "code",
      "metadata": {
        "id": "My4BlmmG2RCN"
      },
      "source": [
        "d={'baba':'best','mam':'love','sister':'missed'}\n",
        "\n",
        "d"
      ],
      "execution_count": null,
      "outputs": []
    },
    {
      "cell_type": "code",
      "metadata": {
        "id": "nvEeIDbt3o2v"
      },
      "source": [
        "d['sister']='Blessed'\n",
        "d"
      ],
      "execution_count": null,
      "outputs": []
    },
    {
      "cell_type": "code",
      "metadata": {
        "id": "SC96XQwf36CX"
      },
      "source": [
        "for i in [1,2,3]:\n",
        "  print(i)"
      ],
      "execution_count": null,
      "outputs": []
    },
    {
      "cell_type": "code",
      "metadata": {
        "id": "QKpQIJ8uAcF0"
      },
      "source": [
        "for i in [1,2,3]:\n",
        "  print('wow')"
      ],
      "execution_count": null,
      "outputs": []
    },
    {
      "cell_type": "code",
      "metadata": {
        "id": "BR454aBPAv18"
      },
      "source": [
        "for key, value in enumerate(['my', 'name','is','khulood']):\n",
        "  print(key,value)\n"
      ],
      "execution_count": null,
      "outputs": []
    },
    {
      "cell_type": "code",
      "metadata": {
        "id": "meoe3fBU-WPE"
      },
      "source": [
        "for first, second in enumerate(['my', 'name','is','khulood']):\n",
        "  print(first,second)\n"
      ],
      "execution_count": null,
      "outputs": []
    },
    {
      "cell_type": "code",
      "metadata": {
        "id": "NX-VTBplCSGj"
      },
      "source": [
        "# the name with its index , it works for key value\n",
        "colors=['red','blue','green']\n",
        "for a, b in enumerate(colors):\n",
        "  print(b)"
      ],
      "execution_count": null,
      "outputs": []
    },
    {
      "cell_type": "code",
      "metadata": {
        "id": "6k2C_InYCo7t"
      },
      "source": [
        "fruit=('banana','orange','berry')\n",
        "vegetable=('onion','tomato','lettuce')\n",
        "for a,b in zip(fruit,vegetable):\n",
        "  print ((a,b))"
      ],
      "execution_count": null,
      "outputs": []
    },
    {
      "cell_type": "code",
      "metadata": {
        "id": "qJOjznMGGl1k",
        "colab": {
          "base_uri": "https://localhost:8080/"
        },
        "outputId": "c1d2d1d9-62cc-4b50-ad16-66703b762528"
      },
      "source": [
        "d={0:'a',1:'b',2:'c'}\n",
        "for x in d.keys():\n",
        "  print(d[x])\n",
        "\n"
      ],
      "execution_count": null,
      "outputs": [
        {
          "output_type": "stream",
          "text": [
            "a\n",
            "b\n",
            "c\n"
          ],
          "name": "stdout"
        }
      ]
    },
    {
      "cell_type": "code",
      "metadata": {
        "id": "SoAweeDNaRHT",
        "colab": {
          "base_uri": "https://localhost:8080/"
        },
        "outputId": "10fa7b54-dbd3-4fa7-9441-a793531ca54a"
      },
      "source": [
        "d={0:'a',1:'b',2:'c'}\n",
        "for x in d.keys():\n",
        "  print(x)\n",
        "\n"
      ],
      "execution_count": null,
      "outputs": [
        {
          "output_type": "stream",
          "text": [
            "0\n",
            "1\n",
            "2\n"
          ],
          "name": "stdout"
        }
      ]
    },
    {
      "cell_type": "code",
      "metadata": {
        "id": "-7AZuo-2LN1N"
      },
      "source": [
        ""
      ],
      "execution_count": null,
      "outputs": []
    },
    {
      "cell_type": "markdown",
      "metadata": {
        "id": "Gf6xE3gZB956"
      },
      "source": [
        " Write a Python program to print the following string in a specific format (see the output). Go to the editor\n",
        "Sample String : \"Twinkle, twinkle, little star, How I wonder what you are! Up above the world so high, Like a diamond in the sky. Twinkle, twinkle, little star, How I wonder what you are\" Output :\n",
        "\n",
        "Twinkle, twinkle, little star,\n",
        "\tHow I wonder what you are! \n",
        "\t\tUp above the world so high,   \t\t\n",
        "\t\tLike a diamond in the sky. \n",
        "Twinkle, twinkle, little star, \n",
        "\tHow I wonder what you are\n",
        "  "
      ]
    },
    {
      "cell_type": "code",
      "metadata": {
        "colab": {
          "base_uri": "https://localhost:8080/"
        },
        "id": "kAOV2ZexCBFA",
        "outputId": "9ea5a8df-9316-4287-bcb9-4900eb9df832"
      },
      "source": [
        "print('Twinkle, twinkle, little star, \\n\\tHow I wonder what you are!\\n\\t\\tUp above the world so high,\\n\\t\\tLike a diamond in the sky.\\nTwinkle, twinkle, little star,\\n\\tHow I wonder what you are' )"
      ],
      "execution_count": 6,
      "outputs": [
        {
          "output_type": "stream",
          "text": [
            "Twinkle, twinkle, little star, \n",
            "\tHow I wonder what you are!\n",
            "\t\tUp above the world so high,\n",
            "\t\tLike a diamond in the sky.\n",
            "Twinkle, twinkle, little star,\n",
            "\tHow I wonder what you are\n"
          ],
          "name": "stdout"
        }
      ]
    },
    {
      "cell_type": "code",
      "metadata": {
        "colab": {
          "base_uri": "https://localhost:8080/"
        },
        "id": "7MAgPJMiCVW-",
        "outputId": "64e26317-edc8-4a23-a851-fb1e1214d970"
      },
      "source": [
        "print(\"Twinkle, twinkle, little star, \\n\\tHow I wonder what you are! \\n\\t\\tUp above the world so high, \\n\\t\\tLike a diamond in the sky. \\nTwinkle, twinkle, little star, \\n\\tHow I wonder what you are!\")\n"
      ],
      "execution_count": 4,
      "outputs": [
        {
          "output_type": "stream",
          "text": [
            "Twinkle, twinkle, little star, \n",
            "\tHow I wonder what you are! \n",
            "\t\tUp above the world so high, \n",
            "\t\tLike a diamond in the sky. \n",
            "Twinkle, twinkle, little star, \n",
            "\tHow I wonder what you are!\n"
          ],
          "name": "stdout"
        }
      ]
    },
    {
      "cell_type": "code",
      "metadata": {
        "id": "Gd7zmFnOD8rZ"
      },
      "source": [
        ""
      ],
      "execution_count": null,
      "outputs": []
    },
    {
      "cell_type": "markdown",
      "metadata": {
        "id": "3xLuS5bXL-G-"
      },
      "source": [
        "Write a Python function to find the Max of three numbers. Go to the editor\n"
      ]
    },
    {
      "cell_type": "code",
      "metadata": {
        "id": "QaR8QoqKL_sW"
      },
      "source": [
        "def max_of_two( x, y ):\n",
        "    if x > y:\n",
        "        return x\n",
        "    return y\n"
      ],
      "execution_count": 3,
      "outputs": []
    },
    {
      "cell_type": "code",
      "metadata": {
        "id": "LIceHwD5MOo6"
      },
      "source": [
        ""
      ],
      "execution_count": null,
      "outputs": []
    }
  ]
}