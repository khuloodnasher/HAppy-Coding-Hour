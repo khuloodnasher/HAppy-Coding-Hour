{
  "nbformat": 4,
  "nbformat_minor": 0,
  "metadata": {
    "colab": {
      "name": "Happy CodingPython Hour.ipynb",
      "provenance": [],
      "authorship_tag": "ABX9TyPP3GI2oxCp58EUN//JmYP7",
      "include_colab_link": true
    },
    "kernelspec": {
      "name": "python3",
      "display_name": "Python 3"
    }
  },
  "cells": [
    {
      "cell_type": "markdown",
      "metadata": {
        "id": "view-in-github",
        "colab_type": "text"
      },
      "source": [
        "<a href=\"https://colab.research.google.com/github/khuloodnasher/HAppy-Coding-Hour/blob/master/Happy_CodingPython_Hour.ipynb\" target=\"_parent\"><img src=\"https://colab.research.google.com/assets/colab-badge.svg\" alt=\"Open In Colab\"/></a>"
      ]
    },
    {
      "cell_type": "markdown",
      "metadata": {
        "id": "VJpD08ipsCyK",
        "colab_type": "text"
      },
      "source": [
        "Suppose you have a list of the folllowing numbers [1,2,3,2,4,3,3,4,2] how you can define a function to get the number of the duplicates\n",
        "\n"
      ]
    },
    {
      "cell_type": "code",
      "metadata": {
        "id": "wu9K2plphtyh",
        "colab_type": "code",
        "colab": {}
      },
      "source": [
        "# Python code to count the number of occurrences \n",
        "def countX(lst, x): \n",
        "    num = 0\n",
        "    for ele in lst: \n",
        "        if (ele == x): \n",
        "            num = num + 1\n",
        "    return num \n",
        "  \n"
      ],
      "execution_count": null,
      "outputs": []
    },
    {
      "cell_type": "code",
      "metadata": {
        "id": "X7kDJ9OPh9zU",
        "colab_type": "code",
        "colab": {
          "base_uri": "https://localhost:8080/",
          "height": 34
        },
        "outputId": "6bb72884-1d2e-49c9-8bea-3327eb39c752"
      },
      "source": [
        "#calling the function\n",
        "num_list= [1,2,3,2,4,3,3,4,2]\n",
        "x = 2\n",
        "countX(num_list, x)\n"
      ],
      "execution_count": 40,
      "outputs": [
        {
          "output_type": "execute_result",
          "data": {
            "text/plain": [
              "3"
            ]
          },
          "metadata": {
            "tags": []
          },
          "execution_count": 40
        }
      ]
    },
    {
      "cell_type": "code",
      "metadata": {
        "id": "dubbKcfNh9-s",
        "colab_type": "code",
        "colab": {
          "base_uri": "https://localhost:8080/",
          "height": 34
        },
        "outputId": "497b49d0-bf9b-46db-9750-91358c0ce142"
      },
      "source": [
        "# Python code to count the number of occurrences \n",
        "def countX(lst, x): \n",
        "    num = 0\n",
        "    for ele in lst: \n",
        "        if (ele == x): \n",
        "            num = num + 1\n",
        "    return num \n",
        "  \n",
        "# Driver Code \n",
        "num_list= [1,2,3,2,4,3,3,4,2]\n",
        "x = 4\n",
        "print('{} has occurred {} times'.format(x, countX(num_list, x))) \n"
      ],
      "execution_count": 39,
      "outputs": [
        {
          "output_type": "stream",
          "text": [
            "4 has occurred 2 times\n"
          ],
          "name": "stdout"
        }
      ]
    },
    {
      "cell_type": "code",
      "metadata": {
        "id": "VzWrmR9Uh-Jp",
        "colab_type": "code",
        "colab": {}
      },
      "source": [
        "num_list = [1, 2, 2, 3, 4, 3, 4,6,6,3]  \n",
        "\n",
        "\n",
        "def duplicate(items,a):\n",
        "\t\n",
        "\treturn items.count(a)"
      ],
      "execution_count": 56,
      "outputs": []
    },
    {
      "cell_type": "code",
      "metadata": {
        "id": "llveStzIOTj-",
        "colab_type": "code",
        "colab": {
          "base_uri": "https://localhost:8080/",
          "height": 34
        },
        "outputId": "9fca9b3c-7f60-46dc-d905-2fd72c6b2914"
      },
      "source": [
        "duplicate(num_list,4)"
      ],
      "execution_count": 59,
      "outputs": [
        {
          "output_type": "execute_result",
          "data": {
            "text/plain": [
              "2"
            ]
          },
          "metadata": {
            "tags": []
          },
          "execution_count": 59
        }
      ]
    },
    {
      "cell_type": "markdown",
      "metadata": {
        "id": "3SUtTV5uyBKL",
        "colab_type": "text"
      },
      "source": [
        "Method 2 (Using Counter())\n",
        "\n",
        "Counter method returns a dictionary with occurrences of all elements as a \n",
        "\n",
        "key-value pair, where key is the element and value is the number of times \n",
        "\n",
        "that element has occurred."
      ]
    },
    {
      "cell_type": "code",
      "metadata": {
        "id": "An0slao2zjzU",
        "colab_type": "code",
        "colab": {
          "base_uri": "https://localhost:8080/",
          "height": 34
        },
        "outputId": "a623a473-d3a2-4100-be83-5e50065345af"
      },
      "source": [
        "from collections import Counter\n",
        "num_list= [1, 1, 2, 2, 3, 3, 4, 4, 5, 5] \n",
        "\n",
        "numoccoured=Counter(num_list)\n",
        "num=4\n",
        "print('{} has occoured {} times'.format(num,numoccoured[num]))\n"
      ],
      "execution_count": 67,
      "outputs": [
        {
          "output_type": "stream",
          "text": [
            "4 has occoured 2 times\n"
          ],
          "name": "stdout"
        }
      ]
    },
    {
      "cell_type": "code",
      "metadata": {
        "id": "h6w6sVgkOiyA",
        "colab_type": "code",
        "colab": {}
      },
      "source": [
        "from collections import Counter \n",
        "\n",
        "# declaring the list \n",
        "l = [1, 1, 2, 2, 3, 3, 4, 4, 5, 5] \n",
        "\n",
        "# driver program \n",
        "x = 3\n",
        "d = Counter(l) \n",
        "print('{} has occurred {} times'.format(x, d[x])) \n"
      ],
      "execution_count": null,
      "outputs": []
    },
    {
      "cell_type": "markdown",
      "metadata": {
        "id": "WcXbXSXmRSLa",
        "colab_type": "text"
      },
      "source": [
        " Write a Python program to find those numbers which are divisible by 7 and multiple of 5, between 1500 and 2700 (both included)."
      ]
    },
    {
      "cell_type": "code",
      "metadata": {
        "id": "swkCKQDxRTmC",
        "colab_type": "code",
        "colab": {
          "base_uri": "https://localhost:8080/",
          "height": 54
        },
        "outputId": "85629f7f-3821-4839-ba5a-ab0610800d21"
      },
      "source": [
        "  result=[]\n",
        "  for num in range(1500,2701):\n",
        "   \n",
        "   if (num%5==0) and (num%7==0):\n",
        "     result.append(str(num))\n",
        "print (','.join(result))"
      ],
      "execution_count": 30,
      "outputs": [
        {
          "output_type": "stream",
          "text": [
            "1505,1540,1575,1610,1645,1680,1715,1750,1785,1820,1855,1890,1925,1960,1995,2030,2065,2100,2135,2170,2205,2240,2275,2310,2345,2380,2415,2450,2485,2520,2555,2590,2625,2660,2695\n"
          ],
          "name": "stdout"
        }
      ]
    },
    {
      "cell_type": "code",
      "metadata": {
        "id": "WLUXKcEQSZeg",
        "colab_type": "code",
        "colab": {}
      },
      "source": [
        "num7(1500)"
      ],
      "execution_count": 18,
      "outputs": []
    },
    {
      "cell_type": "code",
      "metadata": {
        "id": "0DFkBLYBSfY_",
        "colab_type": "code",
        "colab": {}
      },
      "source": [
        "nl=[]\n",
        "for x in range(1500, 2701):\n",
        "    if (x%7==0) and (x%5==0):\n",
        "        nl.append(str(x))\n",
        "print (','.join(nl))\n"
      ],
      "execution_count": null,
      "outputs": []
    },
    {
      "cell_type": "markdown",
      "metadata": {
        "id": "R4o2_GpfjfJz",
        "colab_type": "text"
      },
      "source": [
        " Write a Python program to convert temperatures to and from celsius, fahrenheit.\n",
        "\n",
        "Let’s see the conversion formulas to convert temperature in degree Celsius to degree Fahrenheit and vice versa.\n",
        "\n",
        "Celsius = (Fahrenheit – 32) * 5/9\n",
        "\n",
        "Fahrenheit = (Celsius * 9/5) + 32"
      ]
    },
    {
      "cell_type": "code",
      "metadata": {
        "id": "rX9vPxIQjigF",
        "colab_type": "code",
        "colab": {
          "base_uri": "https://localhost:8080/",
          "height": 51
        },
        "outputId": "1fb26981-cf58-4b4a-87ed-cb89cf8c71f2"
      },
      "source": [
        "# from celsuis to fahrenhite\n",
        "celsius=float(input('Enter temperature in celsius:'))\n",
        "fahrenheit = (celsius * 9/5) + 32\n",
        "print(\"%.2f celsius is: %.2f Fahrenhite\" %(celsius,fahrenheit)) \n"
      ],
      "execution_count": 36,
      "outputs": [
        {
          "output_type": "stream",
          "text": [
            "Enter temperature in celsius:73\n",
            "73.00 celsius is: 163.40 Fahrenhite\n"
          ],
          "name": "stdout"
        }
      ]
    },
    {
      "cell_type": "code",
      "metadata": {
        "id": "D42-l1NXtdSB",
        "colab_type": "code",
        "colab": {
          "base_uri": "https://localhost:8080/",
          "height": 51
        },
        "outputId": "485ba972-efcc-463d-8127-1395c469c401"
      },
      "source": [
        "# from Fahrenhite to celsius\n",
        "fahrenheit=float(input('Enter temprature in fahrenheit:'))\n",
        "celsius = (fahrenheit- 32) * 5/9\n",
        "print(\"%.2f Fahrenheit is: %.2f celsius \" % (fahrenheit,celsius))\n"
      ],
      "execution_count": 38,
      "outputs": [
        {
          "output_type": "stream",
          "text": [
            "Enter temprature in fahrenheit:100\n",
            "100.00 Fahrenheit is: 37.78 celsius \n"
          ],
          "name": "stdout"
        }
      ]
    },
    {
      "cell_type": "code",
      "metadata": {
        "id": "ACUjlUcNLUft",
        "colab_type": "code",
        "colab": {}
      },
      "source": [
        ""
      ],
      "execution_count": null,
      "outputs": []
    }
  ]
}