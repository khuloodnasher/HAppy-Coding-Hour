{
  "nbformat": 4,
  "nbformat_minor": 0,
  "metadata": {
    "colab": {
      "name": "Happy CodingPython Hour.ipynb",
      "provenance": [],
      "authorship_tag": "ABX9TyN0Nc7laW3yYNZz4pusm/Z5",
      "include_colab_link": true
    },
    "kernelspec": {
      "name": "python3",
      "display_name": "Python 3"
    }
  },
  "cells": [
    {
      "cell_type": "markdown",
      "metadata": {
        "id": "view-in-github",
        "colab_type": "text"
      },
      "source": [
        "<a href=\"https://colab.research.google.com/github/khuloodnasher/HAppy-Coding-Hour/blob/master/Happy_CodingPython_Hour.ipynb\" target=\"_parent\"><img src=\"https://colab.research.google.com/assets/colab-badge.svg\" alt=\"Open In Colab\"/></a>"
      ]
    },
    {
      "cell_type": "markdown",
      "metadata": {
        "id": "VJpD08ipsCyK"
      },
      "source": [
        "Suppose you have a list of the folllowing numbers [1,2,3,2,4,3,3,4,2] how you can define a function to get the number of the duplicates\n",
        "\n"
      ]
    },
    {
      "cell_type": "code",
      "metadata": {
        "id": "wu9K2plphtyh"
      },
      "source": [
        "# Python code to count the number of occurrences \n",
        "def countX(lst, x): \n",
        "    num = 0\n",
        "    for ele in lst: \n",
        "        if (ele == x): \n",
        "            num = num + 1\n",
        "    return num \n",
        "  \n"
      ],
      "execution_count": null,
      "outputs": []
    },
    {
      "cell_type": "code",
      "metadata": {
        "id": "X7kDJ9OPh9zU",
        "outputId": "6bb72884-1d2e-49c9-8bea-3327eb39c752",
        "colab": {
          "base_uri": "https://localhost:8080/",
          "height": 34
        }
      },
      "source": [
        "#calling the function\n",
        "num_list= [1,2,3,2,4,3,3,4,2]\n",
        "x = 2\n",
        "countX(num_list, x)\n"
      ],
      "execution_count": null,
      "outputs": [
        {
          "output_type": "execute_result",
          "data": {
            "text/plain": [
              "3"
            ]
          },
          "metadata": {
            "tags": []
          },
          "execution_count": 40
        }
      ]
    },
    {
      "cell_type": "code",
      "metadata": {
        "id": "dubbKcfNh9-s",
        "outputId": "497b49d0-bf9b-46db-9750-91358c0ce142",
        "colab": {
          "base_uri": "https://localhost:8080/",
          "height": 34
        }
      },
      "source": [
        "# Python code to count the number of occurrences \n",
        "def countX(lst, x): \n",
        "    num = 0\n",
        "    for ele in lst: \n",
        "        if (ele == x): \n",
        "            num = num + 1\n",
        "    return num \n",
        "  \n",
        "# Driver Code \n",
        "num_list= [1,2,3,2,4,3,3,4,2]\n",
        "x = 4\n",
        "print('{} has occurred {} times'.format(x, countX(num_list, x))) \n"
      ],
      "execution_count": null,
      "outputs": [
        {
          "output_type": "stream",
          "text": [
            "4 has occurred 2 times\n"
          ],
          "name": "stdout"
        }
      ]
    },
    {
      "cell_type": "code",
      "metadata": {
        "id": "VzWrmR9Uh-Jp"
      },
      "source": [
        "num_list = [1, 2, 2, 3, 4, 3, 4,6,6,3]  \n",
        "\n",
        "\n",
        "def duplicate(items,a):\n",
        "\t\n",
        "\treturn items.count(a)"
      ],
      "execution_count": null,
      "outputs": []
    },
    {
      "cell_type": "code",
      "metadata": {
        "id": "llveStzIOTj-",
        "outputId": "9fca9b3c-7f60-46dc-d905-2fd72c6b2914",
        "colab": {
          "base_uri": "https://localhost:8080/",
          "height": 34
        }
      },
      "source": [
        "duplicate(num_list,4)"
      ],
      "execution_count": null,
      "outputs": [
        {
          "output_type": "execute_result",
          "data": {
            "text/plain": [
              "2"
            ]
          },
          "metadata": {
            "tags": []
          },
          "execution_count": 59
        }
      ]
    },
    {
      "cell_type": "markdown",
      "metadata": {
        "id": "3SUtTV5uyBKL"
      },
      "source": [
        "Method 2 (Using Counter())\n",
        "\n",
        "Counter method returns a dictionary with occurrences of all elements as a \n",
        "\n",
        "key-value pair, where key is the element and value is the number of times \n",
        "\n",
        "that element has occurred."
      ]
    },
    {
      "cell_type": "code",
      "metadata": {
        "id": "An0slao2zjzU",
        "outputId": "a623a473-d3a2-4100-be83-5e50065345af",
        "colab": {
          "base_uri": "https://localhost:8080/",
          "height": 34
        }
      },
      "source": [
        "from collections import Counter\n",
        "num_list= [1, 1, 2, 2, 3, 3, 4, 4, 5, 5] \n",
        "\n",
        "numoccoured=Counter(num_list)\n",
        "num=4\n",
        "print('{} has occoured {} times'.format(num,numoccoured[num]))\n"
      ],
      "execution_count": null,
      "outputs": [
        {
          "output_type": "stream",
          "text": [
            "4 has occoured 2 times\n"
          ],
          "name": "stdout"
        }
      ]
    },
    {
      "cell_type": "code",
      "metadata": {
        "id": "h6w6sVgkOiyA"
      },
      "source": [
        "from collections import Counter \n",
        "\n",
        "# declaring the list \n",
        "l = [1, 1, 2, 2, 3, 3, 4, 4, 5, 5] \n",
        "\n",
        "# driver program \n",
        "x = 3\n",
        "d = Counter(l) \n",
        "print('{} has occurred {} times'.format(x, d[x])) \n"
      ],
      "execution_count": null,
      "outputs": []
    },
    {
      "cell_type": "markdown",
      "metadata": {
        "id": "WcXbXSXmRSLa"
      },
      "source": [
        " Write a Python program to find those numbers which are divisible by 7 and multiple of 5, between 1500 and 2700 (both included)."
      ]
    },
    {
      "cell_type": "code",
      "metadata": {
        "id": "swkCKQDxRTmC",
        "outputId": "85629f7f-3821-4839-ba5a-ab0610800d21",
        "colab": {
          "base_uri": "https://localhost:8080/",
          "height": 54
        }
      },
      "source": [
        "  result=[]\n",
        "  for num in range(1500,2701):\n",
        "   \n",
        "   if (num%5==0) and (num%7==0):\n",
        "     result.append(str(num))\n",
        "print (','.join(result))"
      ],
      "execution_count": null,
      "outputs": [
        {
          "output_type": "stream",
          "text": [
            "1505,1540,1575,1610,1645,1680,1715,1750,1785,1820,1855,1890,1925,1960,1995,2030,2065,2100,2135,2170,2205,2240,2275,2310,2345,2380,2415,2450,2485,2520,2555,2590,2625,2660,2695\n"
          ],
          "name": "stdout"
        }
      ]
    },
    {
      "cell_type": "code",
      "metadata": {
        "id": "WLUXKcEQSZeg"
      },
      "source": [
        "num7(1500)"
      ],
      "execution_count": null,
      "outputs": []
    },
    {
      "cell_type": "code",
      "metadata": {
        "id": "0DFkBLYBSfY_"
      },
      "source": [
        "nl=[]\n",
        "for x in range(1500, 2701):\n",
        "    if (x%7==0) and (x%5==0):\n",
        "        nl.append(str(x))\n",
        "print (','.join(nl))\n"
      ],
      "execution_count": null,
      "outputs": []
    },
    {
      "cell_type": "markdown",
      "metadata": {
        "id": "R4o2_GpfjfJz"
      },
      "source": [
        " Write a Python program to convert temperatures to and from celsius, fahrenheit.\n",
        "\n",
        "Let’s see the conversion formulas to convert temperature in degree Celsius to degree Fahrenheit and vice versa.\n",
        "\n",
        "Celsius = (Fahrenheit – 32) * 5/9\n",
        "\n",
        "Fahrenheit = (Celsius * 9/5) + 32"
      ]
    },
    {
      "cell_type": "code",
      "metadata": {
        "id": "rX9vPxIQjigF",
        "outputId": "1fb26981-cf58-4b4a-87ed-cb89cf8c71f2",
        "colab": {
          "base_uri": "https://localhost:8080/",
          "height": 51
        }
      },
      "source": [
        "# from celsuis to fahrenhite\n",
        "celsius=float(input('Enter temperature in celsius:'))\n",
        "fahrenheit = (celsius * 9/5) + 32\n",
        "print(\"%.2f celsius is: %.2f Fahrenhite\" %(celsius,fahrenheit)) \n"
      ],
      "execution_count": null,
      "outputs": [
        {
          "output_type": "stream",
          "text": [
            "Enter temperature in celsius:73\n",
            "73.00 celsius is: 163.40 Fahrenhite\n"
          ],
          "name": "stdout"
        }
      ]
    },
    {
      "cell_type": "code",
      "metadata": {
        "id": "D42-l1NXtdSB",
        "outputId": "485ba972-efcc-463d-8127-1395c469c401",
        "colab": {
          "base_uri": "https://localhost:8080/",
          "height": 51
        }
      },
      "source": [
        "# from Fahrenhite to celsius\n",
        "fahrenheit=float(input('Enter temprature in fahrenheit:'))\n",
        "celsius = (fahrenheit- 32) * 5/9\n",
        "print(\"%.2f Fahrenheit is: %.2f celsius \" % (fahrenheit,celsius))\n"
      ],
      "execution_count": null,
      "outputs": [
        {
          "output_type": "stream",
          "text": [
            "Enter temprature in fahrenheit:100\n",
            "100.00 Fahrenheit is: 37.78 celsius \n"
          ],
          "name": "stdout"
        }
      ]
    },
    {
      "cell_type": "markdown",
      "metadata": {
        "id": "z2dRkgF-fpiM"
      },
      "source": [
        "#### Write a Python program that accepts a word from the user and reverse it."
      ]
    },
    {
      "cell_type": "code",
      "metadata": {
        "id": "31kGyKy975z4"
      },
      "source": [
        ""
      ],
      "execution_count": null,
      "outputs": []
    },
    {
      "cell_type": "code",
      "metadata": {
        "id": "rECdZ66kvLOk"
      },
      "source": [
        ""
      ],
      "execution_count": null,
      "outputs": []
    },
    {
      "cell_type": "markdown",
      "metadata": {
        "id": "RClvwkG6peXS"
      },
      "source": [
        ""
      ]
    },
    {
      "cell_type": "markdown",
      "metadata": {
        "id": "QTwcavdipk5S"
      },
      "source": [
        ""
      ]
    },
    {
      "cell_type": "code",
      "metadata": {
        "id": "ACUjlUcNLUft"
      },
      "source": [
        "# Python code to reverse a string  \n",
        "# using extended slice syntax \n",
        "  \n",
        "# Function to reverse a string \n",
        "def reverse(string): \n",
        "    string = string[::-1] \n",
        "    return string "
      ],
      "execution_count": null,
      "outputs": []
    },
    {
      "cell_type": "markdown",
      "metadata": {
        "id": "BZtOXdCZuYhX"
      },
      "source": [
        "check the ages of 10 random people above 35 years\n",
        "age =[25,45,30,59,20,55,81,65]"
      ]
    },
    {
      "cell_type": "code",
      "metadata": {
        "id": "CbKrEekeu7oL",
        "outputId": "e6a56b55-2221-4cbb-8bfc-eb90cbff26db",
        "colab": {
          "base_uri": "https://localhost:8080/",
          "height": 34
        }
      },
      "source": [
        "age =[25,45,30,59,20,55,81,65]\n",
        "\n",
        "def check_age(age):\n",
        "   return  age>35\n",
        "   \n",
        "result=list(filter(check_age,age))\n",
        "print(result)\n",
        "     "
      ],
      "execution_count": null,
      "outputs": [
        {
          "output_type": "stream",
          "text": [
            "[45, 59, 55, 81, 65]\n"
          ],
          "name": "stdout"
        }
      ]
    },
    {
      "cell_type": "markdown",
      "metadata": {
        "id": "rf-wCkTB085c"
      },
      "source": [
        "checking if a word is palindrome or not .A 'palindrome' is a word that reads the same forward as backword\n"
      ]
    },
    {
      "cell_type": "code",
      "metadata": {
        "id": "_RR1xgwEv59p",
        "outputId": "896e749d-dc30-47a3-b5a6-8f917c44ba46",
        "colab": {
          "base_uri": "https://localhost:8080/",
          "height": 34
        }
      },
      "source": [
        "pal_names=('dad','mam','auto','science','madam','data')\n",
        "palindromes=list(filter(lambda word:word==word[::-1],pal_names))\n",
        "print(palindromes)"
      ],
      "execution_count": null,
      "outputs": [
        {
          "output_type": "stream",
          "text": [
            "['dad', 'mam', 'madam']\n"
          ],
          "name": "stdout"
        }
      ]
    },
    {
      "cell_type": "code",
      "metadata": {
        "id": "d98Ez0Zn1cCt"
      },
      "source": [
        "number"
      ],
      "execution_count": null,
      "outputs": []
    },
    {
      "cell_type": "markdown",
      "metadata": {
        "id": "hAuDiL6ypbhw"
      },
      "source": [
        "Coding (Python)\n",
        "1) FizzBuzz. Print numbers from 1 to 100\n",
        "\n",
        "If it’s a multiplier of 3, print “Fizz”\n",
        "If it’s a multiplier of 5, print “Buzz”\n",
        "If both 3 and 5 — “Fizz Buzz”\n",
        "Otherwise, print the number itself\n",
        "Example of output: 1, 2, Fizz, 4, Buzz, Fizz, 7, 8, Fizz, Buzz, 11, Fizz, 13, 14, Fizz Buzz, 16, 17, Fizz, 19, Buzz, Fizz, 22, 23, Fizz, Buzz, 26, Fizz, 28, 29, Fizz Buzz, 31, 32, Fizz, 34, Buzz, Fizz, …\n",
        "\n"
      ]
    },
    {
      "cell_type": "code",
      "metadata": {
        "id": "6MZBXQMBpdEq",
        "outputId": "66b32143-a943-4450-b0ce-6e270d482175",
        "colab": {
          "base_uri": "https://localhost:8080/",
          "height": 1000
        }
      },
      "source": [
        "for i in range(1,101):\n",
        "  if i%3==0:\n",
        "    print('Fizz')\n",
        "  elif i % 5 == 0:\n",
        "     print( 'Buzz' )\n",
        "  elif i%5==0 and i%3==0:\n",
        "    print('Fizz Buzz' )\n",
        "  else:\n",
        "    print(i)\n",
        "\n",
        "\n"
      ],
      "execution_count": null,
      "outputs": [
        {
          "output_type": "stream",
          "text": [
            "1\n",
            "2\n",
            "Fizz\n",
            "4\n",
            "Buzz\n",
            "Fizz\n",
            "7\n",
            "8\n",
            "Fizz\n",
            "Buzz\n",
            "11\n",
            "Fizz\n",
            "13\n",
            "14\n",
            "Fizz\n",
            "16\n",
            "17\n",
            "Fizz\n",
            "19\n",
            "Buzz\n",
            "Fizz\n",
            "22\n",
            "23\n",
            "Fizz\n",
            "Buzz\n",
            "26\n",
            "Fizz\n",
            "28\n",
            "29\n",
            "Fizz\n",
            "31\n",
            "32\n",
            "Fizz\n",
            "34\n",
            "Buzz\n",
            "Fizz\n",
            "37\n",
            "38\n",
            "Fizz\n",
            "Buzz\n",
            "41\n",
            "Fizz\n",
            "43\n",
            "44\n",
            "Fizz\n",
            "46\n",
            "47\n",
            "Fizz\n",
            "49\n",
            "Buzz\n",
            "Fizz\n",
            "52\n",
            "53\n",
            "Fizz\n",
            "Buzz\n",
            "56\n",
            "Fizz\n",
            "58\n",
            "59\n",
            "Fizz\n",
            "61\n",
            "62\n",
            "Fizz\n",
            "64\n",
            "Buzz\n",
            "Fizz\n",
            "67\n",
            "68\n",
            "Fizz\n",
            "Buzz\n",
            "71\n",
            "Fizz\n",
            "73\n",
            "74\n",
            "Fizz\n",
            "76\n",
            "77\n",
            "Fizz\n",
            "79\n",
            "Buzz\n",
            "Fizz\n",
            "82\n",
            "83\n",
            "Fizz\n",
            "Buzz\n",
            "86\n",
            "Fizz\n",
            "88\n",
            "89\n",
            "Fizz\n",
            "91\n",
            "92\n",
            "Fizz\n",
            "94\n",
            "Buzz\n",
            "Fizz\n",
            "97\n",
            "98\n",
            "Fizz\n",
            "Buzz\n"
          ],
          "name": "stdout"
        }
      ]
    },
    {
      "cell_type": "code",
      "metadata": {
        "id": "Ye9PCw_4toiy"
      },
      "source": [
        "def factorial(n: int):\n",
        "    if n == 0 or n == 1:\n",
        "        return 1\n",
        "    else:\n",
        "        return n * factorial(n - 1)\n"
      ],
      "execution_count": null,
      "outputs": []
    },
    {
      "cell_type": "code",
      "metadata": {
        "id": "v9QDnoEjwGSN",
        "outputId": "72be2f45-befc-463b-b0c0-782bad12fd6d",
        "colab": {
          "base_uri": "https://localhost:8080/",
          "height": 34
        }
      },
      "source": [
        "factorial(4)"
      ],
      "execution_count": null,
      "outputs": [
        {
          "output_type": "execute_result",
          "data": {
            "text/plain": [
              "24"
            ]
          },
          "metadata": {
            "tags": []
          },
          "execution_count": 18
        }
      ]
    },
    {
      "cell_type": "code",
      "metadata": {
        "id": "pU_1ipCHwMEt"
      },
      "source": [
        "def factorial(n): \n",
        "    if n < 0: \n",
        "        return 0\n",
        "    elif n == 0 or n == 1: \n",
        "        return 1\n",
        "    else: \n",
        "        fact = 1\n",
        "        while n>1:\n",
        "            fact *= n \n",
        "            n -= 1\n",
        "        return fact \n",
        "  "
      ],
      "execution_count": null,
      "outputs": []
    },
    {
      "cell_type": "code",
      "metadata": {
        "id": "Tjr9TWohJA4f",
        "outputId": "919be6ad-be35-4f80-86c9-f4ba06166668",
        "colab": {
          "base_uri": "https://localhost:8080/",
          "height": 34
        }
      },
      "source": [
        "factorial(3)\n",
        "\n"
      ],
      "execution_count": null,
      "outputs": [
        {
          "output_type": "execute_result",
          "data": {
            "text/plain": [
              "6"
            ]
          },
          "metadata": {
            "tags": []
          },
          "execution_count": 17
        }
      ]
    },
    {
      "cell_type": "code",
      "metadata": {
        "id": "Qlx9LcBSJENX"
      },
      "source": [
        "def factorial(n):\n",
        "  if n==1 or n==0:\n",
        "    return 1\n",
        "  elif n<0:\n",
        "    return 0\n",
        "  else:\n",
        "    fact=1\n",
        "    while (n>1):\n",
        "      fact*=n\n",
        "      n-=1\n",
        "    return fact"
      ],
      "execution_count": null,
      "outputs": []
    },
    {
      "cell_type": "code",
      "metadata": {
        "id": "GQ_rR5LzRnpw",
        "outputId": "3661e714-26c0-4b3b-ed7c-c21bb23024e2",
        "colab": {
          "base_uri": "https://localhost:8080/",
          "height": 34
        }
      },
      "source": [
        "factorial(3)"
      ],
      "execution_count": null,
      "outputs": [
        {
          "output_type": "execute_result",
          "data": {
            "text/plain": [
              "6"
            ]
          },
          "metadata": {
            "tags": []
          },
          "execution_count": 15
        }
      ]
    },
    {
      "cell_type": "markdown",
      "metadata": {
        "id": "GySb0GXYThIH"
      },
      "source": [
        "We can also write this function using recursion:"
      ]
    },
    {
      "cell_type": "code",
      "metadata": {
        "id": "j_uX_wPaRxmg"
      },
      "source": [
        "\n",
        "\n",
        "def factorial(n: int):\n",
        "    if n == 0 or n == 1:\n",
        "        return 1\n",
        "    else:\n",
        "        return n * factorial(n - 1)\n"
      ],
      "execution_count": null,
      "outputs": []
    },
    {
      "cell_type": "code",
      "metadata": {
        "id": "XE5i0UzhTr2s"
      },
      "source": [
        "def factoroal(n:int):\n",
        "  if n==0 or n==1:\n",
        "    return 1\n",
        "  else:\n",
        "    return n* factorial (n-1)"
      ],
      "execution_count": null,
      "outputs": []
    },
    {
      "cell_type": "code",
      "metadata": {
        "id": "gxxu3BEXUBdH",
        "outputId": "f9251725-e3f7-4c2d-dc09-3dc10f839d2f",
        "colab": {
          "base_uri": "https://localhost:8080/",
          "height": 34
        }
      },
      "source": [
        "factorial(4)"
      ],
      "execution_count": null,
      "outputs": [
        {
          "output_type": "execute_result",
          "data": {
            "text/plain": [
              "24"
            ]
          },
          "metadata": {
            "tags": []
          },
          "execution_count": 19
        }
      ]
    },
    {
      "cell_type": "code",
      "metadata": {
        "id": "t1YAUIEWRq9m",
        "outputId": "721d0bed-2e6f-42a3-c857-95a3f4a39716",
        "colab": {
          "base_uri": "https://localhost:8080/",
          "height": 34
        }
      },
      "source": [
        "def factorial(n):# multiplication problem always result=1, addition problem result=0\n",
        "  if n>1:\n",
        "    result=1\n",
        "  for i in range(1,n+1):\n",
        "    result=result*i\n",
        "  return result\n",
        "factorial(4)"
      ],
      "execution_count": null,
      "outputs": [
        {
          "output_type": "execute_result",
          "data": {
            "text/plain": [
              "24"
            ]
          },
          "metadata": {
            "tags": []
          },
          "execution_count": 11
        }
      ]
    },
    {
      "cell_type": "code",
      "metadata": {
        "id": "vBAP_my3Tdp6"
      },
      "source": [
        "# Factorial of a number\n",
        "def factorial_num(num):\n",
        "    fact = 1\n",
        "    if num < 0:\n",
        "        print(\"Enter positive number\")\n",
        "    elif num == 0:\n",
        "        print(\"Factorial of 0 is 1\")\n",
        "    else:\n",
        "        for i in range(1,num+1):\n",
        "            fact =  fact * i\n",
        "        print(\"Factorial of a number is : \", fact)\n",
        "  \n",
        "  "
      ],
      "execution_count": null,
      "outputs": []
    },
    {
      "cell_type": "code",
      "metadata": {
        "id": "QJ-LWb2zT3Dr",
        "outputId": "9660cfa8-e5d0-4f59-e632-761185aebf92",
        "colab": {
          "base_uri": "https://localhost:8080/",
          "height": 34
        }
      },
      "source": [
        "factorial_num(4)\n"
      ],
      "execution_count": null,
      "outputs": [
        {
          "output_type": "stream",
          "text": [
            "Factorial of a number is :  24\n"
          ],
          "name": "stdout"
        }
      ]
    },
    {
      "cell_type": "code",
      "metadata": {
        "id": "fiyZIYoOR-nO"
      },
      "source": [
        ""
      ],
      "execution_count": null,
      "outputs": []
    },
    {
      "cell_type": "markdown",
      "metadata": {
        "id": "z6F_KjfnVeQa"
      },
      "source": [
        "3) Mean. Compute the mean of number in a list\n",
        "\n",
        "mean([4, 36, 45, 50, 75]) = 42\n",
        "mean([]) = NaN (use float('NaN'))\n"
      ]
    },
    {
      "cell_type": "code",
      "metadata": {
        "id": "1sJc4DvBWohP"
      },
      "source": [
        "def compute_mean(num_list):\n",
        "\n",
        "  for i in num_list:\n",
        "    mean=sum(num_list)/len(num_list)\n",
        "    return mean\n",
        "\n"
      ],
      "execution_count": null,
      "outputs": []
    },
    {
      "cell_type": "code",
      "metadata": {
        "id": "6KMk1gy3Xibt",
        "outputId": "f1fd85b5-c9cd-482f-dd94-662790282d0f",
        "colab": {
          "base_uri": "https://localhost:8080/",
          "height": 34
        }
      },
      "source": [
        "num_list1=[4, 36, 45, 50, 75]\n",
        "compute_mean(num_list1)"
      ],
      "execution_count": null,
      "outputs": [
        {
          "output_type": "execute_result",
          "data": {
            "text/plain": [
              "42.0"
            ]
          },
          "metadata": {
            "tags": []
          },
          "execution_count": 24
        }
      ]
    },
    {
      "cell_type": "code",
      "metadata": {
        "id": "A38QiIgpYQHg",
        "outputId": "383f0307-25da-4a72-bc2c-df4263ba6db9",
        "colab": {
          "base_uri": "https://localhost:8080/",
          "height": 34
        }
      },
      "source": [
        "num_list1=[4, 36, 45, 50, 75]\n",
        "def mean(numbers):\n",
        "    if len(numbers) > 0:\n",
        "        return sum(numbers) / len(numbers)\n",
        "mean(num_list1)"
      ],
      "execution_count": null,
      "outputs": [
        {
          "output_type": "execute_result",
          "data": {
            "text/plain": [
              "42.0"
            ]
          },
          "metadata": {
            "tags": []
          },
          "execution_count": 20
        }
      ]
    },
    {
      "cell_type": "markdown",
      "metadata": {
        "id": "k0nz8PsMYPIr"
      },
      "source": [
        "STD. Calculate the standard deviation of elements in a list.\n",
        "\n",
        "std([1, 2, 3, 4]) = 1.29\n",
        "std([1]) = NaN\n",
        "std([]) = NaN\n",
        "\n",
        "\n"
      ]
    },
    {
      "cell_type": "code",
      "metadata": {
        "id": "q-EgRcv7UGhu"
      },
      "source": [
        "from math import sqrt\n",
        "\n",
        "def std_dev(numbers):\n",
        "    if len(numbers) > 0:\n",
        "        avg = sum(numbers)/len(numbers)\n",
        "        var = sum([(i - avg) ** 2 for i in numbers]) / len(numbers)\n",
        "        ans = sqrt(var)\n",
        "        return ans\n",
        "    return float('NaN')"
      ],
      "execution_count": null,
      "outputs": []
    },
    {
      "cell_type": "code",
      "metadata": {
        "id": "IfSppW2iwyt7",
        "outputId": "86531911-52e5-4cf3-80fb-d6356b4d3e62",
        "colab": {
          "base_uri": "https://localhost:8080/",
          "height": 34
        }
      },
      "source": [
        "std_dev([1, 2, 3, 4])"
      ],
      "execution_count": null,
      "outputs": [
        {
          "output_type": "execute_result",
          "data": {
            "text/plain": [
              "1.118033988749895"
            ]
          },
          "metadata": {
            "tags": []
          },
          "execution_count": 15
        }
      ]
    },
    {
      "cell_type": "code",
      "metadata": {
        "id": "uePXIdz1SJ-g"
      },
      "source": [
        "from math import sqrt\n",
        "\n",
        "def std_dev(numbers):\n",
        "    if len(numbers) > 0:\n",
        "        avg = sum(numbers)/len(numbers)\n",
        "        var = sum([(i - avg) ** 2 for i in numbers]) / len(numbers)\n",
        "        ans = sqrt(var)\n",
        "        return ans\n",
        "    return float('NaN')"
      ],
      "execution_count": null,
      "outputs": []
    },
    {
      "cell_type": "code",
      "metadata": {
        "id": "wIhcOIRHSucE",
        "outputId": "373c71dc-0156-4339-eaf7-b5adc70a443f",
        "colab": {
          "base_uri": "https://localhost:8080/",
          "height": 300
        }
      },
      "source": [
        "from platform import python\n"
      ],
      "execution_count": null,
      "outputs": [
        {
          "output_type": "error",
          "ename": "ImportError",
          "evalue": "ignored",
          "traceback": [
            "\u001b[0;31m---------------------------------------------------------------------------\u001b[0m",
            "\u001b[0;31mImportError\u001b[0m                               Traceback (most recent call last)",
            "\u001b[0;32m<ipython-input-2-5b3ae1334630>\u001b[0m in \u001b[0;36m<module>\u001b[0;34m()\u001b[0m\n\u001b[0;32m----> 1\u001b[0;31m \u001b[0;32mfrom\u001b[0m \u001b[0mplatform\u001b[0m \u001b[0;32mimport\u001b[0m \u001b[0mpython\u001b[0m\u001b[0;34m\u001b[0m\u001b[0;34m\u001b[0m\u001b[0m\n\u001b[0m",
            "\u001b[0;31mImportError\u001b[0m: cannot import name 'python'",
            "",
            "\u001b[0;31m---------------------------------------------------------------------------\u001b[0;32m\nNOTE: If your import is failing due to a missing package, you can\nmanually install dependencies using either !pip or !apt.\n\nTo view examples of installing some common dependencies, click the\n\"Open Examples\" button below.\n\u001b[0;31m---------------------------------------------------------------------------\u001b[0m\n"
          ]
        }
      ]
    },
    {
      "cell_type": "code",
      "metadata": {
        "id": "WUO7cXkJv-vU"
      },
      "source": [
        "from math import sqrt\n",
        "def std_computing(num_list):\n",
        "  if len(num_list)>0:\n",
        "    mean=sum(num_list)/len(num_list)\n",
        "    var= sum([(i-mean)**2 for i in num_list])/len(num_list)\n",
        "    std=sqrt(var)\n",
        "    return std\n",
        "\n",
        "  return float('NaN')"
      ],
      "execution_count": null,
      "outputs": []
    },
    {
      "cell_type": "code",
      "metadata": {
        "id": "NmY-qIOOwFkW",
        "outputId": "a7c9bab9-eaf0-4299-a386-a72cf0608fa6",
        "colab": {
          "base_uri": "https://localhost:8080/",
          "height": 34
        }
      },
      "source": [
        "std_computing([1, 2, 3, 4])"
      ],
      "execution_count": null,
      "outputs": [
        {
          "output_type": "execute_result",
          "data": {
            "text/plain": [
              "1.118033988749895"
            ]
          },
          "metadata": {
            "tags": []
          },
          "execution_count": 11
        }
      ]
    },
    {
      "cell_type": "markdown",
      "metadata": {
        "id": "IdhBEas2A5Tk"
      },
      "source": [
        "RMSE. Calculate the RMSE (root mean squared error) of a model. The function takes in two lists: one with actual values, one with predictions.\n",
        "\n",
        "rmse([1, 2], [1, 2]) = 0\n",
        "rmse([1, 2, 3], [3, 2, 1]) = 1.63\n"
      ]
    },
    {
      "cell_type": "code",
      "metadata": {
        "id": "wI1Vt5uza-IV"
      },
      "source": [
        "import math\n",
        "def compute_rmse(y_true, y_pred):\n",
        "  assert len(y_true)== len(y_pred),'different length'\n",
        "  squares = sum((x - y)**2 for x, y in zip(y_true, y_pred))\n",
        "\n",
        "  #squares =sum((x-y)**2 for x,y in zip(y_true, y_pred))\n",
        "  return math.sqrt(squares / len(y_true))\n",
        "  \n",
        " \n",
        "  "
      ],
      "execution_count": null,
      "outputs": []
    },
    {
      "cell_type": "code",
      "metadata": {
        "id": "Y_pToY3NCZSl",
        "outputId": "179e3268-680f-47b4-b799-3836f0c12fdf",
        "colab": {
          "base_uri": "https://localhost:8080/",
          "height": 34
        }
      },
      "source": [
        "compute_rmse([1, 2, 3], [3, 2, 1])"
      ],
      "execution_count": null,
      "outputs": [
        {
          "output_type": "execute_result",
          "data": {
            "text/plain": [
              "1.632993161855452"
            ]
          },
          "metadata": {
            "tags": []
          },
          "execution_count": 66
        }
      ]
    },
    {
      "cell_type": "code",
      "metadata": {
        "id": "ncI4Okn5Cqv4"
      },
      "source": [
        "import math\n",
        "\n",
        "def rmse(y_true, y_pred):\n",
        "    assert len(y_true) == len(y_pred), 'different sizes of the arguments'\n",
        "    squares = sum((x - y)**2 for x, y in zip(y_true, y_pred))\n",
        "    return math.sqrt(squares / len(y_true))\n",
        "\n"
      ],
      "execution_count": null,
      "outputs": []
    },
    {
      "cell_type": "code",
      "metadata": {
        "id": "tq_p2K4mEHcv",
        "outputId": "ff403257-b549-46b8-fd2c-bf38bf03a4a6",
        "colab": {
          "base_uri": "https://localhost:8080/",
          "height": 34
        }
      },
      "source": [
        "rmse([1, 2, 3], [3, 2, 1])"
      ],
      "execution_count": null,
      "outputs": [
        {
          "output_type": "execute_result",
          "data": {
            "text/plain": [
              "1.632993161855452"
            ]
          },
          "metadata": {
            "tags": []
          },
          "execution_count": 51
        }
      ]
    },
    {
      "cell_type": "markdown",
      "metadata": {
        "id": "3N5fWMe8nMTh"
      },
      "source": [
        "6) Remove duplicates. Remove duplicates in list. The list is not sorted and the order of elements from the original list should be preserved.\n",
        "\n",
        "[1, 2, 3, 1] ⇒ [1, 2, 3]\n",
        "[1, 3, 2, 1, 5, 3, 5, 1, 4] ⇒ [1, 3, 2, 5, 4]\n"
      ]
    },
    {
      "cell_type": "code",
      "metadata": {
        "id": "45WZiu0WEQua"
      },
      "source": [
        "def remove_duplicates(numbers_list):\n",
        "  result=[]\n",
        "  for num in numbers_list:\n",
        "   if  num.count==1:\n",
        "     return result.append(num)\n",
        "  \n",
        "  else: \n",
        "      return 'number is duplicated'"
      ],
      "execution_count": null,
      "outputs": []
    },
    {
      "cell_type": "code",
      "metadata": {
        "id": "jnJRpDSooe9r",
        "outputId": "f2f6b08f-5790-49a2-89c4-3e57c0a3dd0f",
        "colab": {
          "base_uri": "https://localhost:8080/",
          "height": 283
        }
      },
      "source": [
        "remove_duplicates([1, 3, 2, 1, 5, 3, 5, 1, 4] )"
      ],
      "execution_count": null,
      "outputs": [
        {
          "output_type": "error",
          "ename": "AttributeError",
          "evalue": "ignored",
          "traceback": [
            "\u001b[0;31m---------------------------------------------------------------------------\u001b[0m",
            "\u001b[0;31mAttributeError\u001b[0m                            Traceback (most recent call last)",
            "\u001b[0;32m<ipython-input-6-8177542c84a1>\u001b[0m in \u001b[0;36m<module>\u001b[0;34m()\u001b[0m\n\u001b[0;32m----> 1\u001b[0;31m \u001b[0mremove_duplicates\u001b[0m\u001b[0;34m(\u001b[0m\u001b[0;34m[\u001b[0m\u001b[0;36m1\u001b[0m\u001b[0;34m,\u001b[0m \u001b[0;36m3\u001b[0m\u001b[0;34m,\u001b[0m \u001b[0;36m2\u001b[0m\u001b[0;34m,\u001b[0m \u001b[0;36m1\u001b[0m\u001b[0;34m,\u001b[0m \u001b[0;36m5\u001b[0m\u001b[0;34m,\u001b[0m \u001b[0;36m3\u001b[0m\u001b[0;34m,\u001b[0m \u001b[0;36m5\u001b[0m\u001b[0;34m,\u001b[0m \u001b[0;36m1\u001b[0m\u001b[0;34m,\u001b[0m \u001b[0;36m4\u001b[0m\u001b[0;34m]\u001b[0m \u001b[0;34m)\u001b[0m\u001b[0;34m\u001b[0m\u001b[0;34m\u001b[0m\u001b[0m\n\u001b[0m",
            "\u001b[0;32m<ipython-input-5-01c53f332eb8>\u001b[0m in \u001b[0;36mremove_duplicates\u001b[0;34m(numbers_list)\u001b[0m\n\u001b[1;32m      2\u001b[0m   \u001b[0mresult\u001b[0m\u001b[0;34m=\u001b[0m\u001b[0;34m[\u001b[0m\u001b[0;34m]\u001b[0m\u001b[0;34m\u001b[0m\u001b[0;34m\u001b[0m\u001b[0m\n\u001b[1;32m      3\u001b[0m   \u001b[0;32mfor\u001b[0m \u001b[0mnum\u001b[0m \u001b[0;32min\u001b[0m \u001b[0mnumbers_list\u001b[0m\u001b[0;34m:\u001b[0m\u001b[0;34m\u001b[0m\u001b[0;34m\u001b[0m\u001b[0m\n\u001b[0;32m----> 4\u001b[0;31m    \u001b[0;32mif\u001b[0m  \u001b[0mnum\u001b[0m\u001b[0;34m.\u001b[0m\u001b[0mcount\u001b[0m\u001b[0;34m==\u001b[0m\u001b[0;36m1\u001b[0m\u001b[0;34m:\u001b[0m\u001b[0;34m\u001b[0m\u001b[0;34m\u001b[0m\u001b[0m\n\u001b[0m\u001b[1;32m      5\u001b[0m      \u001b[0;32mreturn\u001b[0m \u001b[0mresult\u001b[0m\u001b[0;34m.\u001b[0m\u001b[0mappend\u001b[0m\u001b[0;34m(\u001b[0m\u001b[0mnum\u001b[0m\u001b[0;34m)\u001b[0m\u001b[0;34m\u001b[0m\u001b[0;34m\u001b[0m\u001b[0m\n\u001b[1;32m      6\u001b[0m \u001b[0;34m\u001b[0m\u001b[0m\n",
            "\u001b[0;31mAttributeError\u001b[0m: 'int' object has no attribute 'count'"
          ]
        }
      ]
    },
    {
      "cell_type": "code",
      "metadata": {
        "id": "wPp9D09_o2gL"
      },
      "source": [
        "def remove_duplicates(lst):\n",
        "    new_list = []\n",
        "    mentioned_values = set()\n",
        "    for elem in lst:\n",
        "        if elem not in mentioned_values:\n",
        "            new_list.append(elem)\n",
        "            mentioned_values.add(elem)\n",
        "    return new_list"
      ],
      "execution_count": null,
      "outputs": []
    },
    {
      "cell_type": "code",
      "metadata": {
        "id": "NUf_Ngemp3ED",
        "outputId": "a37caad9-3dc5-4b86-ee69-ba49fa8ee881",
        "colab": {
          "base_uri": "https://localhost:8080/",
          "height": 34
        }
      },
      "source": [
        "remove_duplicates([1, 3, 2, 1, 5, 3, 5, 1, 4])"
      ],
      "execution_count": null,
      "outputs": [
        {
          "output_type": "execute_result",
          "data": {
            "text/plain": [
              "[1, 3, 2, 5, 4]"
            ]
          },
          "metadata": {
            "tags": []
          },
          "execution_count": 8
        }
      ]
    },
    {
      "cell_type": "code",
      "metadata": {
        "id": "9viw0wk2qANa"
      },
      "source": [
        ""
      ],
      "execution_count": null,
      "outputs": []
    },
    {
      "cell_type": "markdown",
      "metadata": {
        "id": "ACoY8f9fpnHy"
      },
      "source": [
        "7) Count. Count how many times each element in a list occurs.\n",
        "\n",
        "[1, 3, 2, 1, 5, 3, 5, 1, 4] ⇒\n",
        "\n",
        "1: 3 times\n",
        "2: 1 time\n",
        "3: 2 times\n",
        "4: 1 time\n",
        "5: 2 times\n"
      ]
    },
    {
      "cell_type": "code",
      "metadata": {
        "id": "L-69MPFPqXUQ",
        "outputId": "c769c03a-ca62-4aba-d1a7-ff3905577916",
        "colab": {
          "base_uri": "https://localhost:8080/",
          "height": 34
        }
      },
      "source": [
        "from collections import Counter\n",
        "numbers = [1, 3, 2, 1, 5, 3, 5, 1, 4]\n",
        "Counter(numbers)"
      ],
      "execution_count": null,
      "outputs": [
        {
          "output_type": "execute_result",
          "data": {
            "text/plain": [
              "Counter({1: 3, 2: 1, 3: 2, 4: 1, 5: 2})"
            ]
          },
          "metadata": {
            "tags": []
          },
          "execution_count": 2
        }
      ]
    },
    {
      "cell_type": "code",
      "metadata": {
        "id": "LaId87gQqr7D",
        "outputId": "9acf8714-2355-4771-9d35-24650bcd3a7d",
        "colab": {
          "base_uri": "https://localhost:8080/",
          "height": 130
        }
      },
      "source": [
        "def duplicate_count(num, num_list):\n",
        "  result=[]\n",
        "  for num in num_list:\n",
        "    if count(num)>0:\n",
        "       result.append(num)\n",
        "\n",
        "    return set(result)\n",
        "  else: \n",
        "    count(num)==0:\n",
        " print('num is not frequent')\n",
        "\n"
      ],
      "execution_count": null,
      "outputs": [
        {
          "output_type": "error",
          "ename": "SyntaxError",
          "evalue": "ignored",
          "traceback": [
            "\u001b[0;36m  File \u001b[0;32m\"<ipython-input-12-3223cd0c9eab>\"\u001b[0;36m, line \u001b[0;32m9\u001b[0m\n\u001b[0;31m    count(num)==0:\u001b[0m\n\u001b[0m                  ^\u001b[0m\n\u001b[0;31mSyntaxError\u001b[0m\u001b[0;31m:\u001b[0m invalid syntax\n"
          ]
        }
      ]
    },
    {
      "cell_type": "code",
      "metadata": {
        "id": "4V94j4iZr-DW",
        "outputId": "305c3f8e-ea35-4da1-cef3-bf51441999ff",
        "colab": {
          "base_uri": "https://localhost:8080/",
          "height": 34
        }
      },
      "source": [
        "numbers = [1, 3, 2, 1, 5, 3, 5, 1, 4]\n",
        "# Python code to count the number of occurrences \n",
        "def countX(lst, x): \n",
        "    num = 0\n",
        "    for ele in lst: \n",
        "        if (ele == x): \n",
        "            num = num + 1\n",
        "    return num \n",
        "  \n",
        "# Driver Code \n",
        "numbers = [1, 3, 2, 1, 5, 3, 5, 1, 4]\n",
        "x = 1\n",
        "print('{} has occurred {} times'.format(x, countX(numbers, x))) \n"
      ],
      "execution_count": null,
      "outputs": [
        {
          "output_type": "stream",
          "text": [
            "1 has occurred 3 times\n"
          ],
          "name": "stdout"
        }
      ]
    },
    {
      "cell_type": "markdown",
      "metadata": {
        "id": "TfNRaE4WptKR"
      },
      "source": [
        "8) Palindrome. Is string a palindrome? A palindrome is a word which reads the same backward as forwards.\n",
        "\n",
        "“ololo” ⇒ Yes\n",
        "“cafe” ⇒ No\n"
      ]
    },
    {
      "cell_type": "code",
      "metadata": {
        "id": "zkHJLS5DuC9y"
      },
      "source": [
        "def pailindrome(lst):\n",
        "  word=[]\n",
        "  for text in lst:\n",
        "    if lst[::-1]==lst[1::]:\n",
        "      word.append(text)\n",
        "    "
      ],
      "execution_count": null,
      "outputs": []
    },
    {
      "cell_type": "code",
      "metadata": {
        "id": "0fT27kPkrNH7"
      },
      "source": [
        "word_list=['mam','dad','coco','some']\n",
        "pailindrome(word_list)"
      ],
      "execution_count": null,
      "outputs": []
    },
    {
      "cell_type": "code",
      "metadata": {
        "id": "3iclLWQnrt2l",
        "outputId": "13311c6c-e82a-4afb-ed4d-505ebf14d1c5",
        "colab": {
          "base_uri": "https://localhost:8080/",
          "height": 34
        }
      },
      "source": [
        "def isPalindrome(s):\n",
        "    return s == s[::-1]\n",
        "# Driver code\n",
        "s = \"malayalam\"\n",
        "ans = isPalindrome(s)\n",
        " \n",
        "if ans:\n",
        "    print(\"Yes\")\n",
        "else:\n",
        "    print(\"No\")"
      ],
      "execution_count": null,
      "outputs": [
        {
          "output_type": "stream",
          "text": [
            "Yes\n"
          ],
          "name": "stdout"
        }
      ]
    },
    {
      "cell_type": "code",
      "metadata": {
        "id": "L27hueIqt88R"
      },
      "source": [
        "# function which return reverse of a string\n",
        " \n",
        "def isPalindrome(s):\n",
        "    return s == s[::-1]\n",
        " \n",
        " \n",
        "# Driver code\n",
        "s = \"malayalam\"\n",
        "ans = isPalindrome(s)\n",
        " \n",
        "if ans:\n",
        "    print(\"Yes\")\n",
        "else:\n",
        "    print(\"No\")"
      ],
      "execution_count": null,
      "outputs": []
    },
    {
      "cell_type": "code",
      "metadata": {
        "id": "1qFyVmC5sTao",
        "outputId": "688f5200-6dbc-44e6-9d42-606d41af1554",
        "colab": {
          "base_uri": "https://localhost:8080/",
          "height": 34
        }
      },
      "source": [
        "word_list=('mam','dad','jenia')\n",
        "is_palindrome(word_list)"
      ],
      "execution_count": null,
      "outputs": [
        {
          "output_type": "execute_result",
          "data": {
            "text/plain": [
              "False"
            ]
          },
          "metadata": {
            "tags": []
          },
          "execution_count": 23
        }
      ]
    },
    {
      "cell_type": "code",
      "metadata": {
        "id": "_EH3lwTYsgg1",
        "outputId": "2dc442d3-0962-4bc3-c627-d4d8d2f5fc0c",
        "colab": {
          "base_uri": "https://localhost:8080/",
          "height": 34
        }
      },
      "source": [
        "pal_names=('dad','mam','auto','science','madam','data')\n",
        "palindromes=list(filter(lambda word:word==word[::-1],pal_names))\n",
        "print(palindromes)"
      ],
      "execution_count": null,
      "outputs": [
        {
          "output_type": "stream",
          "text": [
            "['dad', 'mam', 'madam']\n"
          ],
          "name": "stdout"
        }
      ]
    },
    {
      "cell_type": "markdown",
      "metadata": {
        "id": "rS4McA293fcd"
      },
      "source": [
        "Counter. We have a list with identifiers of form “id-SITE”. Calculate how many ids we have per site.\n",
        "\n"
      ]
    },
    {
      "cell_type": "code",
      "metadata": {
        "id": "kRAT-En8tJXL"
      },
      "source": [
        "def count_identifier(id,str_lst):\n",
        "  result={}\n",
        "  for str in enumerate(id,str_lst):\n",
        "    if id>0:\n",
        "      result.append(id,str_lst)\n",
        "  return result"
      ],
      "execution_count": null,
      "outputs": []
    },
    {
      "cell_type": "code",
      "metadata": {
        "id": "fDTGA-cbEZTW"
      },
      "source": [
        "thisdict =\t{\n",
        "  \"brand\": \"Ford\",\n",
        "  \"model\": \"Mustang\",\n",
        "  \"year\": 1964\n",
        "}\n",
        "x = thisdict.get(\"model\")\n",
        "print(x)\n"
      ],
      "execution_count": null,
      "outputs": []
    },
    {
      "cell_type": "code",
      "metadata": {
        "id": "_2nYQnazEfex"
      },
      "source": [
        "dict={ 'site': 'id'}"
      ],
      "execution_count": null,
      "outputs": []
    },
    {
      "cell_type": "code",
      "metadata": {
        "id": "9Nyqm0gwvOQZ"
      },
      "source": [
        "def count_num(num_lst):\n",
        "   return set([num for num in num_lst if num_lst.count(num)>1])# set make it unique , count is amethod connected to list, the list is only passed in func\n",
        "   #to know the number of occurence"
      ],
      "execution_count": null,
      "outputs": []
    },
    {
      "cell_type": "code",
      "metadata": {
        "id": "6R0_S7usvxRz",
        "outputId": "a4418bf5-9d0a-44b0-f3ab-c836062cbdad",
        "colab": {
          "base_uri": "https://localhost:8080/",
          "height": 34
        }
      },
      "source": [
        "numlist=[1,1,1,2,3,3,4,4,4]\n",
        "count_num(numlist)\n"
      ],
      "execution_count": null,
      "outputs": [
        {
          "output_type": "execute_result",
          "data": {
            "text/plain": [
              "{1, 3, 4}"
            ]
          },
          "metadata": {
            "tags": []
          },
          "execution_count": 9
        }
      ]
    },
    {
      "cell_type": "code",
      "metadata": {
        "id": "oIZo-lLWwBoc"
      },
      "source": [
        "def count_num(num_lst):\n",
        "  result=[]\n",
        "  for num in num_lst:\n",
        "    if num_lst.count(num)>1 and num not in result:\n",
        "      result.append(num)\n",
        "  return result"
      ],
      "execution_count": null,
      "outputs": []
    },
    {
      "cell_type": "code",
      "metadata": {
        "id": "7xiFJx16yWWt",
        "outputId": "2576a0ab-08ed-4f37-ff1d-1e76eeed3917",
        "colab": {
          "base_uri": "https://localhost:8080/",
          "height": 34
        }
      },
      "source": [
        "numlist1=[1,1,1,2,3,3,4,4,4]\n",
        "\n",
        "count_num(numlist1)"
      ],
      "execution_count": null,
      "outputs": [
        {
          "output_type": "execute_result",
          "data": {
            "text/plain": [
              "[1, 3, 4]"
            ]
          },
          "metadata": {
            "tags": []
          },
          "execution_count": 7
        }
      ]
    },
    {
      "cell_type": "code",
      "metadata": {
        "id": "O-MWNyQJykNU",
        "outputId": "3e0a8e73-0217-4923-ecb8-bd01abdb27f1",
        "colab": {
          "base_uri": "https://localhost:8080/",
          "height": 34
        }
      },
      "source": [
        "list1=[1,2,3,4]\n",
        "list2=[5,6,7,8]\n",
        "print(len(list1+list2))"
      ],
      "execution_count": null,
      "outputs": [
        {
          "output_type": "stream",
          "text": [
            "8\n"
          ],
          "name": "stdout"
        }
      ]
    },
    {
      "cell_type": "code",
      "metadata": {
        "id": "DBkvPLZSy6Sa"
      },
      "source": [
        "# counting the frequency of website ids\n",
        "def new_list(ids):\n",
        "  res=[]\n",
        "  for i in ids:\n",
        "    id=i[-2:]\n",
        "    res.append(id)\n",
        "  print(res)\n"
      ],
      "execution_count": null,
      "outputs": []
    },
    {
      "cell_type": "code",
      "metadata": {
        "id": "nPTQG-feC_eD",
        "outputId": "b89844d8-ca46-458f-90e5-06c61b1bca97",
        "colab": {
          "base_uri": "https://localhost:8080/",
          "height": 34
        }
      },
      "source": [
        "\n",
        "new_list(['xgc89nmam8so3-ID', 'oo702mi2p5r2-IN','g80cj19c12p-IN','jcb4ozn87q63-PL','5kdkfo-UA','xgcc89nmam8so3-ID','5kgdkfo-UA','5knnkfo-UA'])"
      ],
      "execution_count": null,
      "outputs": [
        {
          "output_type": "stream",
          "text": [
            "['ID', 'IN', 'IN', 'PL', 'UA']\n"
          ],
          "name": "stdout"
        }
      ]
    },
    {
      "cell_type": "code",
      "metadata": {
        "id": "vDkVyByLHdFB"
      },
      "source": [
        "def new_list(ids):\n",
        "    res = []\n",
        "    for i in ids:\n",
        "        id = i[-2:]\n",
        "        res.append(id)\n",
        "    #print(res)\n",
        "    result = {}\n",
        "    for x in res:\n",
        "        result[x] = res.count(x)\n",
        "    return result"
      ],
      "execution_count": null,
      "outputs": []
    },
    {
      "cell_type": "code",
      "metadata": {
        "id": "XL_5XzuXJGk9",
        "outputId": "9e23b8d5-7bd3-4efd-bc04-f7a58ffe2c46",
        "colab": {
          "base_uri": "https://localhost:8080/",
          "height": 34
        }
      },
      "source": [
        "new_list(['xgc89nmam8so3-ID', 'oo702mi2p5r2-IN','g80cj19c12p-IN','jcb4ozn87q63-PL','5kdkfo-UA','xgcc89nmam8so3-ID','5kgdkfo-UA','5knnkfo-UA'])"
      ],
      "execution_count": null,
      "outputs": [
        {
          "output_type": "execute_result",
          "data": {
            "text/plain": [
              "{'ID': 2, 'IN': 2, 'PL': 1, 'UA': 3}"
            ]
          },
          "metadata": {
            "tags": []
          },
          "execution_count": 7
        }
      ]
    },
    {
      "cell_type": "code",
      "metadata": {
        "id": "vu72VsQaJW-V"
      },
      "source": [
        "#list comprehension\n",
        "def new_func(ids):\n",
        "    return {id: [i[-2:] for i in ids].count(id) for id in [i[-2:] for i in ids]}"
      ],
      "execution_count": null,
      "outputs": []
    },
    {
      "cell_type": "code",
      "metadata": {
        "id": "OxGC1vmsGiwb",
        "outputId": "938adb20-7670-419f-f117-a02492ffbe15",
        "colab": {
          "base_uri": "https://localhost:8080/",
          "height": 34
        }
      },
      "source": [
        "# 'aaaabbbcca' ⇒ [('a', 4), ('b', 3), ('c', 2), ('a', 1)]\n",
        "def count_alpha(alpha):\n",
        "    new_res={}\n",
        "    for x in alpha:\n",
        "        new_res[x] = alpha.count(x)\n",
        "    return new_res\n",
        "count_alpha('aaaabbbcca')"
      ],
      "execution_count": null,
      "outputs": [
        {
          "output_type": "execute_result",
          "data": {
            "text/plain": [
              "{'a': 5, 'b': 3, 'c': 2}"
            ]
          },
          "metadata": {
            "tags": []
          },
          "execution_count": 3
        }
      ]
    },
    {
      "cell_type": "code",
      "metadata": {
        "id": "pU50BH_dHKPr"
      },
      "source": [
        "def count(s):# i have string so i will pass a list, all i need dict , key is char, value is count\n",
        "\n",
        "  new_res={}\n",
        "  for x in s:\n",
        "    new_res[x]=s.count(x)\n",
        "  return new_res\n",
        "\n",
        "\n"
      ],
      "execution_count": null,
      "outputs": []
    },
    {
      "cell_type": "code",
      "metadata": {
        "id": "pVK8xbAgIGKb",
        "outputId": "f7107106-4296-41f0-a39c-13b580c723c8",
        "colab": {
          "base_uri": "https://localhost:8080/",
          "height": 34
        }
      },
      "source": [
        "count('aaaabbbcca')"
      ],
      "execution_count": null,
      "outputs": [
        {
          "output_type": "execute_result",
          "data": {
            "text/plain": [
              "{'a': 5, 'b': 3, 'c': 2}"
            ]
          },
          "metadata": {
            "tags": []
          },
          "execution_count": 5
        }
      ]
    },
    {
      "cell_type": "code",
      "metadata": {
        "id": "i9_f3Unayx0K"
      },
      "source": [
        "name = \"Khulood\"\n",
        "age = 18\n",
        "work = True"
      ],
      "execution_count": null,
      "outputs": []
    },
    {
      "cell_type": "code",
      "metadata": {
        "id": "Q7j_hq_CyyQZ",
        "outputId": "b94442da-0e4d-4ce7-cd35-341d7ab0a3a6",
        "colab": {
          "base_uri": "https://localhost:8080/",
          "height": 34
        }
      },
      "source": [
        "age == \"18\""
      ],
      "execution_count": null,
      "outputs": [
        {
          "output_type": "execute_result",
          "data": {
            "text/plain": [
              "False"
            ]
          },
          "metadata": {
            "tags": []
          },
          "execution_count": 5
        }
      ]
    },
    {
      "cell_type": "code",
      "metadata": {
        "id": "TuGeyQE2z2aP",
        "outputId": "d09bffe0-8ea6-4744-e227-544b008c454e",
        "colab": {
          "base_uri": "https://localhost:8080/",
          "height": 34
        }
      },
      "source": [
        "info = [\"Khulood\", 18, True]\n",
        "info[2]"
      ],
      "execution_count": null,
      "outputs": [
        {
          "output_type": "execute_result",
          "data": {
            "text/plain": [
              "True"
            ]
          },
          "metadata": {
            "tags": []
          },
          "execution_count": 8
        }
      ]
    },
    {
      "cell_type": "code",
      "metadata": {
        "id": "kVsE9ydh0MIC",
        "outputId": "75481e33-a9ed-423c-b0b9-3a37dd07cbae",
        "colab": {
          "base_uri": "https://localhost:8080/",
          "height": 34
        }
      },
      "source": [
        "info = {\n",
        "    \"name\": \"Khulood\",\n",
        "    \"age\": 18,\n",
        "    \"work\": True\n",
        "}\n",
        "info"
      ],
      "execution_count": null,
      "outputs": [
        {
          "output_type": "execute_result",
          "data": {
            "text/plain": [
              "{'age': 18, 'name': 'Khulood', 'work': True}"
            ]
          },
          "metadata": {
            "tags": []
          },
          "execution_count": 10
        }
      ]
    },
    {
      "cell_type": "code",
      "metadata": {
        "id": "lwAdLMOM1QCu",
        "outputId": "b8f5aeea-fcd1-41b7-d2dd-af50cb0f0518",
        "colab": {
          "base_uri": "https://localhost:8080/",
          "height": 34
        }
      },
      "source": [
        "if age >= 18:\n",
        "  print(\"Adult\")\n",
        "else:\n",
        "  print(\"Young\")\n",
        "# switch\n"
      ],
      "execution_count": null,
      "outputs": [
        {
          "output_type": "stream",
          "text": [
            "Adult\n"
          ],
          "name": "stdout"
        }
      ]
    },
    {
      "cell_type": "code",
      "metadata": {
        "id": "UJw4axUo1o9k"
      },
      "source": [
        "# for\n",
        "# while"
      ],
      "execution_count": null,
      "outputs": []
    },
    {
      "cell_type": "code",
      "metadata": {
        "id": "VSmDp0y9IO5k",
        "outputId": "7ebd1223-b893-443e-b9c9-6578702d12ad",
        "colab": {
          "base_uri": "https://localhost:8080/",
          "height": 34
        }
      },
      "source": [
        "from functools import reduce\n",
        "numbers = [3, 4, 6, 9, 10, 12]\n",
        "def abc(a, b):\n",
        "    return a * b\n",
        "result = reduce(abc, numbers)\n",
        "print(result)"
      ],
      "execution_count": null,
      "outputs": [
        {
          "output_type": "stream",
          "text": [
            "77760\n"
          ],
          "name": "stdout"
        }
      ]
    },
    {
      "cell_type": "code",
      "metadata": {
        "id": "fTha19kEa34j",
        "outputId": "4730043b-6b0c-429a-e48c-188a26f7fd60",
        "colab": {
          "base_uri": "https://localhost:8080/",
          "height": 136
        }
      },
      "source": [
        "# reverse string\n",
        "str1 = \"Khulood\"\n",
        "for char in str1[::-1]:\n",
        "  print(char)"
      ],
      "execution_count": null,
      "outputs": [
        {
          "output_type": "stream",
          "text": [
            "d\n",
            "o\n",
            "o\n",
            "l\n",
            "u\n",
            "h\n",
            "K\n"
          ],
          "name": "stdout"
        }
      ]
    },
    {
      "cell_type": "code",
      "metadata": {
        "id": "VzTHz9jeyzJp",
        "outputId": "31a6fb16-00ef-4fb0-d76d-26bd4577755b",
        "colab": {
          "base_uri": "https://localhost:8080/",
          "height": 136
        }
      },
      "source": [
        "str1 = \"Khulood\"\n",
        "c =0\n",
        "l = len(str1)\n",
        "for x in range(l):\n",
        "  print(f\"{x}= {l-x-1} {str1[l-x-1]}\")"
      ],
      "execution_count": null,
      "outputs": [
        {
          "output_type": "stream",
          "text": [
            "0= 6 d\n",
            "1= 5 o\n",
            "2= 4 o\n",
            "3= 3 l\n",
            "4= 2 u\n",
            "5= 1 h\n",
            "6= 0 K\n"
          ],
          "name": "stdout"
        }
      ]
    },
    {
      "cell_type": "code",
      "metadata": {
        "id": "wYgGi1LTzNdK",
        "outputId": "19d454c8-8ba0-4e5d-9a04-537d9ef44793",
        "colab": {
          "base_uri": "https://localhost:8080/",
          "height": 34
        }
      },
      "source": [
        "len(str)"
      ],
      "execution_count": null,
      "outputs": [
        {
          "output_type": "execute_result",
          "data": {
            "text/plain": [
              "7"
            ]
          },
          "metadata": {
            "tags": []
          },
          "execution_count": 20
        }
      ]
    },
    {
      "cell_type": "code",
      "metadata": {
        "id": "cmxyvTG46E5C",
        "outputId": "05de1a64-b3b2-434d-87ff-ae0f85280db2",
        "colab": {
          "base_uri": "https://localhost:8080/",
          "height": 34
        }
      },
      "source": [
        "import re\n",
        "\n",
        "#Check if the string starts with \"The\" and ends with \"Spain\":\n",
        "\n",
        "txt = \"im happy \"\n",
        "x = re.search(\"^im happy$\", txt)\n",
        "\n",
        "if x:\n",
        "  print(\"YES! We have a match!\")\n",
        "else:\n",
        "  print(\"No match\")\n"
      ],
      "execution_count": 1,
      "outputs": [
        {
          "output_type": "stream",
          "text": [
            "No match\n"
          ],
          "name": "stdout"
        }
      ]
    },
    {
      "cell_type": "code",
      "metadata": {
        "id": "G4oqpWSO82zz"
      },
      "source": [
        ""
      ],
      "execution_count": null,
      "outputs": []
    }
  ]
}