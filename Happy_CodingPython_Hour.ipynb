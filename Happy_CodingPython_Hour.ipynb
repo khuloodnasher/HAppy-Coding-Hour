{
  "nbformat": 4,
  "nbformat_minor": 0,
  "metadata": {
    "colab": {
      "name": "Happy CodingPython Hour.ipynb",
      "provenance": [],
      "authorship_tag": "ABX9TyMwkrmRePmmPJEyw0rD0T9n",
      "include_colab_link": true
    },
    "kernelspec": {
      "name": "python3",
      "display_name": "Python 3"
    }
  },
  "cells": [
    {
      "cell_type": "markdown",
      "metadata": {
        "id": "view-in-github",
        "colab_type": "text"
      },
      "source": [
        "<a href=\"https://colab.research.google.com/github/khuloodnasher/HAppy-Coding-Hour/blob/master/Happy_CodingPython_Hour.ipynb\" target=\"_parent\"><img src=\"https://colab.research.google.com/assets/colab-badge.svg\" alt=\"Open In Colab\"/></a>"
      ]
    },
    {
      "cell_type": "markdown",
      "metadata": {
        "id": "VJpD08ipsCyK",
        "colab_type": "text"
      },
      "source": [
        "Suppose you have a list of the folllowing numbers [1,2,3,2,4,3,3,4,2] how you can define a function to get the number of the duplicates\n",
        "\n"
      ]
    },
    {
      "cell_type": "code",
      "metadata": {
        "id": "wu9K2plphtyh",
        "colab_type": "code",
        "colab": {}
      },
      "source": [
        "# Python code to count the number of occurrences \n",
        "def countX(lst, x): \n",
        "    num = 0\n",
        "    for ele in lst: \n",
        "        if (ele == x): \n",
        "            num = num + 1\n",
        "    return num \n",
        "  \n"
      ],
      "execution_count": null,
      "outputs": []
    },
    {
      "cell_type": "code",
      "metadata": {
        "id": "X7kDJ9OPh9zU",
        "colab_type": "code",
        "colab": {
          "base_uri": "https://localhost:8080/",
          "height": 34
        },
        "outputId": "6bb72884-1d2e-49c9-8bea-3327eb39c752"
      },
      "source": [
        "#calling the function\n",
        "num_list= [1,2,3,2,4,3,3,4,2]\n",
        "x = 2\n",
        "countX(num_list, x)\n"
      ],
      "execution_count": null,
      "outputs": [
        {
          "output_type": "execute_result",
          "data": {
            "text/plain": [
              "3"
            ]
          },
          "metadata": {
            "tags": []
          },
          "execution_count": 40
        }
      ]
    },
    {
      "cell_type": "code",
      "metadata": {
        "id": "dubbKcfNh9-s",
        "colab_type": "code",
        "colab": {
          "base_uri": "https://localhost:8080/",
          "height": 34
        },
        "outputId": "497b49d0-bf9b-46db-9750-91358c0ce142"
      },
      "source": [
        "# Python code to count the number of occurrences \n",
        "def countX(lst, x): \n",
        "    num = 0\n",
        "    for ele in lst: \n",
        "        if (ele == x): \n",
        "            num = num + 1\n",
        "    return num \n",
        "  \n",
        "# Driver Code \n",
        "num_list= [1,2,3,2,4,3,3,4,2]\n",
        "x = 4\n",
        "print('{} has occurred {} times'.format(x, countX(num_list, x))) \n"
      ],
      "execution_count": null,
      "outputs": [
        {
          "output_type": "stream",
          "text": [
            "4 has occurred 2 times\n"
          ],
          "name": "stdout"
        }
      ]
    },
    {
      "cell_type": "code",
      "metadata": {
        "id": "VzWrmR9Uh-Jp",
        "colab_type": "code",
        "colab": {}
      },
      "source": [
        "num_list = [1, 2, 2, 3, 4, 3, 4,6,6,3]  \n",
        "\n",
        "\n",
        "def duplicate(items,a):\n",
        "\t\n",
        "\treturn items.count(a)"
      ],
      "execution_count": null,
      "outputs": []
    },
    {
      "cell_type": "code",
      "metadata": {
        "id": "llveStzIOTj-",
        "colab_type": "code",
        "colab": {
          "base_uri": "https://localhost:8080/",
          "height": 34
        },
        "outputId": "9fca9b3c-7f60-46dc-d905-2fd72c6b2914"
      },
      "source": [
        "duplicate(num_list,4)"
      ],
      "execution_count": null,
      "outputs": [
        {
          "output_type": "execute_result",
          "data": {
            "text/plain": [
              "2"
            ]
          },
          "metadata": {
            "tags": []
          },
          "execution_count": 59
        }
      ]
    },
    {
      "cell_type": "markdown",
      "metadata": {
        "id": "3SUtTV5uyBKL",
        "colab_type": "text"
      },
      "source": [
        "Method 2 (Using Counter())\n",
        "\n",
        "Counter method returns a dictionary with occurrences of all elements as a \n",
        "\n",
        "key-value pair, where key is the element and value is the number of times \n",
        "\n",
        "that element has occurred."
      ]
    },
    {
      "cell_type": "code",
      "metadata": {
        "id": "An0slao2zjzU",
        "colab_type": "code",
        "colab": {
          "base_uri": "https://localhost:8080/",
          "height": 34
        },
        "outputId": "a623a473-d3a2-4100-be83-5e50065345af"
      },
      "source": [
        "from collections import Counter\n",
        "num_list= [1, 1, 2, 2, 3, 3, 4, 4, 5, 5] \n",
        "\n",
        "numoccoured=Counter(num_list)\n",
        "num=4\n",
        "print('{} has occoured {} times'.format(num,numoccoured[num]))\n"
      ],
      "execution_count": null,
      "outputs": [
        {
          "output_type": "stream",
          "text": [
            "4 has occoured 2 times\n"
          ],
          "name": "stdout"
        }
      ]
    },
    {
      "cell_type": "code",
      "metadata": {
        "id": "h6w6sVgkOiyA",
        "colab_type": "code",
        "colab": {}
      },
      "source": [
        "from collections import Counter \n",
        "\n",
        "# declaring the list \n",
        "l = [1, 1, 2, 2, 3, 3, 4, 4, 5, 5] \n",
        "\n",
        "# driver program \n",
        "x = 3\n",
        "d = Counter(l) \n",
        "print('{} has occurred {} times'.format(x, d[x])) \n"
      ],
      "execution_count": null,
      "outputs": []
    },
    {
      "cell_type": "markdown",
      "metadata": {
        "id": "WcXbXSXmRSLa",
        "colab_type": "text"
      },
      "source": [
        " Write a Python program to find those numbers which are divisible by 7 and multiple of 5, between 1500 and 2700 (both included)."
      ]
    },
    {
      "cell_type": "code",
      "metadata": {
        "id": "swkCKQDxRTmC",
        "colab_type": "code",
        "colab": {
          "base_uri": "https://localhost:8080/",
          "height": 54
        },
        "outputId": "85629f7f-3821-4839-ba5a-ab0610800d21"
      },
      "source": [
        "  result=[]\n",
        "  for num in range(1500,2701):\n",
        "   \n",
        "   if (num%5==0) and (num%7==0):\n",
        "     result.append(str(num))\n",
        "print (','.join(result))"
      ],
      "execution_count": null,
      "outputs": [
        {
          "output_type": "stream",
          "text": [
            "1505,1540,1575,1610,1645,1680,1715,1750,1785,1820,1855,1890,1925,1960,1995,2030,2065,2100,2135,2170,2205,2240,2275,2310,2345,2380,2415,2450,2485,2520,2555,2590,2625,2660,2695\n"
          ],
          "name": "stdout"
        }
      ]
    },
    {
      "cell_type": "code",
      "metadata": {
        "id": "WLUXKcEQSZeg",
        "colab_type": "code",
        "colab": {}
      },
      "source": [
        "num7(1500)"
      ],
      "execution_count": null,
      "outputs": []
    },
    {
      "cell_type": "code",
      "metadata": {
        "id": "0DFkBLYBSfY_",
        "colab_type": "code",
        "colab": {}
      },
      "source": [
        "nl=[]\n",
        "for x in range(1500, 2701):\n",
        "    if (x%7==0) and (x%5==0):\n",
        "        nl.append(str(x))\n",
        "print (','.join(nl))\n"
      ],
      "execution_count": null,
      "outputs": []
    },
    {
      "cell_type": "markdown",
      "metadata": {
        "id": "R4o2_GpfjfJz",
        "colab_type": "text"
      },
      "source": [
        " Write a Python program to convert temperatures to and from celsius, fahrenheit.\n",
        "\n",
        "Let’s see the conversion formulas to convert temperature in degree Celsius to degree Fahrenheit and vice versa.\n",
        "\n",
        "Celsius = (Fahrenheit – 32) * 5/9\n",
        "\n",
        "Fahrenheit = (Celsius * 9/5) + 32"
      ]
    },
    {
      "cell_type": "code",
      "metadata": {
        "id": "rX9vPxIQjigF",
        "colab_type": "code",
        "colab": {
          "base_uri": "https://localhost:8080/",
          "height": 51
        },
        "outputId": "1fb26981-cf58-4b4a-87ed-cb89cf8c71f2"
      },
      "source": [
        "# from celsuis to fahrenhite\n",
        "celsius=float(input('Enter temperature in celsius:'))\n",
        "fahrenheit = (celsius * 9/5) + 32\n",
        "print(\"%.2f celsius is: %.2f Fahrenhite\" %(celsius,fahrenheit)) \n"
      ],
      "execution_count": null,
      "outputs": [
        {
          "output_type": "stream",
          "text": [
            "Enter temperature in celsius:73\n",
            "73.00 celsius is: 163.40 Fahrenhite\n"
          ],
          "name": "stdout"
        }
      ]
    },
    {
      "cell_type": "code",
      "metadata": {
        "id": "D42-l1NXtdSB",
        "colab_type": "code",
        "colab": {
          "base_uri": "https://localhost:8080/",
          "height": 51
        },
        "outputId": "485ba972-efcc-463d-8127-1395c469c401"
      },
      "source": [
        "# from Fahrenhite to celsius\n",
        "fahrenheit=float(input('Enter temprature in fahrenheit:'))\n",
        "celsius = (fahrenheit- 32) * 5/9\n",
        "print(\"%.2f Fahrenheit is: %.2f celsius \" % (fahrenheit,celsius))\n"
      ],
      "execution_count": null,
      "outputs": [
        {
          "output_type": "stream",
          "text": [
            "Enter temprature in fahrenheit:100\n",
            "100.00 Fahrenheit is: 37.78 celsius \n"
          ],
          "name": "stdout"
        }
      ]
    },
    {
      "cell_type": "markdown",
      "metadata": {
        "id": "z2dRkgF-fpiM",
        "colab_type": "text"
      },
      "source": [
        "#### Write a Python program that accepts a word from the user and reverse it."
      ]
    },
    {
      "cell_type": "code",
      "metadata": {
        "id": "ACUjlUcNLUft",
        "colab_type": "code",
        "colab": {}
      },
      "source": [
        "# Python code to reverse a string  \n",
        "# using extended slice syntax \n",
        "  \n",
        "# Function to reverse a string \n",
        "def reverse(string): \n",
        "    string = string[::-1] \n",
        "    return string "
      ],
      "execution_count": null,
      "outputs": []
    },
    {
      "cell_type": "markdown",
      "metadata": {
        "id": "BZtOXdCZuYhX",
        "colab_type": "text"
      },
      "source": [
        "check the ages of 10 random people above 35 years\n",
        "age =[25,45,30,59,20,55,81,65]"
      ]
    },
    {
      "cell_type": "code",
      "metadata": {
        "id": "CbKrEekeu7oL",
        "colab_type": "code",
        "colab": {
          "base_uri": "https://localhost:8080/",
          "height": 34
        },
        "outputId": "e6a56b55-2221-4cbb-8bfc-eb90cbff26db"
      },
      "source": [
        "age =[25,45,30,59,20,55,81,65]\n",
        "\n",
        "def check_age(age):\n",
        "   return  age>35\n",
        "   \n",
        "result=list(filter(check_age,age))\n",
        "print(result)\n",
        "     "
      ],
      "execution_count": 10,
      "outputs": [
        {
          "output_type": "stream",
          "text": [
            "[45, 59, 55, 81, 65]\n"
          ],
          "name": "stdout"
        }
      ]
    },
    {
      "cell_type": "markdown",
      "metadata": {
        "id": "rf-wCkTB085c",
        "colab_type": "text"
      },
      "source": [
        "checking if a word is palindrome or not .A 'palindrome' is a word that reads the same forward as backword\n"
      ]
    },
    {
      "cell_type": "code",
      "metadata": {
        "id": "_RR1xgwEv59p",
        "colab_type": "code",
        "colab": {
          "base_uri": "https://localhost:8080/",
          "height": 34
        },
        "outputId": "896e749d-dc30-47a3-b5a6-8f917c44ba46"
      },
      "source": [
        "pal_names=('dad','mam','auto','science','madam','data')\n",
        "palindromes=list(filter(lambda word:word==word[::-1],pal_names))\n",
        "print(palindromes)"
      ],
      "execution_count": 15,
      "outputs": [
        {
          "output_type": "stream",
          "text": [
            "['dad', 'mam', 'madam']\n"
          ],
          "name": "stdout"
        }
      ]
    },
    {
      "cell_type": "code",
      "metadata": {
        "id": "d98Ez0Zn1cCt",
        "colab_type": "code",
        "colab": {}
      },
      "source": [
        "number"
      ],
      "execution_count": null,
      "outputs": []
    },
    {
      "cell_type": "markdown",
      "metadata": {
        "id": "hAuDiL6ypbhw",
        "colab_type": "text"
      },
      "source": [
        "Coding (Python)\n",
        "1) FizzBuzz. Print numbers from 1 to 100\n",
        "\n",
        "If it’s a multiplier of 3, print “Fizz”\n",
        "If it’s a multiplier of 5, print “Buzz”\n",
        "If both 3 and 5 — “Fizz Buzz”\n",
        "Otherwise, print the number itself\n",
        "Example of output: 1, 2, Fizz, 4, Buzz, Fizz, 7, 8, Fizz, Buzz, 11, Fizz, 13, 14, Fizz Buzz, 16, 17, Fizz, 19, Buzz, Fizz, 22, 23, Fizz, Buzz, 26, Fizz, 28, 29, Fizz Buzz, 31, 32, Fizz, 34, Buzz, Fizz, …\n",
        "\n"
      ]
    },
    {
      "cell_type": "code",
      "metadata": {
        "id": "6MZBXQMBpdEq",
        "colab_type": "code",
        "colab": {
          "base_uri": "https://localhost:8080/",
          "height": 1000
        },
        "outputId": "66b32143-a943-4450-b0ce-6e270d482175"
      },
      "source": [
        "for i in range(1,101):\n",
        "  if i%3==0:\n",
        "    print('Fizz')\n",
        "  elif i % 5 == 0:\n",
        "     print( 'Buzz' )\n",
        "  elif i%5==0 and i%3==0:\n",
        "    print('Fizz Buzz' )\n",
        "  else:\n",
        "    print(i)\n",
        "\n",
        "\n"
      ],
      "execution_count": 10,
      "outputs": [
        {
          "output_type": "stream",
          "text": [
            "1\n",
            "2\n",
            "Fizz\n",
            "4\n",
            "Buzz\n",
            "Fizz\n",
            "7\n",
            "8\n",
            "Fizz\n",
            "Buzz\n",
            "11\n",
            "Fizz\n",
            "13\n",
            "14\n",
            "Fizz\n",
            "16\n",
            "17\n",
            "Fizz\n",
            "19\n",
            "Buzz\n",
            "Fizz\n",
            "22\n",
            "23\n",
            "Fizz\n",
            "Buzz\n",
            "26\n",
            "Fizz\n",
            "28\n",
            "29\n",
            "Fizz\n",
            "31\n",
            "32\n",
            "Fizz\n",
            "34\n",
            "Buzz\n",
            "Fizz\n",
            "37\n",
            "38\n",
            "Fizz\n",
            "Buzz\n",
            "41\n",
            "Fizz\n",
            "43\n",
            "44\n",
            "Fizz\n",
            "46\n",
            "47\n",
            "Fizz\n",
            "49\n",
            "Buzz\n",
            "Fizz\n",
            "52\n",
            "53\n",
            "Fizz\n",
            "Buzz\n",
            "56\n",
            "Fizz\n",
            "58\n",
            "59\n",
            "Fizz\n",
            "61\n",
            "62\n",
            "Fizz\n",
            "64\n",
            "Buzz\n",
            "Fizz\n",
            "67\n",
            "68\n",
            "Fizz\n",
            "Buzz\n",
            "71\n",
            "Fizz\n",
            "73\n",
            "74\n",
            "Fizz\n",
            "76\n",
            "77\n",
            "Fizz\n",
            "79\n",
            "Buzz\n",
            "Fizz\n",
            "82\n",
            "83\n",
            "Fizz\n",
            "Buzz\n",
            "86\n",
            "Fizz\n",
            "88\n",
            "89\n",
            "Fizz\n",
            "91\n",
            "92\n",
            "Fizz\n",
            "94\n",
            "Buzz\n",
            "Fizz\n",
            "97\n",
            "98\n",
            "Fizz\n",
            "Buzz\n"
          ],
          "name": "stdout"
        }
      ]
    },
    {
      "cell_type": "code",
      "metadata": {
        "id": "Ye9PCw_4toiy",
        "colab_type": "code",
        "colab": {}
      },
      "source": [
        "def factorial(n: int):\n",
        "    if n == 0 or n == 1:\n",
        "        return 1\n",
        "    else:\n",
        "        return n * factorial(n - 1)\n"
      ],
      "execution_count": 14,
      "outputs": []
    },
    {
      "cell_type": "code",
      "metadata": {
        "id": "v9QDnoEjwGSN",
        "colab_type": "code",
        "colab": {
          "base_uri": "https://localhost:8080/",
          "height": 34
        },
        "outputId": "72be2f45-befc-463b-b0c0-782bad12fd6d"
      },
      "source": [
        "factorial(4)"
      ],
      "execution_count": 18,
      "outputs": [
        {
          "output_type": "execute_result",
          "data": {
            "text/plain": [
              "24"
            ]
          },
          "metadata": {
            "tags": []
          },
          "execution_count": 18
        }
      ]
    },
    {
      "cell_type": "code",
      "metadata": {
        "id": "pU_1ipCHwMEt",
        "colab_type": "code",
        "colab": {}
      },
      "source": [
        "def factorial(n): \n",
        "    if n < 0: \n",
        "        return 0\n",
        "    elif n == 0 or n == 1: \n",
        "        return 1\n",
        "    else: \n",
        "        fact = 1\n",
        "        while n>1:\n",
        "            fact *= n \n",
        "            n -= 1\n",
        "        return fact \n",
        "  "
      ],
      "execution_count": 16,
      "outputs": []
    },
    {
      "cell_type": "code",
      "metadata": {
        "id": "Tjr9TWohJA4f",
        "colab_type": "code",
        "colab": {
          "base_uri": "https://localhost:8080/",
          "height": 34
        },
        "outputId": "919be6ad-be35-4f80-86c9-f4ba06166668"
      },
      "source": [
        "factorial(3)\n",
        "\n"
      ],
      "execution_count": 17,
      "outputs": [
        {
          "output_type": "execute_result",
          "data": {
            "text/plain": [
              "6"
            ]
          },
          "metadata": {
            "tags": []
          },
          "execution_count": 17
        }
      ]
    },
    {
      "cell_type": "code",
      "metadata": {
        "id": "Qlx9LcBSJENX",
        "colab_type": "code",
        "colab": {}
      },
      "source": [
        "def factorial(n):\n",
        "  if n==1 or n==0:\n",
        "    return 1\n",
        "  elif n<0:\n",
        "    return 0\n",
        "  else:\n",
        "    fact=1\n",
        "    while (n>1):\n",
        "      fact*=n\n",
        "      n-=1\n",
        "    return fact"
      ],
      "execution_count": 14,
      "outputs": []
    },
    {
      "cell_type": "code",
      "metadata": {
        "id": "GQ_rR5LzRnpw",
        "colab_type": "code",
        "colab": {
          "base_uri": "https://localhost:8080/",
          "height": 34
        },
        "outputId": "3661e714-26c0-4b3b-ed7c-c21bb23024e2"
      },
      "source": [
        "factorial(3)"
      ],
      "execution_count": 15,
      "outputs": [
        {
          "output_type": "execute_result",
          "data": {
            "text/plain": [
              "6"
            ]
          },
          "metadata": {
            "tags": []
          },
          "execution_count": 15
        }
      ]
    },
    {
      "cell_type": "markdown",
      "metadata": {
        "id": "GySb0GXYThIH",
        "colab_type": "text"
      },
      "source": [
        "We can also write this function using recursion:"
      ]
    },
    {
      "cell_type": "code",
      "metadata": {
        "id": "j_uX_wPaRxmg",
        "colab_type": "code",
        "colab": {}
      },
      "source": [
        "\n",
        "\n",
        "def factorial(n: int):\n",
        "    if n == 0 or n == 1:\n",
        "        return 1\n",
        "    else:\n",
        "        return n * factorial(n - 1)\n"
      ],
      "execution_count": null,
      "outputs": []
    },
    {
      "cell_type": "code",
      "metadata": {
        "id": "XE5i0UzhTr2s",
        "colab_type": "code",
        "colab": {}
      },
      "source": [
        "def factoroal(n:int):\n",
        "  if n==0 or n==1:\n",
        "    return 1\n",
        "  else:\n",
        "    return n* factorial (n-1)"
      ],
      "execution_count": 18,
      "outputs": []
    },
    {
      "cell_type": "code",
      "metadata": {
        "id": "gxxu3BEXUBdH",
        "colab_type": "code",
        "colab": {
          "base_uri": "https://localhost:8080/",
          "height": 34
        },
        "outputId": "f9251725-e3f7-4c2d-dc09-3dc10f839d2f"
      },
      "source": [
        "factorial(4)"
      ],
      "execution_count": 19,
      "outputs": [
        {
          "output_type": "execute_result",
          "data": {
            "text/plain": [
              "24"
            ]
          },
          "metadata": {
            "tags": []
          },
          "execution_count": 19
        }
      ]
    },
    {
      "cell_type": "code",
      "metadata": {
        "id": "t1YAUIEWRq9m",
        "colab_type": "code",
        "colab": {
          "base_uri": "https://localhost:8080/",
          "height": 34
        },
        "outputId": "721d0bed-2e6f-42a3-c857-95a3f4a39716"
      },
      "source": [
        "def factorial(n):# multiplication problem always result=1, addition problem result=0\n",
        "  if n>1:\n",
        "    result=1\n",
        "  for i in range(1,n+1):\n",
        "    result=result*i\n",
        "  return result\n",
        "factorial(4)"
      ],
      "execution_count": 11,
      "outputs": [
        {
          "output_type": "execute_result",
          "data": {
            "text/plain": [
              "24"
            ]
          },
          "metadata": {
            "tags": []
          },
          "execution_count": 11
        }
      ]
    },
    {
      "cell_type": "code",
      "metadata": {
        "id": "vBAP_my3Tdp6",
        "colab_type": "code",
        "colab": {}
      },
      "source": [
        "# Factorial of a number\n",
        "def factorial_num(num):\n",
        "    fact = 1\n",
        "    if num < 0:\n",
        "        print(\"Enter positive number\")\n",
        "    elif num == 0:\n",
        "        print(\"Factorial of 0 is 1\")\n",
        "    else:\n",
        "        for i in range(1,num+1):\n",
        "            fact =  fact * i\n",
        "        print(\"Factorial of a number is : \", fact)\n",
        "  \n",
        "  "
      ],
      "execution_count": 8,
      "outputs": []
    },
    {
      "cell_type": "code",
      "metadata": {
        "id": "QJ-LWb2zT3Dr",
        "colab_type": "code",
        "colab": {
          "base_uri": "https://localhost:8080/",
          "height": 34
        },
        "outputId": "9660cfa8-e5d0-4f59-e632-761185aebf92"
      },
      "source": [
        "factorial_num(4)\n"
      ],
      "execution_count": 9,
      "outputs": [
        {
          "output_type": "stream",
          "text": [
            "Factorial of a number is :  24\n"
          ],
          "name": "stdout"
        }
      ]
    },
    {
      "cell_type": "markdown",
      "metadata": {
        "id": "z6F_KjfnVeQa",
        "colab_type": "text"
      },
      "source": [
        "3) Mean. Compute the mean of number in a list\n",
        "\n",
        "mean([4, 36, 45, 50, 75]) = 42\n",
        "mean([]) = NaN (use float('NaN'))\n"
      ]
    },
    {
      "cell_type": "code",
      "metadata": {
        "id": "1sJc4DvBWohP",
        "colab_type": "code",
        "colab": {}
      },
      "source": [
        "def compute_mean(num_list):\n",
        "\n",
        "  for i in num_list:\n",
        "    mean=sum(num_list)/len(num_list)\n",
        "    return mean\n",
        "\n"
      ],
      "execution_count": 23,
      "outputs": []
    },
    {
      "cell_type": "code",
      "metadata": {
        "id": "6KMk1gy3Xibt",
        "colab_type": "code",
        "colab": {
          "base_uri": "https://localhost:8080/",
          "height": 34
        },
        "outputId": "f1fd85b5-c9cd-482f-dd94-662790282d0f"
      },
      "source": [
        "num_list1=[4, 36, 45, 50, 75]\n",
        "compute_mean(num_list1)"
      ],
      "execution_count": 24,
      "outputs": [
        {
          "output_type": "execute_result",
          "data": {
            "text/plain": [
              "42.0"
            ]
          },
          "metadata": {
            "tags": []
          },
          "execution_count": 24
        }
      ]
    },
    {
      "cell_type": "code",
      "metadata": {
        "id": "A38QiIgpYQHg",
        "colab_type": "code",
        "colab": {
          "base_uri": "https://localhost:8080/",
          "height": 34
        },
        "outputId": "383f0307-25da-4a72-bc2c-df4263ba6db9"
      },
      "source": [
        "num_list1=[4, 36, 45, 50, 75]\n",
        "def mean(numbers):\n",
        "    if len(numbers) > 0:\n",
        "        return sum(numbers) / len(numbers)\n",
        "mean(num_list1)"
      ],
      "execution_count": 20,
      "outputs": [
        {
          "output_type": "execute_result",
          "data": {
            "text/plain": [
              "42.0"
            ]
          },
          "metadata": {
            "tags": []
          },
          "execution_count": 20
        }
      ]
    },
    {
      "cell_type": "code",
      "metadata": {
        "id": "q-EgRcv7UGhu",
        "colab_type": "code",
        "colab": {}
      },
      "source": [
        "from math import sqrt\n",
        "\n",
        "def std_dev(numbers):\n",
        "    if len(numbers) > 0:\n",
        "        avg = mean(numbers)\n",
        "        var = sum([(i - avg) ** 2 for i in numbers]) / len(numbers)\n",
        "        ans = sqrt(var)\n",
        "        return ans\n",
        "    return float('NaN')"
      ],
      "execution_count": 20,
      "outputs": []
    },
    {
      "cell_type": "code",
      "metadata": {
        "id": "WUO7cXkJv-vU",
        "colab_type": "code",
        "colab": {
          "base_uri": "https://localhost:8080/",
          "height": 283
        },
        "outputId": "36cc4ae2-0ec4-43fb-cdbd-1abb9a20da0a"
      },
      "source": [
        "std_dev([100,20,30])"
      ],
      "execution_count": 21,
      "outputs": [
        {
          "output_type": "error",
          "ename": "NameError",
          "evalue": "ignored",
          "traceback": [
            "\u001b[0;31m---------------------------------------------------------------------------\u001b[0m",
            "\u001b[0;31mNameError\u001b[0m                                 Traceback (most recent call last)",
            "\u001b[0;32m<ipython-input-21-9cac72dfc993>\u001b[0m in \u001b[0;36m<module>\u001b[0;34m()\u001b[0m\n\u001b[0;32m----> 1\u001b[0;31m \u001b[0mstd_dev\u001b[0m\u001b[0;34m(\u001b[0m\u001b[0;34m[\u001b[0m\u001b[0;36m100\u001b[0m\u001b[0;34m,\u001b[0m\u001b[0;36m20\u001b[0m\u001b[0;34m,\u001b[0m\u001b[0;36m30\u001b[0m\u001b[0;34m]\u001b[0m\u001b[0;34m)\u001b[0m\u001b[0;34m\u001b[0m\u001b[0;34m\u001b[0m\u001b[0m\n\u001b[0m",
            "\u001b[0;32m<ipython-input-20-533dd9effc29>\u001b[0m in \u001b[0;36mstd_dev\u001b[0;34m(numbers)\u001b[0m\n\u001b[1;32m      3\u001b[0m \u001b[0;32mdef\u001b[0m \u001b[0mstd_dev\u001b[0m\u001b[0;34m(\u001b[0m\u001b[0mnumbers\u001b[0m\u001b[0;34m)\u001b[0m\u001b[0;34m:\u001b[0m\u001b[0;34m\u001b[0m\u001b[0;34m\u001b[0m\u001b[0m\n\u001b[1;32m      4\u001b[0m     \u001b[0;32mif\u001b[0m \u001b[0mlen\u001b[0m\u001b[0;34m(\u001b[0m\u001b[0mnumbers\u001b[0m\u001b[0;34m)\u001b[0m \u001b[0;34m>\u001b[0m \u001b[0;36m0\u001b[0m\u001b[0;34m:\u001b[0m\u001b[0;34m\u001b[0m\u001b[0;34m\u001b[0m\u001b[0m\n\u001b[0;32m----> 5\u001b[0;31m         \u001b[0mavg\u001b[0m \u001b[0;34m=\u001b[0m \u001b[0mmean\u001b[0m\u001b[0;34m(\u001b[0m\u001b[0mnumbers\u001b[0m\u001b[0;34m)\u001b[0m\u001b[0;34m\u001b[0m\u001b[0;34m\u001b[0m\u001b[0m\n\u001b[0m\u001b[1;32m      6\u001b[0m         \u001b[0mvar\u001b[0m \u001b[0;34m=\u001b[0m \u001b[0msum\u001b[0m\u001b[0;34m(\u001b[0m\u001b[0;34m[\u001b[0m\u001b[0;34m(\u001b[0m\u001b[0mi\u001b[0m \u001b[0;34m-\u001b[0m \u001b[0mavg\u001b[0m\u001b[0;34m)\u001b[0m \u001b[0;34m**\u001b[0m \u001b[0;36m2\u001b[0m \u001b[0;32mfor\u001b[0m \u001b[0mi\u001b[0m \u001b[0;32min\u001b[0m \u001b[0mnumbers\u001b[0m\u001b[0;34m]\u001b[0m\u001b[0;34m)\u001b[0m \u001b[0;34m/\u001b[0m \u001b[0mlen\u001b[0m\u001b[0;34m(\u001b[0m\u001b[0mnumbers\u001b[0m\u001b[0;34m)\u001b[0m\u001b[0;34m\u001b[0m\u001b[0;34m\u001b[0m\u001b[0m\n\u001b[1;32m      7\u001b[0m         \u001b[0mans\u001b[0m \u001b[0;34m=\u001b[0m \u001b[0msqrt\u001b[0m\u001b[0;34m(\u001b[0m\u001b[0mvar\u001b[0m\u001b[0;34m)\u001b[0m\u001b[0;34m\u001b[0m\u001b[0;34m\u001b[0m\u001b[0m\n",
            "\u001b[0;31mNameError\u001b[0m: name 'mean' is not defined"
          ]
        }
      ]
    },
    {
      "cell_type": "code",
      "metadata": {
        "id": "NmY-qIOOwFkW",
        "colab_type": "code",
        "colab": {}
      },
      "source": [
        ""
      ],
      "execution_count": null,
      "outputs": []
    }
  ]
}